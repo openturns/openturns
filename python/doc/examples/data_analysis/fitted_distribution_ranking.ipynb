{
 "cells": [
  {
   "cell_type": "markdown",
   "metadata": {},
   "source": [
    "# Select fitted distributions"
   ]
  },
  {
   "cell_type": "markdown",
   "metadata": {},
   "source": [
    "In this example help to make a choice between several distributions fitted to a sample.\n",
    "\n",
    "Several methods can be used:\n",
    "\n",
    "- the ranking by the Kolmogorov p-values (for continuous distributions),\n",
    "- the ranking by the ChiSquared p-values (for discrete distributions),\n",
    "- the ranking by BIC values."
   ]
  },
  {
   "cell_type": "code",
   "execution_count": 1,
   "metadata": {},
   "outputs": [],
   "source": [
    "from __future__ import print_function\n",
    "import openturns as ot"
   ]
  },
  {
   "cell_type": "code",
   "execution_count": 2,
   "metadata": {},
   "outputs": [
    {
     "data": {
      "image/png": "[encoded data removed]",
      "text/plain": [
       "class=Graph name=X0 CDF implementation=class=GraphImplementation name=X0 CDF title=X0 CDF xTitle=X0 yTitle=CDF axes=ON grid=ON legendposition=topleft legendFontSize=1 drawables=[class=Drawable name=X0 CDF implementation=class=Staircase name=X0 CDF pattern=s derived from class=DrawableImplementation name=X0 CDF legend=X0 CDF data=class=Sample name=Unnamed implementation=class=SampleImplementation name=Unnamed size=1002 dimension=2 data=[[-0.43346,0],[0.0126691,0.001],[0.0206353,0.002],...,[0.981508,0.999],[0.982826,1],[1.46199,1]] color=red fillStyle=solid lineStyle=solid pointStyle=plus lineWidth=2]"
      ]
     },
     "execution_count": 2,
     "metadata": {},
     "output_type": "execute_result"
    }
   ],
   "source": [
    "# Create a sample from a continuous distribution\n",
    "distribution = ot.Beta(2.0, 2.0, 0.0, 1.)\n",
    "sample = distribution.getSample(1000)\n",
    "ot.UserDefined(sample).drawCDF()"
   ]
  },
  {
   "cell_type": "markdown",
   "metadata": {},
   "source": [
    "**1. Specify the model only**"
   ]
  },
  {
   "cell_type": "code",
   "execution_count": 3,
   "metadata": {},
   "outputs": [],
   "source": [
    "# Create the list of distribution estimators\n",
    "factories = [ot.BetaFactory(), ot.TriangularFactory()]"
   ]
  },
  {
   "cell_type": "code",
   "execution_count": 4,
   "metadata": {},
   "outputs": [
    {
     "data": {
      "text/html": [
       "<p>class=TestResult name=Unnamed type=Kolmogorov Beta binaryQualityMeasure=true p-value threshold=0.5 p-value=0.7 statistic=0.0152829 description=[Beta(alpha = 1.82673, beta = 1.69512, a = 0.0117009, b = 0.983794) vs sample Beta]</p>"
      ],
      "text/plain": [
       "class=TestResult name=Unnamed type=Kolmogorov Beta binaryQualityMeasure=true p-value threshold=0.5 p-value=0.7 statistic=0.0152829 description=[Beta(alpha = 1.82673, beta = 1.69512, a = 0.0117009, b = 0.983794) vs sample Beta]"
      ]
     },
     "execution_count": 4,
     "metadata": {},
     "output_type": "execute_result"
    }
   ],
   "source": [
    "# Rank the continuous models by the Kolmogorov p-values:\n",
    "estimated_distribution, test_result = ot.FittingTest.BestModelKolmogorov(sample, factories)\n",
    "test_result"
   ]
  },
  {
   "cell_type": "code",
   "execution_count": 5,
   "metadata": {},
   "outputs": [
    {
     "data": {
      "text/plain": [
       "[class=Beta name=Beta dimension=1 alpha=1.82673 beta=1.69512 a=0.0117009 b=0.983794,\n",
       " -0.1828338429879409]"
      ]
     },
     "execution_count": 5,
     "metadata": {},
     "output_type": "execute_result"
    }
   ],
   "source": [
    "# Rank the continuous models wrt the BIC criteria (no test result):\n",
    "ot.FittingTest.BestModelBIC(sample, factories)"
   ]
  },
  {
   "cell_type": "code",
   "execution_count": 6,
   "metadata": {},
   "outputs": [
    {
     "data": {
      "text/plain": [
       "[class=Beta name=Beta dimension=1 alpha=1.82673 beta=1.69512 a=0.0117009 b=0.983794,\n",
       " -0.20246486410386944]"
      ]
     },
     "execution_count": 6,
     "metadata": {},
     "output_type": "execute_result"
    }
   ],
   "source": [
    "# Rank the continuous models wrt the AIC criteria (no test result):\n",
    "ot.FittingTest.BestModelAIC(sample, factories)"
   ]
  },
  {
   "cell_type": "code",
   "execution_count": 7,
   "metadata": {},
   "outputs": [
    {
     "data": {
      "text/plain": [
       "[class=Beta name=Beta dimension=1 alpha=1.82673 beta=1.69512 a=0.0117009 b=0.983794,\n",
       " -0.2024246630988443]"
      ]
     },
     "execution_count": 7,
     "metadata": {},
     "output_type": "execute_result"
    }
   ],
   "source": [
    "# Rank the continuous models wrt the AICc criteria (no test result):\n",
    "ot.FittingTest.BestModelAICC(sample, factories)"
   ]
  },
  {
   "cell_type": "markdown",
   "metadata": {},
   "source": [
    "**2. Specify the model and its parameters**"
   ]
  },
  {
   "cell_type": "code",
   "execution_count": 8,
   "metadata": {},
   "outputs": [],
   "source": [
    "# Create a collection of the distributions to be tested\n",
    "distributions = [ot.Beta(2.0, 2.0, 0.0, 1.0), ot.Triangular(0.0, 0.5, 1.0)]"
   ]
  },
  {
   "cell_type": "code",
   "execution_count": 9,
   "metadata": {},
   "outputs": [
    {
     "data": {
      "text/html": [
       "<p>class=TestResult name=Unnamed type=Kolmogorov Beta binaryQualityMeasure=false p-value threshold=0.05 p-value=0.0291473 statistic=0.0458091 description=[Beta(alpha = 2, beta = 2, a = 0, b = 1) vs sample Beta]</p>"
      ],
      "text/plain": [
       "class=TestResult name=Unnamed type=Kolmogorov Beta binaryQualityMeasure=false p-value threshold=0.05 p-value=0.0291473 statistic=0.0458091 description=[Beta(alpha = 2, beta = 2, a = 0, b = 1) vs sample Beta]"
      ]
     },
     "execution_count": 9,
     "metadata": {},
     "output_type": "execute_result"
    }
   ],
   "source": [
    "# Rank the continuous models by the Kolmogorov p-values:\n",
    "estimated_distribution, test_result = ot.FittingTest.BestModelKolmogorov(sample, distributions)\n",
    "test_result"
   ]
  },
  {
   "cell_type": "code",
   "execution_count": 10,
   "metadata": {},
   "outputs": [
    {
     "data": {
      "text/plain": [
       "[class=Beta name=Beta dimension=1 alpha=2 beta=2 a=0 b=1, -0.21016253990533829]"
      ]
     },
     "execution_count": 10,
     "metadata": {},
     "output_type": "execute_result"
    }
   ],
   "source": [
    "# Rank the continuous models wrt the BIC criteria:\n",
    "ot.FittingTest.BestModelBIC(sample, distributions)"
   ]
  },
  {
   "cell_type": "code",
   "execution_count": 11,
   "metadata": {},
   "outputs": [
    {
     "data": {
      "text/plain": [
       "[class=Beta name=Beta dimension=1 alpha=2 beta=2 a=0 b=1, -0.21016253990533829]"
      ]
     },
     "execution_count": 11,
     "metadata": {},
     "output_type": "execute_result"
    }
   ],
   "source": [
    "# Rank the continuous models wrt the AIC criteria:\n",
    "ot.FittingTest.BestModelAIC(sample, distributions)"
   ]
  },
  {
   "cell_type": "code",
   "execution_count": 12,
   "metadata": {},
   "outputs": [
    {
     "data": {
      "text/plain": [
       "[class=Beta name=Beta dimension=1 alpha=2 beta=2 a=0 b=1, -0.21016253990533829]"
      ]
     },
     "execution_count": 12,
     "metadata": {},
     "output_type": "execute_result"
    }
   ],
   "source": [
    "# Rank the continuous models wrt the AICc criteria:\n",
    "ot.FittingTest.BestModelAICC(sample, distributions)"
   ]
  },
  {
   "cell_type": "markdown",
   "metadata": {},
   "source": [
    "Nota: we notice the same value for `BIC`, `AIC`, `AICc`. Here the reason is that number of estimated parameters is 0, thus there is no penalty!"
   ]
  },
  {
   "cell_type": "markdown",
   "metadata": {},
   "source": [
    "**Discrete distributions**"
   ]
  },
  {
   "cell_type": "code",
   "execution_count": 13,
   "metadata": {},
   "outputs": [
    {
     "data": {
      "image/png": "[encoded data removed]",
      "text/plain": [
       "class=Graph name=X0 CDF implementation=class=GraphImplementation name=X0 CDF title=X0 CDF xTitle=X0 yTitle=CDF axes=ON grid=ON legendposition=topleft legendFontSize=1 drawables=[class=Drawable name=X0 CDF implementation=class=Staircase name=X0 CDF pattern=s derived from class=DrawableImplementation name=X0 CDF legend=X0 CDF data=class=Sample name=Unnamed implementation=class=SampleImplementation name=Unnamed size=8 dimension=2 data=[[-1,0],[0,0.138],[1,0.417],[2,0.693],[3,0.864],[4,0.954],[5,0.979],[5.6,0.979]] color=red fillStyle=solid lineStyle=solid pointStyle=plus lineWidth=2]"
      ]
     },
     "execution_count": 13,
     "metadata": {},
     "output_type": "execute_result"
    }
   ],
   "source": [
    "# Create a sample from a discrete distribution\n",
    "distribution = ot.Poisson(2.0)\n",
    "sample = distribution.getSample(1000)\n",
    "ot.UserDefined(sample).drawCDF()"
   ]
  },
  {
   "cell_type": "code",
   "execution_count": 14,
   "metadata": {},
   "outputs": [],
   "source": [
    "# Create the list of distribution estimators\n",
    "distributions = [ot.Poisson(2.0), ot.Geometric(0.1)]"
   ]
  },
  {
   "cell_type": "code",
   "execution_count": 15,
   "metadata": {},
   "outputs": [
    {
     "data": {
      "text/html": [
       "<p>class=TestResult name=Unnamed type=ChiSquared Poisson binaryQualityMeasure=true p-value threshold=0.05 p-value=0.480899 statistic=5.50462 description=[Poisson(lambda = 2) vs sample Poisson]</p>"
      ],
      "text/plain": [
       "class=TestResult name=Unnamed type=ChiSquared Poisson binaryQualityMeasure=true p-value threshold=0.05 p-value=0.480899 statistic=5.50462 description=[Poisson(lambda = 2) vs sample Poisson]"
      ]
     },
     "execution_count": 15,
     "metadata": {},
     "output_type": "execute_result"
    }
   ],
   "source": [
    "# Rank the discrete models wrt the ChiSquared p-values:\n",
    "estimated_distribution, test_result = ot.FittingTest.BestModelChiSquared(sample, distributions)\n",
    "test_result"
   ]
  },
  {
   "cell_type": "code",
   "execution_count": 16,
   "metadata": {},
   "outputs": [
    {
     "data": {
      "text/plain": [
       "[class=Poisson name=Poisson dimension=1 lambda=2, 3.3929905411578307]"
      ]
     },
     "execution_count": 16,
     "metadata": {},
     "output_type": "execute_result"
    }
   ],
   "source": [
    "# Rank the discrete models wrt the BIC criteria:\n",
    "ot.FittingTest.BestModelBIC(sample, distributions)"
   ]
  }
 ],
 "metadata": {
  "kernelspec": {
   "display_name": "Python 3",
   "language": "python",
   "name": "python3"
  },
  "language_info": {
   "codemirror_mode": {
    "name": "ipython",
    "version": 3
   },
   "file_extension": ".py",
   "mimetype": "text/x-python",
   "name": "python",
   "nbconvert_exporter": "python",
   "pygments_lexer": "ipython3",
   "version": "3.7.3"
  }
 },
 "nbformat": 4,
 "nbformat_minor": 1
}
