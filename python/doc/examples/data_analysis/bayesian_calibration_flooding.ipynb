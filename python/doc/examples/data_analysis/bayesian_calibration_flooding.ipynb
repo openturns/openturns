{
 "cells": [
  {
   "cell_type": "markdown",
   "metadata": {},
   "source": [
    "# Bayesian calibration of the flooding model\n",
    "\n",
    "## Abstract\n",
    "\n",
    "The goal of this example is to present the statistical hypotheses of the bayesian calibration of the flooding model.\n",
    "\n",
    "## Model\n",
    "\n",
    "The simulator predicts the water height H depending on the flowrate Q.\n",
    "\n",
    "We consider the following four variable:\n",
    "\n",
    "* Q : the river flowrate ($m^3/s$)\n",
    "* Ks : the Strickler coefficient ($m^{1/3}/s$)\n",
    "* Zv : the downstream riverbed level (m)\n",
    "* Zm : the upstream riverbed level (m)\n",
    "\n",
    "When the Strickler coefficient increases, the riverbed generates less friction to the water flow.\n",
    "\n",
    "## Parameters\n",
    "\n",
    "We consider the following parameters:\n",
    "\n",
    "* the length of the river L = 5000 (m),\n",
    "* the width of the river B = 300 (m).\n",
    "\n",
    "## Outputs\n",
    "\n",
    "We make the hypothesis that the slope of the river is nonpositive and close to zero, which implies: \n",
    "$$\n",
    "\\alpha = \\frac{Z_m - Z_v}{L},\n",
    "$$\n",
    "if $Z_m \\geq Z_v$. \n",
    "The height of the river is:\n",
    "$$\n",
    "H = \\left(\\frac{Q}{K_s B \\sqrt{\\alpha}}\\right)^{0.6},\n",
    "$$\n",
    "for any $K_s, Q>0$.\n",
    "\n",
    "## Distribution\n",
    "\n",
    "We assume that the river flowrate has the following truncated Gumbel distribution:\n",
    "\n",
    "|Variable|Distribution|\n",
    "| ------------- |-------------|\n",
    "|Q|Gumbel(scale=558, mode=1013)>0|\n",
    "\n",
    "## Parameters to calibrate\n",
    "\n",
    "The vector of parameters to calibrate is: \n",
    "$$\n",
    "\\theta = (K_s,Z_v,Z_m).\n",
    "$$\n",
    "\n",
    "The variables to calibrate are $(K_s,Z_v,Z_m)$ and are set to the following values:\n",
    "$$\n",
    "K_s = 30, \\qquad Z_v = 50, \\qquad Z_m = 55.\n",
    "$$\n",
    "\n",
    "## Observations\n",
    "\n",
    "In this section, we describe the statistical model associated with the $n$ observations.\n",
    "The errors of the water heights are associated with a gaussian distribution with a zero mean and a standard variation equal to:\n",
    "$$\n",
    "\\sigma=0.1.\n",
    "$$\n",
    "Therefore, the observed water heights are:\n",
    "$$\n",
    "H_i = G(Q_i,K_s,Z_v,Z_m) + \\epsilon_i\n",
    "$$\n",
    "for $i=1,...,n$ where\n",
    "$$\n",
    "\\epsilon \\sim \\mathcal{N}(0,\\sigma^2)\n",
    "$$\n",
    "and we make the hypothesis that the observation errors are independent.\n",
    "We consider a sample size equal to:\n",
    "$$\n",
    "n=20.\n",
    "$$\n",
    "The observations are the couples $\\{(Q_i,H_i)\\}_{i=1,...,n}$, i.e. each observation is a couple made of the flowrate and the corresponding river height.\n",
    "\n",
    "## Analysis\n",
    "\n",
    "In this model, the variables $Z_m$ and $Z_v$ are not identifiables, since only the difference $Z_m-Z_v$ matters. Hence, calibrating this model requires some regularization."
   ]
  },
  {
   "cell_type": "markdown",
   "metadata": {},
   "source": [
    "## Generate the observations"
   ]
  },
  {
   "cell_type": "code",
   "execution_count": 1,
   "metadata": {},
   "outputs": [],
   "source": [
    "import numpy as np\n",
    "import openturns as ot"
   ]
  },
  {
   "cell_type": "markdown",
   "metadata": {},
   "source": [
    "We define the model $g$ which has 4 inputs and one output H.\n",
    "\n",
    "The nonlinear least squares does not take into account for bounds in the parameters. Therefore, we ensure that the output is computed whatever the inputs. The model fails into two situations:\n",
    "\n",
    "* if $K_s<0$,\n",
    "* if $Z_v-Z_m<0$.\n",
    "\n",
    "In these cases, we return an infinite number."
   ]
  },
  {
   "cell_type": "code",
   "execution_count": 2,
   "metadata": {},
   "outputs": [],
   "source": [
    "def functionFlooding(X) :\n",
    "    L = 5.0e3\n",
    "    B = 300.0\n",
    "    Q, K_s, Z_v, Z_m = X\n",
    "    alpha = (Z_m - Z_v)/L\n",
    "    if alpha < 0.0 or K_s <= 0.0:\n",
    "        H = np.inf\n",
    "    else:\n",
    "        H = (Q/(K_s*B*np.sqrt(alpha)))**(3.0/5.0)\n",
    "    return [H]"
   ]
  },
  {
   "cell_type": "code",
   "execution_count": 3,
   "metadata": {},
   "outputs": [],
   "source": [
    "g = ot.PythonFunction(4, 1, functionFlooding) \n",
    "g = ot.MemoizeFunction(g)\n",
    "g.setOutputDescription([\"H (m)\"])"
   ]
  },
  {
   "cell_type": "markdown",
   "metadata": {},
   "source": [
    "Create the input distribution for $Q$."
   ]
  },
  {
   "cell_type": "code",
   "execution_count": 4,
   "metadata": {},
   "outputs": [
    {
     "data": {
      "text/html": [
       "<p>TruncatedDistribution(class=ParametrizedDistribution parameters=class=GumbelAB name=Unnamed a=1013 b=558 distribution=class=Gumbel name=Gumbel dimension=1 alpha=0.00179211 beta=1013, bounds = [0, (19000.8) +inf[)</p>"
      ],
      "text/plain": [
       "class=TruncatedDistribution name=TruncatedDistribution distribution=class=ParametrizedDistribution parameters=class=GumbelAB name=Unnamed a=1013 b=558 distribution=class=Gumbel name=Gumbel dimension=1 alpha=0.00179211 beta=1013 bounds=class=Interval name=Unnamed dimension=1 lower bound=class=Point name=Unnamed dimension=1 values=[0] upper bound=class=Point name=Unnamed dimension=1 values=[19000.8] finite lower bound=[1] finite upper bound=[0] thresholdRealization=0.5"
      ]
     },
     "execution_count": 4,
     "metadata": {},
     "output_type": "execute_result"
    }
   ],
   "source": [
    "Qparam = ot.GumbelAB(1013., 558.)\n",
    "Q = ot.ParametrizedDistribution(Qparam)\n",
    "Q = ot.TruncatedDistribution(Q,ot.TruncatedDistribution.LOWER)\n",
    "Q.setDescription([\"Q (m3/s)\"])\n",
    "Q"
   ]
  },
  {
   "cell_type": "markdown",
   "metadata": {},
   "source": [
    "Set the parameters to be calibrated."
   ]
  },
  {
   "cell_type": "code",
   "execution_count": 5,
   "metadata": {},
   "outputs": [],
   "source": [
    "K_s = ot.Dirac(30.0)\n",
    "Z_v = ot.Dirac(50.0)\n",
    "Z_m = ot.Dirac(55.0)\n",
    "K_s.setDescription([\"Ks (m^(1/3)/s)\"])\n",
    "Z_v.setDescription([\"Zv (m)\"])\n",
    "Z_m.setDescription([\"Zm (m)\"])"
   ]
  },
  {
   "cell_type": "markdown",
   "metadata": {},
   "source": [
    "Create the joint input distribution."
   ]
  },
  {
   "cell_type": "code",
   "execution_count": 6,
   "metadata": {},
   "outputs": [],
   "source": [
    "inputRandomVector = ot.ComposedDistribution([Q, K_s, Z_v, Z_m])"
   ]
  },
  {
   "cell_type": "markdown",
   "metadata": {},
   "source": [
    "Create a Monte-Carlo sample of the output H."
   ]
  },
  {
   "cell_type": "code",
   "execution_count": 7,
   "metadata": {},
   "outputs": [],
   "source": [
    "nbobs = 20\n",
    "inputSample = inputRandomVector.getSample(nbobs)\n",
    "outputH = g(inputSample)"
   ]
  },
  {
   "cell_type": "markdown",
   "metadata": {},
   "source": [
    "Generate the observation noise and add it to the output of the model."
   ]
  },
  {
   "cell_type": "code",
   "execution_count": 8,
   "metadata": {},
   "outputs": [],
   "source": [
    "sigmaObservationNoiseH = 0.1 # (m)\n",
    "noiseH = ot.Normal(0.,sigmaObservationNoiseH)\n",
    "ot.RandomGenerator.SetSeed(0)\n",
    "sampleNoiseH = noiseH.getSample(nbobs)\n",
    "Hobs = outputH + sampleNoiseH"
   ]
  },
  {
   "cell_type": "markdown",
   "metadata": {},
   "source": [
    "Plot the Y observations versus the X observations."
   ]
  },
  {
   "cell_type": "code",
   "execution_count": 9,
   "metadata": {},
   "outputs": [],
   "source": [
    "Qobs = inputSample[:,0]"
   ]
  },
  {
   "cell_type": "code",
   "execution_count": 10,
   "metadata": {},
   "outputs": [
    {
     "data": {
      "image/png": "[encoded data removed]",
      "text/plain": [
       "class=Graph name=Observations implementation=class=GraphImplementation name=Observations title=Observations xTitle=Q (m3/s) yTitle=H (m) axes=ON grid=ON legendposition= legendFontSize=1 drawables=[class=Drawable name=Unnamed implementation=class=Cloud name=Unnamed derived from class=DrawableImplementation name=Unnamed legend= data=class=Sample name=Unnamed implementation=class=SampleImplementation name=Unnamed size=20 dimension=2 data=[[1443.6,2.71007],[2174.89,3.26118],[626.102,1.56105],[325.812,1.20506],[981.399,1.88352],[2950.39,4.10301],[2404.22,3.56231],[1222.42,2.54138],[446.227,1.39082],[898.207,2.07219],[1621.02,2.79301],[1036.49,2.19777],[1021.93,1.92431],[1675.95,2.76913],[2178.44,3.25993],[901.675,1.98841],[2464.55,3.7513],[1918.19,3.12793],[1554.45,2.71347],[1943.49,3.21123]] color=blue fillStyle=solid lineStyle=solid pointStyle=plus lineWidth=1]"
      ]
     },
     "execution_count": 10,
     "metadata": {},
     "output_type": "execute_result"
    }
   ],
   "source": [
    "graph = ot.Graph(\"Observations\",\"Q (m3/s)\",\"H (m)\",True)\n",
    "cloud = ot.Cloud(Qobs,Hobs)\n",
    "graph.add(cloud)\n",
    "graph"
   ]
  },
  {
   "cell_type": "markdown",
   "metadata": {},
   "source": [
    "## Setting the calibration parameters"
   ]
  },
  {
   "cell_type": "markdown",
   "metadata": {},
   "source": [
    "Define the parametric model $z = f(x,\\theta)$ that associates each observation $x_i$ and values of the  parameters $\\theta_i$ to the parameters of the distribution of the corresponding observation: here $z=(\\mu, \\sigma)$"
   ]
  },
  {
   "cell_type": "code",
   "execution_count": 11,
   "metadata": {},
   "outputs": [
    {
     "data": {
      "text/html": [
       "<p>ParametricEvaluation(class=PythonEvaluation name=OpenTURNSPythonFunction, parameters positions=[0], parameters=[x0 : 1443.6], input positions=[1,2,3])</p>"
      ],
      "text/plain": [
       "class=FunctionImplementation name=Unnamed description=[x1,x2,x3,y0,y1] evaluationImplementation=class=ParametricEvaluation function=class=Function name=Unnamed implementation=class=FunctionImplementation name=Unnamed description=[x0,x1,x2,x3,y0,y1] evaluationImplementation=class=PythonEvaluation name=OpenTURNSPythonFunction description=[x0,x1,x2,x3,y0,y1] parameter=class=Point name=Unnamed dimension=0 values=[] gradientImplementation=class=CenteredFiniteDifferenceGradient name=Unnamed epsilon=class=Point name=Unnamed dimension=4 values=[1e-05,1e-05,1e-05,1e-05] evaluation=class=PythonEvaluation name=OpenTURNSPythonFunction description=[x0,x1,x2,x3,y0,y1] parameter=class=Point name=Unnamed dimension=0 values=[] hessianImplementation=class=CenteredFiniteDifferenceHessian name=Unnamed epsilon=class=Point name=Unnamed dimension=4 values=[0.0001,0.0001,0.0001,0.0001] evaluation=class=PythonEvaluation name=OpenTURNSPythonFunction description=[x0,x1,x2,x3,y0,y1] parameter=class=Point name=Unnamed dimension=0 values=[] parameters positions=[0] parameters=class=PointWithDescription name=Unnamed dimension=1 description=[x0] values=[1443.6] input positions=[1,2,3] gradientImplementation=class=ParametricGradient evaluation=class=ParametricEvaluation function=class=Function name=Unnamed implementation=class=FunctionImplementation name=Unnamed description=[x0,x1,x2,x3,y0,y1] evaluationImplementation=class=PythonEvaluation name=OpenTURNSPythonFunction description=[x0,x1,x2,x3,y0,y1] parameter=class=Point name=Unnamed dimension=0 values=[] gradientImplementation=class=CenteredFiniteDifferenceGradient name=Unnamed epsilon=class=Point name=Unnamed dimension=4 values=[1e-05,1e-05,1e-05,1e-05] evaluation=class=PythonEvaluation name=OpenTURNSPythonFunction description=[x0,x1,x2,x3,y0,y1] parameter=class=Point name=Unnamed dimension=0 values=[] hessianImplementation=class=CenteredFiniteDifferenceHessian name=Unnamed epsilon=class=Point name=Unnamed dimension=4 values=[0.0001,0.0001,0.0001,0.0001] evaluation=class=PythonEvaluation name=OpenTURNSPythonFunction description=[x0,x1,x2,x3,y0,y1] parameter=class=Point name=Unnamed dimension=0 values=[] parameters positions=[0] parameters=class=PointWithDescription name=Unnamed dimension=1 description=[x0] values=[1443.6] input positions=[1,2,3] hessianImplementation=class=ParametricHessian evaluation=class=ParametricEvaluation function=class=Function name=Unnamed implementation=class=FunctionImplementation name=Unnamed description=[x0,x1,x2,x3,y0,y1] evaluationImplementation=class=PythonEvaluation name=OpenTURNSPythonFunction description=[x0,x1,x2,x3,y0,y1] parameter=class=Point name=Unnamed dimension=0 values=[] gradientImplementation=class=CenteredFiniteDifferenceGradient name=Unnamed epsilon=class=Point name=Unnamed dimension=4 values=[1e-05,1e-05,1e-05,1e-05] evaluation=class=PythonEvaluation name=OpenTURNSPythonFunction description=[x0,x1,x2,x3,y0,y1] parameter=class=Point name=Unnamed dimension=0 values=[] hessianImplementation=class=CenteredFiniteDifferenceHessian name=Unnamed epsilon=class=Point name=Unnamed dimension=4 values=[0.0001,0.0001,0.0001,0.0001] evaluation=class=PythonEvaluation name=OpenTURNSPythonFunction description=[x0,x1,x2,x3,y0,y1] parameter=class=Point name=Unnamed dimension=0 values=[] parameters positions=[0] parameters=class=PointWithDescription name=Unnamed dimension=1 description=[x0] values=[1443.6] input positions=[1,2,3]"
      ]
     },
     "execution_count": 11,
     "metadata": {},
     "output_type": "execute_result"
    }
   ],
   "source": [
    "def fullModelPy(X):\n",
    "    Q, K_s, Z_v, Z_m = X\n",
    "    H = g(X)[0]\n",
    "    sigmaH = 0.5 # (m^2) The standard deviation of the observation error.\n",
    "    return [H,sigmaH]\n",
    "\n",
    "fullModel = ot.PythonFunction(4, 2, fullModelPy)\n",
    "model = ot.ParametricFunction(fullModel, [0], Qobs[0])\n",
    "model"
   ]
  },
  {
   "cell_type": "markdown",
   "metadata": {},
   "source": [
    "Define the value of the reference values of the $\\theta$ parameter. In the bayesian framework, this is called the mean of the *prior* gaussian distribution. In the data assimilation framework, this is called the *background*."
   ]
  },
  {
   "cell_type": "code",
   "execution_count": 12,
   "metadata": {},
   "outputs": [],
   "source": [
    "KsInitial = 20.\n",
    "ZvInitial = 49.\n",
    "ZmInitial = 51.\n",
    "parameterPriorMean = ot.Point([KsInitial,ZvInitial,ZmInitial])\n",
    "parameterPriorMean.setDescription((\"Ks\",\"Zv\",\"Zm\"))\n",
    "paramDim = parameterPriorMean.getDimension()"
   ]
  },
  {
   "cell_type": "markdown",
   "metadata": {},
   "source": [
    "Define the covariance matrix of the parameters $\\theta$ to calibrate."
   ]
  },
  {
   "cell_type": "code",
   "execution_count": 13,
   "metadata": {},
   "outputs": [],
   "source": [
    "sigmaKs = 5.\n",
    "sigmaZv = 1.\n",
    "sigmaZm = 1."
   ]
  },
  {
   "cell_type": "code",
   "execution_count": 14,
   "metadata": {
    "scrolled": false
   },
   "outputs": [
    {
     "data": {
      "text/html": [
       "<p>[[ 25  0  0 ]<br>\n",
       " [  0  1  0 ]<br>\n",
       " [  0  0  1 ]]</p>"
      ],
      "text/plain": [
       "class=CovarianceMatrix dimension=3 implementation=class=MatrixImplementation name=Unnamed rows=3 columns=3 values=[25,0,0,0,1,0,0,0,1]"
      ]
     },
     "execution_count": 14,
     "metadata": {},
     "output_type": "execute_result"
    }
   ],
   "source": [
    "parameterPriorCovariance = ot.CovarianceMatrix(paramDim)\n",
    "parameterPriorCovariance[0,0] = sigmaKs**2\n",
    "parameterPriorCovariance[1,1] = sigmaZv**2\n",
    "parameterPriorCovariance[2,2] = sigmaZm**2\n",
    "parameterPriorCovariance"
   ]
  },
  {
   "cell_type": "markdown",
   "metadata": {},
   "source": [
    "Define the the prior distribution $\\pi(\\underline{\\theta})$ of the parameter $\\underline{\\theta}$"
   ]
  },
  {
   "cell_type": "code",
   "execution_count": 15,
   "metadata": {},
   "outputs": [
    {
     "data": {
      "text/html": [
       "<p>Normal(mu = [20,49,51], sigma = [5,1,1], R = [[ 1 0 0 ]<br>\n",
       " [ 0 1 0 ]<br>\n",
       " [ 0 0 1 ]])</p>"
      ],
      "text/plain": [
       "class=Normal name=Normal dimension=3 mean=class=Point name=Unnamed dimension=3 values=[20,49,51] sigma=class=Point name=Unnamed dimension=3 values=[5,1,1] correlationMatrix=class=CorrelationMatrix dimension=3 implementation=class=MatrixImplementation name=Unnamed rows=3 columns=3 values=[1,0,0,0,1,0,0,0,1]"
      ]
     },
     "execution_count": 15,
     "metadata": {},
     "output_type": "execute_result"
    }
   ],
   "source": [
    "prior = ot.Normal(parameterPriorMean,parameterPriorCovariance)\n",
    "prior.setDescription(['Ks', 'Zv', 'Zm'])\n",
    "prior"
   ]
  },
  {
   "cell_type": "markdown",
   "metadata": {},
   "source": [
    "Define the distribution of observations $\\underline{y} | \\underline{z}$ conditional on model predictions. \n",
    "\n",
    "Note that its parameter dimension is the one of $\\underline{z}$, so the model must be adjusted accordingly. In other words, the input argument of the `setParameter` method of the conditional distribution must be equal to the dimension of the output of the `model`. Hence, we do not have to set the actual parameters: only the type of distribution is used."
   ]
  },
  {
   "cell_type": "code",
   "execution_count": 16,
   "metadata": {},
   "outputs": [
    {
     "data": {
      "text/html": [
       "<p>Normal(mu = 0, sigma = 1)</p>"
      ],
      "text/plain": [
       "class=Normal name=Normal dimension=1 mean=class=Point name=Unnamed dimension=1 values=[0] sigma=class=Point name=Unnamed dimension=1 values=[1] correlationMatrix=class=CorrelationMatrix dimension=1 implementation=class=MatrixImplementation name=Unnamed rows=1 columns=1 values=[1]"
      ]
     },
     "execution_count": 16,
     "metadata": {},
     "output_type": "execute_result"
    }
   ],
   "source": [
    "conditional = ot.Normal()\n",
    "conditional"
   ]
  },
  {
   "cell_type": "markdown",
   "metadata": {},
   "source": [
    "Proposal distribution: uniform."
   ]
  },
  {
   "cell_type": "code",
   "execution_count": 17,
   "metadata": {
    "scrolled": true
   },
   "outputs": [
    {
     "data": {
      "text/plain": [
       "[class=Uniform name=Uniform dimension=1 a=-5 b=5,\n",
       " class=Uniform name=Uniform dimension=1 a=-1 b=1,\n",
       " class=Uniform name=Uniform dimension=1 a=-1 b=1]"
      ]
     },
     "execution_count": 17,
     "metadata": {},
     "output_type": "execute_result"
    }
   ],
   "source": [
    "proposal = [ot.Uniform(-5., 5.),ot.Uniform(-1., 1.),ot.Uniform(-1., 1.)]\n",
    "proposal"
   ]
  },
  {
   "cell_type": "markdown",
   "metadata": {},
   "source": [
    "## Test the MCMC sampler\n",
    "\n",
    "The MCMC sampler essentially computes the log-likelihood of the parameters."
   ]
  },
  {
   "cell_type": "code",
   "execution_count": 18,
   "metadata": {},
   "outputs": [],
   "source": [
    "mymcmc = ot.MCMC(prior, conditional, model, Qobs, Hobs, parameterPriorMean)"
   ]
  },
  {
   "cell_type": "code",
   "execution_count": 19,
   "metadata": {
    "scrolled": false
   },
   "outputs": [
    {
     "data": {
      "text/plain": [
       "-150.5368575399012"
      ]
     },
     "execution_count": 19,
     "metadata": {},
     "output_type": "execute_result"
    }
   ],
   "source": [
    "mymcmc.computeLogLikelihood(parameterPriorMean)"
   ]
  },
  {
   "cell_type": "markdown",
   "metadata": {},
   "source": [
    "## Test the Metropolis-Hastings sampler"
   ]
  },
  {
   "cell_type": "markdown",
   "metadata": {},
   "source": [
    "- Creation of the Random Walk Metropolis-Hastings (RWMH) sampler."
   ]
  },
  {
   "cell_type": "code",
   "execution_count": 20,
   "metadata": {},
   "outputs": [],
   "source": [
    "initialState = parameterPriorMean"
   ]
  },
  {
   "cell_type": "code",
   "execution_count": 21,
   "metadata": {},
   "outputs": [],
   "source": [
    "RWMHsampler = ot.RandomWalkMetropolisHastings(\n",
    "    prior, conditional, model, Qobs, Hobs, initialState, proposal)"
   ]
  },
  {
   "cell_type": "markdown",
   "metadata": {},
   "source": [
    "Tuning of the RWMH algorithm."
   ]
  },
  {
   "cell_type": "markdown",
   "metadata": {},
   "source": [
    "Strategy of calibration for the random walk (trivial example: default)."
   ]
  },
  {
   "cell_type": "code",
   "execution_count": 22,
   "metadata": {},
   "outputs": [],
   "source": [
    "strategy = ot.CalibrationStrategyCollection(paramDim)\n",
    "RWMHsampler.setCalibrationStrategyPerComponent(strategy)"
   ]
  },
  {
   "cell_type": "markdown",
   "metadata": {},
   "source": [
    "Other parameters."
   ]
  },
  {
   "cell_type": "code",
   "execution_count": 23,
   "metadata": {},
   "outputs": [],
   "source": [
    "RWMHsampler.setVerbose(True)\n",
    "RWMHsampler.setThinning(1)\n",
    "RWMHsampler.setBurnIn(200)"
   ]
  },
  {
   "cell_type": "markdown",
   "metadata": {},
   "source": [
    "Generate a sample from the posterior distribution of the parameters theta."
   ]
  },
  {
   "cell_type": "code",
   "execution_count": 24,
   "metadata": {},
   "outputs": [],
   "source": [
    "sampleSize = 1000\n",
    "sample = RWMHsampler.getSample(sampleSize)"
   ]
  },
  {
   "cell_type": "markdown",
   "metadata": {},
   "source": [
    "Look at the acceptance rate (basic checking of the efficiency of the tuning; value close to 0.2 usually recommended)."
   ]
  },
  {
   "cell_type": "code",
   "execution_count": 25,
   "metadata": {},
   "outputs": [
    {
     "data": {
      "text/html": [
       "<p>[0.5175,0.608333,0.6025]</p>"
      ],
      "text/plain": [
       "class=Point name=Unnamed dimension=3 values=[0.5175,0.608333,0.6025]"
      ]
     },
     "execution_count": 25,
     "metadata": {},
     "output_type": "execute_result"
    }
   ],
   "source": [
    "RWMHsampler.getAcceptanceRate()"
   ]
  },
  {
   "cell_type": "markdown",
   "metadata": {},
   "source": [
    "Build the distribution of the posterior by kernel smoothing."
   ]
  },
  {
   "cell_type": "code",
   "execution_count": 26,
   "metadata": {},
   "outputs": [],
   "source": [
    "kernel = ot.KernelSmoothing()\n",
    "posterior = kernel.build(sample)"
   ]
  },
  {
   "cell_type": "markdown",
   "metadata": {},
   "source": [
    "Display prior vs posterior for each parameter."
   ]
  },
  {
   "cell_type": "code",
   "execution_count": 27,
   "metadata": {},
   "outputs": [
    {
     "data": {
      "image/png": "[encoded data removed]",
      "text/plain": [
       "<Figure size 864x288 with 3 Axes>"
      ]
     },
     "metadata": {
      "needs_background": "light"
     },
     "output_type": "display_data"
    }
   ],
   "source": [
    "from openturns.viewer import View\n",
    "import pylab as pl\n",
    "\n",
    "fig = pl.figure(figsize=(12, 4))\n",
    "\n",
    "for parameter_index in range(paramDim):\n",
    "    graph = posterior.getMarginal(parameter_index).drawPDF()\n",
    "    priorGraph = prior.getMarginal(parameter_index).drawPDF()\n",
    "    priorGraph.setColors(['blue'])\n",
    "    graph.add(priorGraph)\n",
    "    graph.setLegends(['Posterior', 'Prior'])\n",
    "    ax = fig.add_subplot(1, paramDim, parameter_index+1)\n",
    "    _ = ot.viewer.View(graph, figure=fig, axes=[ax])\n",
    "\n",
    "_ = fig.suptitle(\"Bayesian calibration\")"
   ]
  }
 ],
 "metadata": {
  "kernelspec": {
   "display_name": "Python 3",
   "language": "python",
   "name": "python3"
  },
  "language_info": {
   "codemirror_mode": {
    "name": "ipython",
    "version": 3
   },
   "file_extension": ".py",
   "mimetype": "text/x-python",
   "name": "python",
   "nbconvert_exporter": "python",
   "pygments_lexer": "ipython3",
   "version": "3.7.1"
  }
 },
 "nbformat": 4,
 "nbformat_minor": 2
}
