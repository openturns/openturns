{
 "cells": [
  {
   "cell_type": "markdown",
   "metadata": {},
   "source": [
    "# Estimate a multivariate distribution"
   ]
  },
  {
   "cell_type": "markdown",
   "metadata": {},
   "source": [
    "In this example we are going to estimate a joint distribution from a multivariate sample by fitting marginals and finding a set of copulas.\n",
    "\n",
    "While the estimation of marginals is quite straightforward, the estimation of the dependency structure takes several steps:\n",
    "\n",
    "- find the dependent components\n",
    "- estimate a copula on each dependent bloc\n",
    "- assemble the estimated copulas"
   ]
  },
  {
   "cell_type": "code",
   "execution_count": 1,
   "metadata": {
    "collapsed": true
   },
   "outputs": [],
   "source": [
    "from __future__ import print_function\n",
    "import openturns as ot\n",
    "import math as m"
   ]
  },
  {
   "cell_type": "code",
   "execution_count": 2,
   "metadata": {
    "collapsed": true
   },
   "outputs": [],
   "source": [
    "# generate some multivariate data to estimate, with correlation\n",
    "cop1 = ot.AliMikhailHaqCopula(0.6)\n",
    "cop2 = ot.ClaytonCopula(2.5)\n",
    "copula = ot.ComposedCopula([cop1, cop2])\n",
    "marginals = [ot.Uniform(5.0, 6.0), ot.Arcsine(), ot.Normal(-40.0, 3.0), ot.Triangular(100.0, 150.0, 300.0)]\n",
    "distribution = ot.ComposedDistribution(marginals, copula)\n",
    "sample = distribution.getSample(10000).getMarginal([0, 2, 3, 1])"
   ]
  },
  {
   "cell_type": "code",
   "execution_count": 3,
   "metadata": {},
   "outputs": [
    {
     "data": {
      "text/plain": [
       "[class=Uniform name=Uniform dimension=1 a=5.00008 b=6,\n",
       " class=Normal name=Normal dimension=1 mean=class=Point name=Unnamed dimension=1 values=[-39.9413] sigma=class=Point name=Unnamed dimension=1 values=[3.04363] correlationMatrix=class=CorrelationMatrix dimension=1 implementation=class=MatrixImplementation name=Unnamed rows=1 columns=1 values=[1],\n",
       " class=Trapezoidal name=Trapezoidal dimension=1 a=99.9716 b=149.173 c=152.366 d=299.9 h=0.00984637,\n",
       " class=Beta name=Beta dimension=1 r=0.49567 t=0.993342 a=-1.0002 b=1.0002]"
      ]
     },
     "execution_count": 3,
     "metadata": {},
     "output_type": "execute_result"
    }
   ],
   "source": [
    "# estimate marginals\n",
    "dimension = sample.getDimension()\n",
    "marginalFactories = []\n",
    "for factory in ot.DistributionFactory.GetContinuousUniVariateFactories():\n",
    "    if str(factory).startswith('Histogram'):\n",
    "        # ~ non-parametric\n",
    "        continue\n",
    "    marginalFactories.append(factory)\n",
    "estimated_marginals = [ot.FittingTest.BestModelBIC(sample.getMarginal(i), marginalFactories) for i in range(dimension)]\n",
    "estimated_marginals"
   ]
  },
  {
   "cell_type": "code",
   "execution_count": 4,
   "metadata": {
    "collapsed": true
   },
   "outputs": [],
   "source": [
    "# find connected components of a graph defined from its adjacency matrix\n",
    "\n",
    "def find_neighbours(head, covariance, to_visit, visited):\n",
    "    N = covariance.getDimension()\n",
    "    visited[head] = 1\n",
    "    to_visit.remove(head)\n",
    "    current_component = [head]\n",
    "    for i in to_visit:\n",
    "        # If i is connected to head and has not yet been visited\n",
    "        if covariance[head, i] > 0:\n",
    "            # Add i to the current component\n",
    "            component = find_neighbours(i, covariance, to_visit, visited)\n",
    "            current_component += component\n",
    "    return current_component\n",
    "\n",
    "def connected_components(covariance):\n",
    "    N = covariance.getDimension()\n",
    "    to_visit = list(range(N))\n",
    "    visited = [0] * N\n",
    "    all_components = []\n",
    "    for head in range(N):\n",
    "        if visited[head] == 0:\n",
    "            component = find_neighbours(head, covariance, to_visit, visited)\n",
    "            all_components.append(sorted(component))\n",
    "    return all_components"
   ]
  },
  {
   "cell_type": "code",
   "execution_count": 10,
   "metadata": {},
   "outputs": [
    {
     "name": "stdout",
     "output_type": "stream",
     "text": [
      "[[  1           0.00263067  0.00518309  0.23953    ]\n",
      " [  0.00263067  1           0.736523   -0.00576173 ]\n",
      " [  0.00518309  0.736523    1          -0.0083771  ]\n",
      " [  0.23953    -0.00576173 -0.0083771   1          ]]\n",
      "[[ 1 0 0 1 ]\n",
      " [ 0 1 1 0 ]\n",
      " [ 0 1 1 0 ]\n",
      " [ 1 0 0 1 ]]\n"
     ]
    },
    {
     "data": {
      "text/plain": [
       "[[0, 3], [1, 2]]"
      ]
     },
     "execution_count": 10,
     "metadata": {},
     "output_type": "execute_result"
    }
   ],
   "source": [
    "# estimate copula\n",
    "\n",
    "# 1. find dependent components\n",
    "\n",
    "# compute correlation\n",
    "C = sample.computeSpearmanCorrelation()\n",
    "print(C)\n",
    "# consider only significantly non-zero correlations\n",
    "epsilon = 1.0 / m.sqrt(sample.getSize())\n",
    "for j in range(dimension):\n",
    "    for i in range(j):\n",
    "        C[i, j] = 1.0 if abs(C[i, j]) > epsilon else 0.0\n",
    "print(C)\n",
    "# find independent blocs\n",
    "blocs = connected_components(C)\n",
    "blocs"
   ]
  },
  {
   "cell_type": "code",
   "execution_count": 6,
   "metadata": {},
   "outputs": [
    {
     "data": {
      "text/plain": [
       "[class=AliMikhailHaqCopula name=AliMikhailHaqCopula dimension=2 theta=0.601685,\n",
       " class=ClaytonCopula name=ClaytonCopula dimension=2 theta=2.45478]"
      ]
     },
     "execution_count": 6,
     "metadata": {},
     "output_type": "execute_result"
    }
   ],
   "source": [
    "# 2. estimate the copulas on each dependent blocs\n",
    "copulaFactories = []\n",
    "for factory in ot.DistributionFactory.GetContinuousMultiVariateFactories():\n",
    "    if not factory.build().isCopula():\n",
    "        continue\n",
    "    copulaFactories.append(factory)\n",
    "estimated_copulas = [ot.FittingTest.BestModelBIC(sample.getMarginal(bloc), copulaFactories) for bloc in blocs]\n",
    "estimated_copulas"
   ]
  },
  {
   "cell_type": "code",
   "execution_count": 7,
   "metadata": {},
   "outputs": [
    {
     "data": {
      "text/plain": [
       "class=MarginalDistribution name=MarginalDistribution dimension=4 distribution=class=ComposedCopula name=ComposedCopula dimension=4 copula[0]=class=AliMikhailHaqCopula name=AliMikhailHaqCopula dimension=2 theta=0.601685 copula[1]=class=ClaytonCopula name=ClaytonCopula dimension=2 theta=2.45478 indices=[0,2,3,1]"
      ]
     },
     "execution_count": 7,
     "metadata": {},
     "output_type": "execute_result"
    }
   ],
   "source": [
    "# 3. assemble the copula\n",
    "estimated_copula_perm = ot.ComposedCopula(estimated_copulas)\n",
    "# take care of the order of each bloc vs the order of original components\n",
    "permutation = []\n",
    "for bloc in blocs:\n",
    "    permutation.extend(bloc)\n",
    "inverse_permutation = [-1] * dimension\n",
    "for i in range(dimension):\n",
    "    inverse_permutation[permutation[i]] = i\n",
    "estimated_copula = estimated_copula_perm.getMarginal(inverse_permutation)\n",
    "estimated_copula"
   ]
  },
  {
   "cell_type": "code",
   "execution_count": 8,
   "metadata": {},
   "outputs": [
    {
     "data": {
      "text/html": [
       "<p>ComposedDistribution(Uniform(a = 5.00008, b = 6), Normal(mu = -39.9413, sigma = 3.04363), Trapezoidal(a = 99.9716, b = 149.173, c = 152.366, d = 299.9), Beta(r = 0.49567, t = 0.993342, a = -1.0002, b = 1.0002), MarginalDistribution(distribution=ComposedCopula(AliMikhailHaqCopula(theta = 0.601685), ClaytonCopula(theta = 2.45478)), indices=[0,2,3,1]))<br>\n",
       "</p>"
      ],
      "text/plain": [
       "class=ComposedDistribution name=ComposedDistribution dimension=4 copula=class=MarginalDistribution name=MarginalDistribution dimension=4 distribution=class=ComposedCopula name=ComposedCopula dimension=4 copula[0]=class=AliMikhailHaqCopula name=AliMikhailHaqCopula dimension=2 theta=0.601685 copula[1]=class=ClaytonCopula name=ClaytonCopula dimension=2 theta=2.45478 indices=[0,2,3,1] marginal[0]=class=Uniform name=Uniform dimension=1 a=5.00008 b=6 marginal[1]=class=Normal name=Normal dimension=1 mean=class=Point name=Unnamed dimension=1 values=[-39.9413] sigma=class=Point name=Unnamed dimension=1 values=[3.04363] correlationMatrix=class=CorrelationMatrix dimension=1 implementation=class=MatrixImplementation name=Unnamed rows=1 columns=1 values=[1] marginal[2]=class=Trapezoidal name=Trapezoidal dimension=1 a=99.9716 b=149.173 c=152.366 d=299.9 h=0.00984637 marginal[3]=class=Beta name=Beta dimension=1 r=0.49567 t=0.993342 a=-1.0002 b=1.0002"
      ]
     },
     "execution_count": 8,
     "metadata": {},
     "output_type": "execute_result"
    }
   ],
   "source": [
    "# Build joint distribution from marginal distributions and dependency structure\n",
    "estimated_distribution = ot.ComposedDistribution(estimated_marginals, estimated_copula)\n",
    "estimated_distribution"
   ]
  }
 ],
 "metadata": {
  "kernelspec": {
   "display_name": "Python 3",
   "language": "python",
   "name": "python3"
  },
  "language_info": {
   "codemirror_mode": {
    "name": "ipython",
    "version": 3
   },
   "file_extension": ".py",
   "mimetype": "text/x-python",
   "name": "python",
   "nbconvert_exporter": "python",
   "pygments_lexer": "ipython3",
   "version": "3.5.2"
  }
 },
 "nbformat": 4,
 "nbformat_minor": 1
}
