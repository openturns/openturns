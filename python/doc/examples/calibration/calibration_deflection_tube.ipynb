{
 "cells": [
  {
   "cell_type": "markdown",
   "metadata": {},
   "source": [
    "# Deflection of a tube"
   ]
  },
  {
   "cell_type": "markdown",
   "metadata": {},
   "source": [
    "## Description\n",
    "\n",
    "We consider the deflection of a tube under a vertical stress.\n",
    "\n",
    "<img src=\"simply_supported_beam.png\" width=\"300\" />\n",
    "\n",
    "The parameters of the model are:\n",
    "* F : the strength,\n",
    "* L : the length of the tube,\n",
    "* a : position of the force,\n",
    "* D : external diameter of the tube,\n",
    "* d : internal diameter of the tube,\n",
    "* E : Young modulus.\n",
    "\n",
    "The following figure presents the internal and external diameter of the tube:\n",
    "\n",
    "<img src=\"tube-diameters.png\" width=\"200\" />\n",
    "\n",
    "The area moment of inertia of the cross section about the neutral axis of a round tube (i.e. perpendicular to the section) with external and internal diameters $D$ and $d$ are:\n",
    "$$\n",
    "I = \\frac{\\pi (D^4-d^4)}{32}.\n",
    "$$\n",
    "\n",
    "The vertical deflection at point $x=a$ is:\n",
    "$$\n",
    "g_1(X) = \n",
    "- F \\frac{a^2 (L-a)^2}{3 E L I},\n",
    "$$\n",
    "where $X=(F,L,a,D,d,E)$. \n",
    "The angle of the tube at the left end is:\n",
    "$$\n",
    "g_2(X) = \n",
    "- F \\frac{b (L^2-b^2)}{6 E L I},\n",
    "$$\n",
    "and the angle of the tube at the right end is:\n",
    "$$\n",
    "g_3(X) = \n",
    "F \\frac{a (L^2-a^2)}{6 E L I}.\n",
    "$$\n",
    "\n",
    "\n",
    "The following table presents the distributions of the random variables. These variables are assumed to be independent.\n",
    "\n",
    "|Variable|Distribution|\n",
    "|--|--|\n",
    "|F|Normal(1,0.1)|\n",
    "|L|Normal(1.5,0.01)|\n",
    "|a|Uniform(0.7,1.2)|\n",
    "|D|Triangular(0.75,0.8,0.85)|\n",
    "|d|Triangular(0.09,0.1,0.11)|\n",
    "|E|Normal(200000,2000)|\n"
   ]
  },
  {
   "cell_type": "markdown",
   "metadata": {},
   "source": [
    "## References\n",
    "\n",
    "* Deflection of beams by Russ Elliott. http://www.clag.org.uk/beam.html\n",
    "* https://upload.wikimedia.org/wikipedia/commons/f/ff/Simple_beam_with_offset_load.svg\n",
    "* https://en.wikipedia.org/wiki/Deflection_(engineering)\n",
    "* https://mechanicalc.com/reference/beam-deflection-tables\n",
    "* https://en.wikipedia.org/wiki/Second_moment_of_area\n",
    "* Shigley's Mechanical Engineering Design (9th Edition), Richard G. Budynas, J. Keith Nisbettn, McGraw Hill (2011)\n",
    "* Mechanics of Materials (7th Edition), James M. Gere, Barry J. Goodno, Cengage Learning (2009)\n",
    "* Statics and Mechanics of Materials (5th Edition), Ferdinand Beer, E. Russell Johnston, Jr., John DeWolf, David Mazurek. Mc Graw Hill (2011) Chapter 15: deflection of beams."
   ]
  },
  {
   "cell_type": "markdown",
   "metadata": {},
   "source": [
    "## Create a calibration problem"
   ]
  },
  {
   "cell_type": "code",
   "execution_count": 1,
   "metadata": {},
   "outputs": [],
   "source": [
    "import openturns as ot"
   ]
  },
  {
   "cell_type": "markdown",
   "metadata": {},
   "source": [
    "We use the variable names `De` for the external diameter and `di` for the internal diameter because the symbolic function engine is not case sensitive, hence the variable names `D` and `d` would not be distiguished."
   ]
  },
  {
   "cell_type": "code",
   "execution_count": 2,
   "metadata": {},
   "outputs": [],
   "source": [
    "inputsvars=[\"F\",\"L\",\"a\",\"De\",\"di\",\"E\"]\n",
    "formula = \"var I:=pi_*(De^4-di^4)/32; var b:=L-a; g1:=-F*a^2*(L-a)^2/(3*E*L*I); g2:=-F*b*(L^2-b^2)/(6*E*L*I); g3:=F*a*(L^2-a^2)/(6*E*L*I)\"\n",
    "g = ot.SymbolicFunction(inputsvars,[\"g1\",\"g2\",\"g3\"],formula)\n",
    "g.setOutputDescription([\"Deflection\",\"Left angle\",\"Right angle\"])"
   ]
  },
  {
   "cell_type": "code",
   "execution_count": 3,
   "metadata": {},
   "outputs": [],
   "source": [
    "XF=ot.Normal(1,0.1)\n",
    "XE=ot.Normal(200000,2000)\n",
    "XF.setDescription([\"Force\"])\n",
    "XE.setDescription([\"Young Modulus\"])"
   ]
  },
  {
   "cell_type": "code",
   "execution_count": 4,
   "metadata": {},
   "outputs": [],
   "source": [
    "XL = ot.Dirac(1.5)\n",
    "Xa = ot.Dirac(1.0)\n",
    "XD = ot.Dirac(0.8)\n",
    "Xd = ot.Dirac(0.1)\n",
    "XL.setDescription([\"Longueur\"])\n",
    "Xa.setDescription([\"Location\"])\n",
    "XD.setDescription([\"External diameter\"])\n",
    "Xd.setDescription([\"Internal diameter\"])"
   ]
  },
  {
   "cell_type": "code",
   "execution_count": 5,
   "metadata": {},
   "outputs": [],
   "source": [
    "inputDistribution = ot.ComposedDistribution([XF,XL,Xa,XD,Xd,XE])"
   ]
  },
  {
   "cell_type": "code",
   "execution_count": 6,
   "metadata": {},
   "outputs": [
    {
     "data": {
      "text/html": [
       "<TABLE><TR><TD></TD><TH>Force</TH><TH>Longueur</TH><TH>Location</TH><TH>External diameter</TH><TH>Internal diameter</TH><TH>Young Modulus</TH></TR>\n",
       "<TR><TD>0</TD><TD>1.0608201651218765</TD><TD>1.5</TD><TD>1.0</TD><TD>0.8</TD><TD>0.1</TD><TD>196966.07036307675</TD></TR>\n",
       "<TR><TD>1</TD><TD>0.8733826897783343</TD><TD>1.5</TD><TD>1.0</TD><TD>0.8</TD><TD>0.1</TD><TD>197401.2408213367</TD></TR>\n",
       "<TR><TD>2</TD><TD>0.9561734380039586</TD><TD>1.5</TD><TD>1.0</TD><TD>0.8</TD><TD>0.1</TD><TD>200460.74487807832</TD></TR>\n",
       "<TR><TD>3</TD><TD>1.1205478200828576</TD><TD>1.5</TD><TD>1.0</TD><TD>0.8</TD><TD>0.1</TD><TD>193805.25155946863</TD></TR>\n",
       "<TR><TD>4</TD><TD>0.7818614765383486</TD><TD>1.5</TD><TD>1.0</TD><TD>0.8</TD><TD>0.1</TD><TD>200026.45999395067</TD></TR>\n",
       "</TABLE>"
      ],
      "text/plain": [
       "class=Sample name=Unnamed implementation=class=SampleImplementation name=Unnamed size=5 dimension=6 description=[Force,Longueur,Location,External diameter,Internal diameter,Young Modulus] data=[[1.06082,1.5,1,0.8,0.1,196966],[0.873383,1.5,1,0.8,0.1,197401],[0.956173,1.5,1,0.8,0.1,200461],[1.12055,1.5,1,0.8,0.1,193805],[0.781861,1.5,1,0.8,0.1,200026]]"
      ]
     },
     "execution_count": 6,
     "metadata": {},
     "output_type": "execute_result"
    }
   ],
   "source": [
    "sampleSize = 100\n",
    "inputSample = inputDistribution.getSample(sampleSize)\n",
    "inputSample[0:5]"
   ]
  },
  {
   "cell_type": "code",
   "execution_count": 7,
   "metadata": {},
   "outputs": [
    {
     "data": {
      "text/html": [
       "<TABLE><TR><TD></TD><TH>Deflection</TH><TH>Left angle</TH><TH>Right angle</TH></TR>\n",
       "<TR><TD>0</TD><TD>-7.442589066378747e-06</TD><TD>-1.4885178132757494e-05</TD><TD>1.8606472665946867e-05</TD></TR>\n",
       "<TR><TD>1</TD><TD>-6.114041697475519e-06</TD><TD>-1.2228083394951039e-05</TD><TD>1.52851042436888e-05</TD></TR>\n",
       "<TR><TD>2</TD><TD>-6.591451026631792e-06</TD><TD>-1.3182902053263584e-05</TD><TD>1.647862756657948e-05</TD></TR>\n",
       "<TR><TD>3</TD><TD>-7.98984857356334e-06</TD><TD>-1.597969714712668e-05</TD><TD>1.997462143390835e-05</TD></TR>\n",
       "<TR><TD>4</TD><TD>-5.401520898870577e-06</TD><TD>-1.0803041797741154e-05</TD><TD>1.3503802247176442e-05</TD></TR>\n",
       "</TABLE>"
      ],
      "text/plain": [
       "class=Sample name=Unnamed implementation=class=SampleImplementation name=Unnamed size=5 dimension=3 description=[Deflection,Left angle,Right angle] data=[[-7.44259e-06,-1.48852e-05,1.86065e-05],[-6.11404e-06,-1.22281e-05,1.52851e-05],[-6.59145e-06,-1.31829e-05,1.64786e-05],[-7.98985e-06,-1.59797e-05,1.99746e-05],[-5.40152e-06,-1.0803e-05,1.35038e-05]]"
      ]
     },
     "execution_count": 7,
     "metadata": {},
     "output_type": "execute_result"
    }
   ],
   "source": [
    "outputDeflection = g(inputSample)\n",
    "outputDeflection[0:5]"
   ]
  },
  {
   "cell_type": "code",
   "execution_count": 8,
   "metadata": {},
   "outputs": [],
   "source": [
    "observationNoiseSigma = [0.1e-6,0.05e-5,0.05e-5]\n",
    "observationNoiseCovariance = ot.CovarianceMatrix(3)\n",
    "for i in range(3):\n",
    "    observationNoiseCovariance[i,i] = observationNoiseSigma[i]**2"
   ]
  },
  {
   "cell_type": "code",
   "execution_count": 9,
   "metadata": {},
   "outputs": [
    {
     "data": {
      "text/html": [
       "<TABLE><TR><TD></TD><TH>Deflection</TH><TH>Left angle</TH><TH>Right angle</TH></TR>\n",
       "<TR><TD>0</TD><TD>-7.356762209314677e-06</TD><TD>-1.5338461089948315e-05</TD><TD>1.814806773342329e-05</TD></TR>\n",
       "<TR><TD>1</TD><TD>-5.997719622988609e-06</TD><TD>-1.2077124238651994e-05</TD><TD>1.553026987801388e-05</TD></TR>\n",
       "<TR><TD>2</TD><TD>-6.543908569160418e-06</TD><TD>-1.3577254181436902e-05</TD><TD>1.614390297308445e-05</TD></TR>\n",
       "<TR><TD>3</TD><TD>-8.003641369111095e-06</TD><TD>-1.646546275829769e-05</TD><TD>1.9380702536539273e-05</TD></TR>\n",
       "<TR><TD>4</TD><TD>-5.258700570801308e-06</TD><TD>-1.1097656728695641e-05</TD><TD>1.2637714263644793e-05</TD></TR>\n",
       "</TABLE>"
      ],
      "text/plain": [
       "class=Sample name=Unnamed implementation=class=SampleImplementation name=Unnamed size=5 dimension=3 description=[Deflection,Left angle,Right angle] data=[[-7.35676e-06,-1.53385e-05,1.81481e-05],[-5.99772e-06,-1.20771e-05,1.55303e-05],[-6.54391e-06,-1.35773e-05,1.61439e-05],[-8.00364e-06,-1.64655e-05,1.93807e-05],[-5.2587e-06,-1.10977e-05,1.26377e-05]]"
      ]
     },
     "execution_count": 9,
     "metadata": {},
     "output_type": "execute_result"
    }
   ],
   "source": [
    "noiseSigma = ot.Normal([0.,0.,0.],observationNoiseCovariance)\n",
    "sampleObservationNoise = noiseSigma.getSample(sampleSize)\n",
    "observedOutput = outputDeflection + sampleObservationNoise\n",
    "observedOutput[0:5]"
   ]
  },
  {
   "cell_type": "code",
   "execution_count": 10,
   "metadata": {},
   "outputs": [
    {
     "data": {
      "text/html": [
       "<TABLE><TR><TD></TD><TH>Force</TH><TH>Young Modulus</TH></TR>\n",
       "<TR><TD>0</TD><TD>1.0608201651218765</TD><TD>196966.07036307675</TD></TR>\n",
       "<TR><TD>1</TD><TD>0.8733826897783343</TD><TD>197401.2408213367</TD></TR>\n",
       "<TR><TD>2</TD><TD>0.9561734380039586</TD><TD>200460.74487807832</TD></TR>\n",
       "<TR><TD>3</TD><TD>1.1205478200828576</TD><TD>193805.25155946863</TD></TR>\n",
       "<TR><TD>4</TD><TD>0.7818614765383486</TD><TD>200026.45999395067</TD></TR>\n",
       "</TABLE>"
      ],
      "text/plain": [
       "class=Sample name=Unnamed implementation=class=SampleImplementation name=Unnamed size=5 dimension=2 description=[Force,Young Modulus] data=[[1.06082,196966],[0.873383,197401],[0.956173,200461],[1.12055,193805],[0.781861,200026]]"
      ]
     },
     "execution_count": 10,
     "metadata": {},
     "output_type": "execute_result"
    }
   ],
   "source": [
    "observedInput = ot.Sample(sampleSize,2)\n",
    "observedInput[:,0] = inputSample[:,0] # F\n",
    "observedInput[:,1] = inputSample[:,5] # E\n",
    "observedInput.setDescription([\"Force\",\"Young Modulus\"])\n",
    "observedInput[0:5]"
   ]
  },
  {
   "cell_type": "code",
   "execution_count": 11,
   "metadata": {},
   "outputs": [
    {
     "data": {
      "text/html": [
       "<TABLE><TR><TD></TD><TH>Force</TH><TH>Young</TH><TH>Deflection</TH><TH>Left Angle</TH><TH>Right Angle</TH></TR>\n",
       "<TR><TD>0</TD><TD>1.0608201651218765</TD><TD>196966.07036307675</TD><TD>-7.356762209314677e-06</TD><TD>-1.5338461089948315e-05</TD><TD>1.814806773342329e-05</TD></TR>\n",
       "<TR><TD>1</TD><TD>0.8733826897783343</TD><TD>197401.2408213367</TD><TD>-5.997719622988609e-06</TD><TD>-1.2077124238651994e-05</TD><TD>1.553026987801388e-05</TD></TR>\n",
       "<TR><TD>2</TD><TD>0.9561734380039586</TD><TD>200460.74487807832</TD><TD>-6.543908569160418e-06</TD><TD>-1.3577254181436902e-05</TD><TD>1.614390297308445e-05</TD></TR>\n",
       "<TR><TD>3</TD><TD>1.1205478200828576</TD><TD>193805.25155946863</TD><TD>-8.003641369111095e-06</TD><TD>-1.646546275829769e-05</TD><TD>1.9380702536539273e-05</TD></TR>\n",
       "<TR><TD>4</TD><TD>0.7818614765383486</TD><TD>200026.45999395067</TD><TD>-5.258700570801308e-06</TD><TD>-1.1097656728695641e-05</TD><TD>1.2637714263644793e-05</TD></TR>\n",
       "</TABLE>"
      ],
      "text/plain": [
       "class=Sample name=Unnamed implementation=class=SampleImplementation name=Unnamed size=5 dimension=5 description=[Force,Young,Deflection,Left Angle,Right Angle] data=[[1.06082,196966,-7.35676e-06,-1.53385e-05,1.81481e-05],[0.873383,197401,-5.99772e-06,-1.20771e-05,1.55303e-05],[0.956173,200461,-6.54391e-06,-1.35773e-05,1.61439e-05],[1.12055,193805,-8.00364e-06,-1.64655e-05,1.93807e-05],[0.781861,200026,-5.2587e-06,-1.10977e-05,1.26377e-05]]"
      ]
     },
     "execution_count": 11,
     "metadata": {},
     "output_type": "execute_result"
    }
   ],
   "source": [
    "fullSample = ot.Sample(sampleSize,5)\n",
    "fullSample[:,0:2] = observedInput\n",
    "fullSample[:,2:5] = observedOutput\n",
    "fullSample.setDescription([\"Force\",\"Young\",\"Deflection\",\"Left Angle\",\"Right Angle\"])\n",
    "fullSample[0:5]"
   ]
  },
  {
   "cell_type": "code",
   "execution_count": 12,
   "metadata": {},
   "outputs": [
    {
     "data": {
      "image/png": "[encoded data removed]",
      "text/plain": [
       "class=Pairs name=Unnamed data=class=Sample name=Unnamed implementation=class=SampleImplementation name=Unnamed size=100 dimension=5 description=[Force,Young,Deflection,Left Angle,Right Angle] data=[[1.06082,196966,-7.35676e-06,-1.53385e-05,1.81481e-05],[0.873383,197401,-5.99772e-06,-1.20771e-05,1.55303e-05],[0.956173,200461,-6.54391e-06,-1.35773e-05,1.61439e-05],[1.12055,193805,-8.00364e-06,-1.64655e-05,1.93807e-05],[0.781861,200026,-5.2587e-06,-1.10977e-05,1.26377e-05],[1.035,197485,-7.15988e-06,-1.29708e-05,1.89534e-05],[0.964499,202056,-6.76119e-06,-1.3691e-05,1.68775e-05],[1.14372,198467,-8.0155e-06,-1.59447e-05,1.96889e-05],[1.08107,200435,-7.4793e-06,-1.53444e-05,1.73635e-05],[1.07932,202091,-7.386e-06,-1.47715e-05,1.87504e-05],[0.952947,200663,-6.5479e-06,-1.34979e-05,1.61457e-05],[1.0261,199024,-7.06538e-06,-1.44842e-05,1.67254e-05],[0.770994,199069,-5.39532e-06,-1.05702e-05,1.31962e-05],[0.871711,200664,-5.88827e-06,-1.20234e-05,1.52383e-05],[0.868822,199665,-6.07541e-06,-1.28389e-05,1.47614e-05],[0.990922,206025,-6.67345e-06,-1.32825e-05,1.69282e-05],[1.09958,201884,-7.44987e-06,-1.46088e-05,1.95566e-05],[0.986055,201224,-6.70556e-06,-1.28389e-05,1.72172e-05],[0.943979,201223,-6.2934e-06,-1.25361e-05,1.57531e-05],[1.04455,196925,-7.38371e-06,-1.49791e-05,1.89992e-05],[1.03229,195187,-7.53508e-06,-1.44053e-05,1.77731e-05],[1.04458,201326,-7.27869e-06,-1.42843e-05,1.82637e-05],[0.896192,198688,-6.3386e-06,-1.24682e-05,1.58642e-05],[0.914329,198497,-6.36832e-06,-1.26956e-05,1.57958e-05],[1.04736,200876,-7.33416e-06,-1.49196e-05,1.71572e-05],[0.98745,199089,-6.75962e-06,-1.39791e-05,1.66353e-05],[1.03514,203721,-7.16209e-06,-1.30702e-05,1.79439e-05],[1.17824,200439,-8.00927e-06,-1.58907e-05,2.00811e-05],[1.00702,203451,-6.77811e-06,-1.33189e-05,1.74299e-05],[0.921863,198913,-6.35778e-06,-1.30126e-05,1.67405e-05],[0.927847,198527,-6.49965e-06,-1.26423e-05,1.68713e-05],[0.975878,198984,-6.80995e-06,-1.42534e-05,1.75936e-05],[0.821204,195483,-5.85371e-06,-1.17466e-05,1.43436e-05],[1.04014,198807,-7.30897e-06,-1.35901e-05,1.85427e-05],[1.13678,199371,-7.75183e-06,-1.60562e-05,1.96868e-05],[1.10043,196435,-7.55607e-06,-1.53047e-05,1.86947e-05],[1.07415,198631,-7.59249e-06,-1.51678e-05,1.82694e-05],[0.995639,200122,-6.95e-06,-1.35332e-05,1.68657e-05],[1.05393,201747,-7.27503e-06,-1.44107e-05,1.80194e-05],[1.03,197074,-7.14661e-06,-1.47763e-05,1.83977e-05],[1.04077,199362,-7.15506e-06,-1.55327e-05,1.76459e-05],[0.951489,202526,-6.56257e-06,-1.30129e-05,1.65247e-05],[0.961701,199147,-6.59942e-06,-1.2983e-05,1.60917e-05],[0.924718,196215,-6.42722e-06,-1.25091e-05,1.63336e-05],[1.02579,198971,-7.07276e-06,-1.51149e-05,1.79954e-05],[1.19688,201294,-8.14987e-06,-1.66896e-05,2.03026e-05],[0.932871,200007,-6.31913e-06,-1.21016e-05,1.70585e-05],[1.18558,201459,-8.09333e-06,-1.61468e-05,2.04534e-05],[1.00522,199506,-6.90554e-06,-1.41357e-05,1.76834e-05],[1.07904,200958,-7.63943e-06,-1.46295e-05,1.8927e-05],[1.07164,199933,-7.45815e-06,-1.49669e-05,1.79117e-05],[0.925638,199927,-6.39625e-06,-1.33785e-05,1.60272e-05],[1.01844,200221,-6.95732e-06,-1.42103e-05,1.7377e-05],[0.846927,199246,-5.84812e-06,-1.24933e-05,1.52158e-05],[1.0655,199809,-7.33159e-06,-1.48209e-05,1.86016e-05],[1.05381,200218,-7.18478e-06,-1.36776e-05,1.78266e-05],[1.17382,199602,-7.95597e-06,-1.60389e-05,2.01777e-05],[0.904128,200947,-6.17645e-06,-1.22499e-05,1.56379e-05],[1.03779,200323,-7.01574e-06,-1.45261e-05,1.78361e-05],[0.9819,200769,-6.66336e-06,-1.37224e-05,1.64058e-05],[1.1673,200233,-7.99958e-06,-1.68903e-05,2.04524e-05],[0.896104,199800,-6.092e-06,-1.27803e-05,1.62657e-05],[0.964645,202983,-6.52973e-06,-1.28814e-05,1.66279e-05],[1.12138,202446,-7.49639e-06,-1.53043e-05,1.89448e-05],[0.922297,201053,-6.32281e-06,-1.20503e-05,1.58511e-05],[0.863147,198686,-5.97611e-06,-1.20835e-05,1.48062e-05],[1.01035,199738,-6.7809e-06,-1.36427e-05,1.72837e-05],[0.910818,197093,-6.4216e-06,-1.34248e-05,1.52073e-05],[1.09056,202348,-7.43051e-06,-1.46066e-05,1.85328e-05],[1.03348,201859,-7.00881e-06,-1.38011e-05,1.80823e-05],[0.951636,199326,-6.54959e-06,-1.34198e-05,1.73767e-05],[1.0678,201157,-7.30727e-06,-1.46069e-05,1.79646e-05],[1.17094,198835,-8.08665e-06,-1.57328e-05,2.00689e-05],[1.10706,197222,-7.59904e-06,-1.5625e-05,1.94951e-05],[0.949308,199001,-6.45829e-06,-1.31617e-05,1.75586e-05],[0.833914,196890,-5.75192e-06,-1.11113e-05,1.52761e-05],[1.22462,200966,-8.44878e-06,-1.71253e-05,2.10915e-05],[1.07596,200410,-7.4565e-06,-1.46537e-05,1.84396e-05],[0.948924,199805,-6.65938e-06,-1.25546e-05,1.65433e-05],[0.936693,201185,-6.49659e-06,-1.34906e-05,1.56879e-05],[0.904293,198796,-6.20515e-06,-1.22961e-05,1.63461e-05],[1.0544,197580,-7.41447e-06,-1.58167e-05,1.86468e-05],[1.08146,198227,-7.55562e-06,-1.57172e-05,1.84736e-05],[0.926529,199718,-6.36609e-06,-1.20185e-05,1.5408e-05],[0.988854,200884,-6.88809e-06,-1.40028e-05,1.82836e-05],[1.09945,201038,-7.69832e-06,-1.50338e-05,1.94291e-05],[0.983937,196971,-6.91058e-06,-1.39989e-05,1.69096e-05],[0.906123,198646,-6.3275e-06,-1.26e-05,1.50948e-05],[0.803131,201335,-5.55457e-06,-1.16821e-05,1.36239e-05],[0.93424,197188,-6.46012e-06,-1.36194e-05,1.60369e-05],[1.03388,199941,-7.18552e-06,-1.44447e-05,1.89845e-05],[1.10156,198736,-7.84377e-06,-1.58822e-05,1.89773e-05],[1.06372,199316,-7.23923e-06,-1.53206e-05,1.87973e-05],[0.991009,204107,-6.64043e-06,-1.34112e-05,1.72228e-05],[0.914411,202317,-6.2484e-06,-1.30777e-05,1.50027e-05],[1.12713,197086,-7.76927e-06,-1.6012e-05,2.046e-05],[0.976175,198311,-6.71828e-06,-1.36905e-05,1.66996e-05],[1.13263,199423,-7.80519e-06,-1.50671e-05,1.85456e-05],[1.21197,200839,-8.27523e-06,-1.60788e-05,2.11357e-05],[0.909842,198328,-6.61162e-06,-1.29073e-05,1.6266e-05]] derived from class=DrawableImplementation name=Unnamed legend= data=class=Sample name=Unnamed implementation=class=SampleImplementation name=Unnamed size=100 dimension=5 description=[Force,Young,Deflection,Left Angle,Right Angle] data=[[1.06082,196966,-7.35676e-06,-1.53385e-05,1.81481e-05],[0.873383,197401,-5.99772e-06,-1.20771e-05,1.55303e-05],[0.956173,200461,-6.54391e-06,-1.35773e-05,1.61439e-05],[1.12055,193805,-8.00364e-06,-1.64655e-05,1.93807e-05],[0.781861,200026,-5.2587e-06,-1.10977e-05,1.26377e-05],[1.035,197485,-7.15988e-06,-1.29708e-05,1.89534e-05],[0.964499,202056,-6.76119e-06,-1.3691e-05,1.68775e-05],[1.14372,198467,-8.0155e-06,-1.59447e-05,1.96889e-05],[1.08107,200435,-7.4793e-06,-1.53444e-05,1.73635e-05],[1.07932,202091,-7.386e-06,-1.47715e-05,1.87504e-05],[0.952947,200663,-6.5479e-06,-1.34979e-05,1.61457e-05],[1.0261,199024,-7.06538e-06,-1.44842e-05,1.67254e-05],[0.770994,199069,-5.39532e-06,-1.05702e-05,1.31962e-05],[0.871711,200664,-5.88827e-06,-1.20234e-05,1.52383e-05],[0.868822,199665,-6.07541e-06,-1.28389e-05,1.47614e-05],[0.990922,206025,-6.67345e-06,-1.32825e-05,1.69282e-05],[1.09958,201884,-7.44987e-06,-1.46088e-05,1.95566e-05],[0.986055,201224,-6.70556e-06,-1.28389e-05,1.72172e-05],[0.943979,201223,-6.2934e-06,-1.25361e-05,1.57531e-05],[1.04455,196925,-7.38371e-06,-1.49791e-05,1.89992e-05],[1.03229,195187,-7.53508e-06,-1.44053e-05,1.77731e-05],[1.04458,201326,-7.27869e-06,-1.42843e-05,1.82637e-05],[0.896192,198688,-6.3386e-06,-1.24682e-05,1.58642e-05],[0.914329,198497,-6.36832e-06,-1.26956e-05,1.57958e-05],[1.04736,200876,-7.33416e-06,-1.49196e-05,1.71572e-05],[0.98745,199089,-6.75962e-06,-1.39791e-05,1.66353e-05],[1.03514,203721,-7.16209e-06,-1.30702e-05,1.79439e-05],[1.17824,200439,-8.00927e-06,-1.58907e-05,2.00811e-05],[1.00702,203451,-6.77811e-06,-1.33189e-05,1.74299e-05],[0.921863,198913,-6.35778e-06,-1.30126e-05,1.67405e-05],[0.927847,198527,-6.49965e-06,-1.26423e-05,1.68713e-05],[0.975878,198984,-6.80995e-06,-1.42534e-05,1.75936e-05],[0.821204,195483,-5.85371e-06,-1.17466e-05,1.43436e-05],[1.04014,198807,-7.30897e-06,-1.35901e-05,1.85427e-05],[1.13678,199371,-7.75183e-06,-1.60562e-05,1.96868e-05],[1.10043,196435,-7.55607e-06,-1.53047e-05,1.86947e-05],[1.07415,198631,-7.59249e-06,-1.51678e-05,1.82694e-05],[0.995639,200122,-6.95e-06,-1.35332e-05,1.68657e-05],[1.05393,201747,-7.27503e-06,-1.44107e-05,1.80194e-05],[1.03,197074,-7.14661e-06,-1.47763e-05,1.83977e-05],[1.04077,199362,-7.15506e-06,-1.55327e-05,1.76459e-05],[0.951489,202526,-6.56257e-06,-1.30129e-05,1.65247e-05],[0.961701,199147,-6.59942e-06,-1.2983e-05,1.60917e-05],[0.924718,196215,-6.42722e-06,-1.25091e-05,1.63336e-05],[1.02579,198971,-7.07276e-06,-1.51149e-05,1.79954e-05],[1.19688,201294,-8.14987e-06,-1.66896e-05,2.03026e-05],[0.932871,200007,-6.31913e-06,-1.21016e-05,1.70585e-05],[1.18558,201459,-8.09333e-06,-1.61468e-05,2.04534e-05],[1.00522,199506,-6.90554e-06,-1.41357e-05,1.76834e-05],[1.07904,200958,-7.63943e-06,-1.46295e-05,1.8927e-05],[1.07164,199933,-7.45815e-06,-1.49669e-05,1.79117e-05],[0.925638,199927,-6.39625e-06,-1.33785e-05,1.60272e-05],[1.01844,200221,-6.95732e-06,-1.42103e-05,1.7377e-05],[0.846927,199246,-5.84812e-06,-1.24933e-05,1.52158e-05],[1.0655,199809,-7.33159e-06,-1.48209e-05,1.86016e-05],[1.05381,200218,-7.18478e-06,-1.36776e-05,1.78266e-05],[1.17382,199602,-7.95597e-06,-1.60389e-05,2.01777e-05],[0.904128,200947,-6.17645e-06,-1.22499e-05,1.56379e-05],[1.03779,200323,-7.01574e-06,-1.45261e-05,1.78361e-05],[0.9819,200769,-6.66336e-06,-1.37224e-05,1.64058e-05],[1.1673,200233,-7.99958e-06,-1.68903e-05,2.04524e-05],[0.896104,199800,-6.092e-06,-1.27803e-05,1.62657e-05],[0.964645,202983,-6.52973e-06,-1.28814e-05,1.66279e-05],[1.12138,202446,-7.49639e-06,-1.53043e-05,1.89448e-05],[0.922297,201053,-6.32281e-06,-1.20503e-05,1.58511e-05],[0.863147,198686,-5.97611e-06,-1.20835e-05,1.48062e-05],[1.01035,199738,-6.7809e-06,-1.36427e-05,1.72837e-05],[0.910818,197093,-6.4216e-06,-1.34248e-05,1.52073e-05],[1.09056,202348,-7.43051e-06,-1.46066e-05,1.85328e-05],[1.03348,201859,-7.00881e-06,-1.38011e-05,1.80823e-05],[0.951636,199326,-6.54959e-06,-1.34198e-05,1.73767e-05],[1.0678,201157,-7.30727e-06,-1.46069e-05,1.79646e-05],[1.17094,198835,-8.08665e-06,-1.57328e-05,2.00689e-05],[1.10706,197222,-7.59904e-06,-1.5625e-05,1.94951e-05],[0.949308,199001,-6.45829e-06,-1.31617e-05,1.75586e-05],[0.833914,196890,-5.75192e-06,-1.11113e-05,1.52761e-05],[1.22462,200966,-8.44878e-06,-1.71253e-05,2.10915e-05],[1.07596,200410,-7.4565e-06,-1.46537e-05,1.84396e-05],[0.948924,199805,-6.65938e-06,-1.25546e-05,1.65433e-05],[0.936693,201185,-6.49659e-06,-1.34906e-05,1.56879e-05],[0.904293,198796,-6.20515e-06,-1.22961e-05,1.63461e-05],[1.0544,197580,-7.41447e-06,-1.58167e-05,1.86468e-05],[1.08146,198227,-7.55562e-06,-1.57172e-05,1.84736e-05],[0.926529,199718,-6.36609e-06,-1.20185e-05,1.5408e-05],[0.988854,200884,-6.88809e-06,-1.40028e-05,1.82836e-05],[1.09945,201038,-7.69832e-06,-1.50338e-05,1.94291e-05],[0.983937,196971,-6.91058e-06,-1.39989e-05,1.69096e-05],[0.906123,198646,-6.3275e-06,-1.26e-05,1.50948e-05],[0.803131,201335,-5.55457e-06,-1.16821e-05,1.36239e-05],[0.93424,197188,-6.46012e-06,-1.36194e-05,1.60369e-05],[1.03388,199941,-7.18552e-06,-1.44447e-05,1.89845e-05],[1.10156,198736,-7.84377e-06,-1.58822e-05,1.89773e-05],[1.06372,199316,-7.23923e-06,-1.53206e-05,1.87973e-05],[0.991009,204107,-6.64043e-06,-1.34112e-05,1.72228e-05],[0.914411,202317,-6.2484e-06,-1.30777e-05,1.50027e-05],[1.12713,197086,-7.76927e-06,-1.6012e-05,2.046e-05],[0.976175,198311,-6.71828e-06,-1.36905e-05,1.66996e-05],[1.13263,199423,-7.80519e-06,-1.50671e-05,1.85456e-05],[1.21197,200839,-8.27523e-06,-1.60788e-05,2.11357e-05],[0.909842,198328,-6.61162e-06,-1.29073e-05,1.6266e-05]] color=blue fillStyle=solid lineStyle=solid pointStyle=plus lineWidth=1"
      ]
     },
     "execution_count": 12,
     "metadata": {},
     "output_type": "execute_result"
    }
   ],
   "source": [
    "ot.Pairs(fullSample)"
   ]
  },
  {
   "cell_type": "markdown",
   "metadata": {},
   "source": [
    "## Setting up the calibration"
   ]
  },
  {
   "cell_type": "code",
   "execution_count": 13,
   "metadata": {},
   "outputs": [],
   "source": [
    "XL = 1.4 # Exact : 1.5\n",
    "Xa = 1.2 # Exact : 1.0\n",
    "XD = 0.7 # Exact : 0.8\n",
    "Xd = 0.2 # Exact : 0.1\n",
    "thetaPrior = ot.Point([XL,Xa,XD,Xd])\n",
    "thetaPrior.setDescription((\"L\",\"a\",\"D\",\"d\"))"
   ]
  },
  {
   "cell_type": "code",
   "execution_count": 14,
   "metadata": {},
   "outputs": [
    {
     "data": {
      "text/html": [
       "<p>[[ 0.0196 0      0      0      ]<br>\n",
       " [ 0      0.0144 0      0      ]<br>\n",
       " [ 0      0      0.0049 0      ]<br>\n",
       " [ 0      0      0      0.0004 ]]</p>"
      ],
      "text/plain": [
       "class=CovarianceMatrix dimension=4 implementation=class=MatrixImplementation name=Unnamed rows=4 columns=4 values=[0.0196,0,0,0,0,0.0144,0,0,0,0,0.0049,0,0,0,0,0.0004]"
      ]
     },
     "execution_count": 14,
     "metadata": {},
     "output_type": "execute_result"
    }
   ],
   "source": [
    "sigmaXL = 0.1 * XL\n",
    "sigmaXa = 0.1 * Xa\n",
    "sigmaXD = 0.1 * XD\n",
    "sigmaXd = 0.1 * Xd\n",
    "parameterCovariance = ot.CovarianceMatrix(4)\n",
    "parameterCovariance[0,0] = sigmaXL**2\n",
    "parameterCovariance[1,1] = sigmaXa**2\n",
    "parameterCovariance[2,2] = sigmaXD**2\n",
    "parameterCovariance[3,3] = sigmaXd**2\n",
    "parameterCovariance"
   ]
  },
  {
   "cell_type": "code",
   "execution_count": 15,
   "metadata": {},
   "outputs": [],
   "source": [
    "calibratedIndices = [1,2,3,4]\n",
    "calibrationFunction = ot.ParametricFunction(g, calibratedIndices, thetaPrior)"
   ]
  },
  {
   "cell_type": "code",
   "execution_count": 16,
   "metadata": {},
   "outputs": [],
   "source": [
    "sigmaObservation = [0.2e-6,0.03e-5,0.03e-5] # Exact : 0.1e-6"
   ]
  },
  {
   "cell_type": "code",
   "execution_count": 17,
   "metadata": {},
   "outputs": [],
   "source": [
    "errorCovariance = ot.CovarianceMatrix(3)\n",
    "errorCovariance[0,0] = sigmaObservation[0]**2\n",
    "errorCovariance[1,1] = sigmaObservation[1]**2\n",
    "errorCovariance[2,2] = sigmaObservation[2]**2"
   ]
  },
  {
   "cell_type": "code",
   "execution_count": 18,
   "metadata": {
    "scrolled": false
   },
   "outputs": [
    {
     "data": {
      "text/html": [
       "<TABLE><TR><TD></TD><TH>Deflection</TH><TH>Left angle</TH><TH>Right angle</TH></TR>\n",
       "<TR><TD>0</TD><TD>-3.154534354474193e-06</TD><TD>-1.0515114514913978e-05</TD><TD>1.7087061086735213e-05</TD></TR>\n",
       "<TR><TD>1</TD><TD>-2.591430805511134e-06</TD><TD>-8.638102685037113e-06</TD><TD>1.4036916863185308e-05</TD></TR>\n",
       "<TR><TD>2</TD><TD>-2.79378029928786e-06</TD><TD>-9.312600997626203e-06</TD><TD>1.5132976621142579e-05</TD></TR>\n",
       "<TR><TD>3</TD><TD>-3.3864897803118274e-06</TD><TD>-1.1288299267706095e-05</TD><TD>1.8343486310022407e-05</TD></TR>\n",
       "<TR><TD>4</TD><TD>-2.2894295372118615e-06</TD><TD>-7.631431790706208e-06</TD><TD>1.2401076659897585e-05</TD></TR>\n",
       "</TABLE>"
      ],
      "text/plain": [
       "class=Sample name=Unnamed implementation=class=SampleImplementation name=Unnamed size=5 dimension=3 description=[Deflection,Left angle,Right angle] data=[[-3.15453e-06,-1.05151e-05,1.70871e-05],[-2.59143e-06,-8.6381e-06,1.40369e-05],[-2.79378e-06,-9.3126e-06,1.5133e-05],[-3.38649e-06,-1.12883e-05,1.83435e-05],[-2.28943e-06,-7.63143e-06,1.24011e-05]]"
      ]
     },
     "execution_count": 18,
     "metadata": {},
     "output_type": "execute_result"
    }
   ],
   "source": [
    "calibrationFunction.setParameter(thetaPrior)\n",
    "predictedOutput = calibrationFunction(observedInput)\n",
    "predictedOutput[0:5]"
   ]
  },
  {
   "cell_type": "markdown",
   "metadata": {},
   "source": [
    "## A visualisation class"
   ]
  },
  {
   "cell_type": "code",
   "execution_count": 19,
   "metadata": {},
   "outputs": [],
   "source": [
    "# -*- coding: utf-8 -*-\n",
    "\"\"\"\n",
    "A graphics class to analyze the results of calibration.\n",
    "\"\"\"\n",
    "\n",
    "import pylab as pl\n",
    "import openturns as ot\n",
    "\n",
    "class CalibrationAnalysis:\n",
    "    def __init__(self,calibrationResult,model,inputObservations,outputObservations):\n",
    "        \"\"\"\n",
    "        Plots the prior and posterior distribution of the calibrated parameter theta.\n",
    "    \n",
    "        Parameters\n",
    "        ----------\n",
    "        calibrationResult : :class:`~openturns.calibrationResult`\n",
    "            The result of a calibration.\n",
    "    \n",
    "        model : 2-d sequence of float\n",
    "            The function to calibrate.\n",
    "    \n",
    "        inputObservations : :class:`~openturns.Sample`\n",
    "            The sample of input values of the model linked to the observations.\n",
    "    \n",
    "        outputObservations : 2-d sequence of float\n",
    "            The sample of output values of the model linked to the observations.\n",
    "        \"\"\"\n",
    "        self.model = model\n",
    "        self.outputAtPrior = None\n",
    "        self.outputAtPosterior = None\n",
    "        self.calibrationResult = calibrationResult\n",
    "        self.observationColor = \"blue\"\n",
    "        self.priorColor = \"red\"\n",
    "        self.posteriorColor = \"green\"\n",
    "        self.inputObservations = inputObservations\n",
    "        self.outputObservations = outputObservations\n",
    "        self.unitlength = 6 # inch\n",
    "        # Compute yAtPrior\n",
    "        meanPrior = calibrationResult.getParameterPrior().getMean()\n",
    "        model.setParameter(meanPrior)\n",
    "        self.outputAtPrior=model(inputObservations)\n",
    "        # Compute yAtPosterior\n",
    "        meanPosterior = calibrationResult.getParameterPosterior().getMean()\n",
    "        model.setParameter(meanPosterior)\n",
    "        self.outputAtPosterior=model(inputObservations)\n",
    "        return None\n",
    "\n",
    "    def drawParameterDistributions(self):\n",
    "        \"\"\"\n",
    "        Plots the prior and posterior distribution of the calibrated parameter theta.\n",
    "        \"\"\"\n",
    "        thetaPrior = self.calibrationResult.getParameterPrior()\n",
    "        thetaDescription = thetaPrior.getDescription()\n",
    "        thetaPosterior = self.calibrationResult.getParameterPosterior()\n",
    "        thetaDim = thetaPosterior.getDimension()\n",
    "        fig = pl.figure(figsize=(12, 4))\n",
    "        for i in range(thetaDim):\n",
    "            graph = ot.Graph(\"\",thetaDescription[i],\"PDF\",True,\"topright\")\n",
    "            # Prior distribution\n",
    "            thetaPrior_i = thetaPrior.getMarginal(i)\n",
    "            priorPDF = thetaPrior_i.drawPDF()\n",
    "            priorPDF.setColors([self.priorColor])\n",
    "            priorPDF.setLegends([\"Prior\"])\n",
    "            graph.add(priorPDF)\n",
    "            # Posterior distribution\n",
    "            thetaPosterior_i = thetaPosterior.getMarginal(i)\n",
    "            postPDF = thetaPosterior_i.drawPDF()\n",
    "            postPDF.setColors([self.posteriorColor])\n",
    "            postPDF.setLegends([\"Posterior\"])\n",
    "            graph.add(postPDF)\n",
    "            '''\n",
    "            If the prior is a Dirac, set the vertical axis bounds to the posterior. \n",
    "            Otherwise, the Dirac set to [0,1], where the 1 can be much larger \n",
    "            than the maximum PDF of the posterior.\n",
    "            '''\n",
    "            if (thetaPrior_i.getName()==\"Dirac\"):\n",
    "                # The vertical (PDF) bounds of the posterior\n",
    "                postbb = postPDF.getBoundingBox()\n",
    "                pdf_upper = postbb.getUpperBound()[1]\n",
    "                pdf_lower = postbb.getLowerBound()[1]\n",
    "                # Set these bounds to the graph\n",
    "                bb = graph.getBoundingBox()\n",
    "                graph_upper = bb.getUpperBound()\n",
    "                graph_upper[1] = pdf_upper\n",
    "                bb.setUpperBound(graph_upper)\n",
    "                graph_lower = bb.getLowerBound()\n",
    "                graph_lower[1] = pdf_lower\n",
    "                bb.setLowerBound(graph_lower)\n",
    "                graph.setBoundingBox(bb)\n",
    "            # Add it to the graphics\n",
    "            ax = fig.add_subplot(1, thetaDim, i+1)\n",
    "            _ = ot.viewer.View(graph, figure=fig, axes=[ax])\n",
    "        return fig\n",
    "    \n",
    "    def drawObservationsVsPredictions(self):\n",
    "        \"\"\"\n",
    "        Plots the output of the model depending \n",
    "        on the output observations before and after calibration.\n",
    "        \"\"\"\n",
    "        \n",
    "        ySize = self.outputObservations.getSize()\n",
    "        yDim = self.outputObservations.getDimension()\n",
    "        graph = ot.Graph(\"\",\"Observations\",\"Predictions\",True,\"topleft\")\n",
    "        # Plot the diagonal\n",
    "        if (yDim==1):\n",
    "            graph = self._drawObservationsVsPredictions1Dimension(self.outputObservations,self.outputAtPrior,self.outputAtPosterior)\n",
    "        elif (ySize==1):\n",
    "            outputObservations = ot.Sample(self.outputObservations[0],1)\n",
    "            outputAtPrior = ot.Sample(self.outputAtPrior[0],1)\n",
    "            outputAtPosterior = ot.Sample(self.outputAtPosterior[0],1)\n",
    "            graph = self._drawObservationsVsPredictions1Dimension(outputObservations,outputAtPrior,outputAtPosterior)\n",
    "        else:\n",
    "            fig = pl.figure(figsize=(self.unitlength*yDim, self.unitlength))\n",
    "            for i in range(yDim):\n",
    "                outputObservations = self.outputObservations[:,i]\n",
    "                outputAtPrior = self.outputAtPrior[:,i]\n",
    "                outputAtPosterior = self.outputAtPosterior[:,i]\n",
    "                graph = self._drawObservationsVsPredictions1Dimension(outputObservations,outputAtPrior,outputAtPosterior)\n",
    "                ax = fig.add_subplot(1, yDim, i+1)\n",
    "                _ = ot.viewer.View(graph, figure=fig, axes=[ax])\n",
    "\n",
    "        return graph\n",
    "\n",
    "    def _drawObservationsVsPredictions1Dimension(self,outputObservations,outputAtPrior,outputAtPosterior):\n",
    "        \"\"\"\n",
    "        Plots the output of the model depending \n",
    "        on the output observations before and after calibration.\n",
    "        Can manage only 1D samples.\n",
    "        \"\"\"\n",
    "        yDim = outputObservations.getDimension()\n",
    "        ydescription = outputObservations.getDescription()\n",
    "        xlabel = \"%s Observations\" % (ydescription[0])\n",
    "        ylabel = \"%s Predictions\" % (ydescription[0])\n",
    "        graph = ot.Graph(\"\",xlabel,ylabel,True,\"topleft\")\n",
    "        # Plot the diagonal\n",
    "        if (yDim==1):\n",
    "            curve = ot.Curve(outputObservations, outputObservations)\n",
    "            curve.setColor(self.observationColor)\n",
    "            graph.add(curve)\n",
    "        else:\n",
    "            raise TypeError('Output observations are not 1D.')\n",
    "        # Plot the predictions before\n",
    "        yPriorDim = outputAtPrior.getDimension()\n",
    "        if (yPriorDim==1):\n",
    "            cloud = ot.Cloud(outputObservations, outputAtPrior)\n",
    "            cloud.setColor(self.priorColor)\n",
    "            cloud.setLegend(\"Prior\")\n",
    "            graph.add(cloud)\n",
    "        else:\n",
    "            raise TypeError('Output prior predictions are not 1D.')\n",
    "        # Plot the predictions after\n",
    "        yPosteriorDim = outputAtPosterior.getDimension()\n",
    "        if (yPosteriorDim==1):\n",
    "            cloud = ot.Cloud(outputObservations, outputAtPosterior)\n",
    "            cloud.setColor(self.posteriorColor)\n",
    "            cloud.setLegend(\"Posterior\")\n",
    "            graph.add(cloud)\n",
    "        else:\n",
    "            raise TypeError('Output posterior predictions are not 1D.')\n",
    "        return graph\n",
    "    \n",
    "    def drawResiduals(self):\n",
    "        \"\"\"\n",
    "        Plot the distribution of the residuals and \n",
    "        the distribution of the observation errors. \n",
    "        \"\"\"    \n",
    "        ySize = self.outputObservations.getSize()\n",
    "        yDim = self.outputObservations.getDimension()\n",
    "        yPriorSize = self.outputAtPrior.getSize()\n",
    "        yPriorDim = self.outputAtPrior.getDimension()\n",
    "        if (yDim==1):\n",
    "            observationsError = self.calibrationResult.getObservationsError()\n",
    "            graph = self._drawResiduals1Dimension(self.outputObservations,self.outputAtPrior,self.outputAtPosterior,observationsError)\n",
    "        elif (ySize==1):\n",
    "            outputObservations = ot.Sample(self.outputObservations[0],1)\n",
    "            outputAtPrior = ot.Sample(self.outputAtPrior[0],1)\n",
    "            outputAtPosterior = ot.Sample(self.outputAtPosterior[0],1)\n",
    "            observationsError = self.calibrationResult.getObservationsError()\n",
    "            # In this case, we cannot draw observationsError ; just \n",
    "            # pass the required input argument, but it is not actually used.\n",
    "            graph = self._drawResiduals1Dimension(outputObservations,outputAtPrior,outputAtPosterior,observationsError)\n",
    "        else:\n",
    "            observationsError = self.calibrationResult.getObservationsError()\n",
    "            fig = pl.figure(figsize=(self.unitlength*yDim, self.unitlength))\n",
    "            for i in range(yDim):\n",
    "                outputObservations = self.outputObservations[:,i]\n",
    "                outputAtPrior = self.outputAtPrior[:,i]\n",
    "                outputAtPosterior = self.outputAtPosterior[:,i]\n",
    "                observationsErrorYi = observationsError.getMarginal(i)\n",
    "                graph = self._drawResiduals1Dimension(outputObservations,outputAtPrior,outputAtPosterior,observationsErrorYi)\n",
    "                ax = fig.add_subplot(1, yDim, i+1)\n",
    "                _ = ot.viewer.View(graph, figure=fig, axes=[ax])\n",
    "        return graph\n",
    "\n",
    "    def _drawResiduals1Dimension(self,outputObservations,outputAtPrior,outputAtPosterior,observationsError):\n",
    "        \"\"\"\n",
    "        Plot the distribution of the residuals and \n",
    "        the distribution of the observation errors. \n",
    "        Can manage only 1D samples.\n",
    "        \"\"\"    \n",
    "        ydescription = outputObservations.getDescription()\n",
    "        xlabel = \"%s Residuals\" % (ydescription[0])\n",
    "        graph = ot.Graph(\"Residuals analysis\",xlabel,\"Probability distribution function\",True,\"topright\")\n",
    "        yDim = outputObservations.getDimension()\n",
    "        yPriorDim = outputAtPrior.getDimension()\n",
    "        yPosteriorDim = outputAtPrior.getDimension()\n",
    "        if (yDim==1) and (yPriorDim==1) :\n",
    "            posteriorResiduals = outputObservations - outputAtPrior\n",
    "            kernel = ot.KernelSmoothing()\n",
    "            fittedDist = kernel.build(posteriorResiduals)\n",
    "            residualPDF = fittedDist.drawPDF()\n",
    "            residualPDF.setColors([self.priorColor])\n",
    "            residualPDF.setLegends([\"Prior\"])\n",
    "            graph.add(residualPDF)\n",
    "        else:\n",
    "            raise TypeError('Output prior observations are not 1D.')\n",
    "        if (yDim==1) and (yPosteriorDim==1) :\n",
    "            posteriorResiduals = outputObservations - outputAtPosterior\n",
    "            kernel = ot.KernelSmoothing()\n",
    "            fittedDist = kernel.build(posteriorResiduals)\n",
    "            residualPDF = fittedDist.drawPDF()\n",
    "            residualPDF.setColors([self.posteriorColor])\n",
    "            residualPDF.setLegends([\"Posterior\"])\n",
    "            graph.add(residualPDF)\n",
    "        else:\n",
    "            raise TypeError('Output posterior observations are not 1D.')\n",
    "        # Plot the distribution of the observation errors\n",
    "        if (observationsError.getDimension()==1):\n",
    "            # In the other case, we just do not plot\n",
    "            obserrgraph = observationsError.drawPDF()\n",
    "            obserrgraph.setColors([self.observationColor])\n",
    "            obserrgraph.setLegends([\"Observation errors\"])\n",
    "            graph.add(obserrgraph)\n",
    "        return graph\n",
    "\n",
    "    def drawObservationsVsInputs(self):\n",
    "        \"\"\"\n",
    "        Plots the observed output of the model depending \n",
    "        on the observed input before and after calibration.\n",
    "        \"\"\"\n",
    "        xSize = self.inputObservations.getSize()\n",
    "        ySize = self.outputObservations.getSize()\n",
    "        xDim = self.inputObservations.getDimension()\n",
    "        yDim = self.outputObservations.getDimension()\n",
    "        xdescription = self.inputObservations.getDescription()\n",
    "        ydescription = self.outputObservations.getDescription()\n",
    "        # Observations\n",
    "        if (xDim==1) and (yDim==1):\n",
    "            graph = self._drawObservationsVsInputs1Dimension(self.inputObservations,self.outputObservations,self.outputAtPrior,self.outputAtPosterior)\n",
    "        elif (xSize==1) and (ySize==1):\n",
    "            inputObservations = ot.Sample(self.inputObservations[0],1)\n",
    "            outputObservations = ot.Sample(self.outputObservations[0],1)\n",
    "            outputAtPrior = ot.Sample(self.outputAtPrior[0],1)\n",
    "            outputAtPosterior = ot.Sample(self.outputAtPosterior[0],1)\n",
    "            graph = self._drawObservationsVsInputs1Dimension(inputObservations,outputObservations,outputAtPrior,outputAtPosterior)\n",
    "        else:\n",
    "            fig = pl.figure(figsize=(xDim*self.unitlength, yDim*self.unitlength))\n",
    "            for i in range(xDim):\n",
    "                for j in range(yDim):\n",
    "                    k = xDim * j + i\n",
    "                    inputObservations = self.inputObservations[:,i]\n",
    "                    outputObservations = self.outputObservations[:,j]\n",
    "                    outputAtPrior = self.outputAtPrior[:,j]\n",
    "                    outputAtPosterior = self.outputAtPosterior[:,j]\n",
    "                    graph = self._drawObservationsVsInputs1Dimension(inputObservations,outputObservations,outputAtPrior,outputAtPosterior)\n",
    "                    ax = fig.add_subplot(yDim, xDim, k+1)\n",
    "                    _ = ot.viewer.View(graph, figure=fig, axes=[ax])\n",
    "        return graph\n",
    "\n",
    "    def _drawObservationsVsInputs1Dimension(self,inputObservations,outputObservations,outputAtPrior,outputAtPosterior):\n",
    "        \"\"\"\n",
    "        Plots the observed output of the model depending \n",
    "        on the observed input before and after calibration.\n",
    "        Can manage only 1D samples.\n",
    "        \"\"\"\n",
    "        xDim = inputObservations.getDimension()\n",
    "        if (xDim!=1):\n",
    "            raise TypeError('Input observations are not 1D.')\n",
    "        yDim = outputObservations.getDimension()\n",
    "        xdescription = inputObservations.getDescription()\n",
    "        ydescription = outputObservations.getDescription()\n",
    "        graph = ot.Graph(\"\",xdescription[0],ydescription[0],True,\"topright\")\n",
    "        # Observations\n",
    "        if (yDim==1):\n",
    "            cloud = ot.Cloud(inputObservations,outputObservations)\n",
    "            cloud.setColor(self.observationColor)\n",
    "            cloud.setLegend(\"Observations\")\n",
    "            graph.add(cloud)\n",
    "        else:\n",
    "            raise TypeError('Output observations are not 1D.')\n",
    "        # Model outputs before calibration\n",
    "        yPriorDim = outputAtPrior.getDimension()\n",
    "        if (yPriorDim==1):\n",
    "            cloud = ot.Cloud(inputObservations,outputAtPrior)\n",
    "            cloud.setColor(self.priorColor)\n",
    "            cloud.setLegend(\"Prior\")\n",
    "            graph.add(cloud)\n",
    "        else:\n",
    "            raise TypeError('Output prior predictions are not 1D.')\n",
    "        # Model outputs after calibration\n",
    "        yPosteriorDim = outputAtPosterior.getDimension()\n",
    "        if (yPosteriorDim==1):\n",
    "            cloud = ot.Cloud(inputObservations,outputAtPosterior)\n",
    "            cloud.setColor(self.posteriorColor)\n",
    "            cloud.setLegend(\"Posterior\")\n",
    "            graph.add(cloud)\n",
    "        else:\n",
    "            raise TypeError('Output posterior predictions are not 1D.')\n",
    "        return graph"
   ]
  },
  {
   "cell_type": "markdown",
   "metadata": {},
   "source": [
    "## Calibration with gaussian non linear least squares"
   ]
  },
  {
   "cell_type": "code",
   "execution_count": 20,
   "metadata": {},
   "outputs": [],
   "source": [
    "algo = ot.GaussianNonLinearCalibration(calibrationFunction, observedInput, observedOutput, thetaPrior, parameterCovariance, errorCovariance)"
   ]
  },
  {
   "cell_type": "code",
   "execution_count": 21,
   "metadata": {},
   "outputs": [],
   "source": [
    "algo.run()"
   ]
  },
  {
   "cell_type": "code",
   "execution_count": 22,
   "metadata": {},
   "outputs": [],
   "source": [
    "calibrationResult = algo.getResult()"
   ]
  },
  {
   "cell_type": "markdown",
   "metadata": {},
   "source": [
    "## Analysis of the results"
   ]
  },
  {
   "cell_type": "code",
   "execution_count": 23,
   "metadata": {},
   "outputs": [
    {
     "data": {
      "text/html": [
       "<p>[1.49042,0.991571,0.798252,0.199874]</p>"
      ],
      "text/plain": [
       "class=Point name=Unnamed dimension=4 values=[1.49042,0.991571,0.798252,0.199874]"
      ]
     },
     "execution_count": 23,
     "metadata": {},
     "output_type": "execute_result"
    }
   ],
   "source": [
    "thetaMAP = calibrationResult.getParameterMAP()\n",
    "thetaMAP"
   ]
  },
  {
   "cell_type": "markdown",
   "metadata": {},
   "source": [
    "Compute a 95% confidence interval for each marginal."
   ]
  },
  {
   "cell_type": "code",
   "execution_count": 24,
   "metadata": {},
   "outputs": [
    {
     "name": "stdout",
     "output_type": "stream",
     "text": [
      "[1.4721, 1.514]\n",
      "[0.969123, 1.02096]\n",
      "[0.794538, 0.802743]\n",
      "[0.199868, 0.199879]\n"
     ]
    }
   ],
   "source": [
    "thetaPosterior = calibrationResult.getParameterPosterior()\n",
    "alpha = 0.95\n",
    "dim = thetaPosterior.getDimension()\n",
    "for i in range(dim):\n",
    "    print(thetaPosterior.getMarginal(i).computeBilateralConfidenceInterval(alpha))"
   ]
  },
  {
   "cell_type": "code",
   "execution_count": 25,
   "metadata": {},
   "outputs": [
    {
     "ename": "NameError",
     "evalue": "name 'ca' is not defined",
     "output_type": "error",
     "traceback": [
      "\u001b[0;31m---------------------------------------------------------------------------\u001b[0m",
      "\u001b[0;31mNameError\u001b[0m                                 Traceback (most recent call last)",
      "\u001b[0;32m<ipython-input-25-edd0deee455f>\u001b[0m in \u001b[0;36m<module>\u001b[0;34m\u001b[0m\n\u001b[0;32m----> 1\u001b[0;31m \u001b[0mmypcr\u001b[0m \u001b[0;34m=\u001b[0m \u001b[0mca\u001b[0m\u001b[0;34m.\u001b[0m\u001b[0mCalibrationAnalysis\u001b[0m\u001b[0;34m(\u001b[0m\u001b[0mcalibrationResult\u001b[0m\u001b[0;34m,\u001b[0m\u001b[0mcalibrationFunction\u001b[0m\u001b[0;34m,\u001b[0m \u001b[0mobservedInput\u001b[0m\u001b[0;34m,\u001b[0m \u001b[0mobservedOutput\u001b[0m\u001b[0;34m)\u001b[0m\u001b[0;34m\u001b[0m\u001b[0;34m\u001b[0m\u001b[0m\n\u001b[0m",
      "\u001b[0;31mNameError\u001b[0m: name 'ca' is not defined"
     ]
    }
   ],
   "source": [
    "mypcr = ca.CalibrationAnalysis(calibrationResult,calibrationFunction, observedInput, observedOutput)"
   ]
  },
  {
   "cell_type": "code",
   "execution_count": null,
   "metadata": {},
   "outputs": [],
   "source": [
    "_ = mypcr.drawObservationsVsInputs()"
   ]
  },
  {
   "cell_type": "code",
   "execution_count": null,
   "metadata": {},
   "outputs": [],
   "source": [
    "_ = mypcr.drawObservationsVsPredictions()"
   ]
  },
  {
   "cell_type": "code",
   "execution_count": null,
   "metadata": {},
   "outputs": [],
   "source": [
    "_ = mypcr.drawResiduals()"
   ]
  },
  {
   "cell_type": "code",
   "execution_count": null,
   "metadata": {},
   "outputs": [],
   "source": [
    "_ = mypcr.drawParameterDistributions()"
   ]
  }
 ],
 "metadata": {
  "kernelspec": {
   "display_name": "Python 3",
   "language": "python",
   "name": "python3"
  },
  "language_info": {
   "codemirror_mode": {
    "name": "ipython",
    "version": 3
   },
   "file_extension": ".py",
   "mimetype": "text/x-python",
   "name": "python",
   "nbconvert_exporter": "python",
   "pygments_lexer": "ipython3",
   "version": "3.7.1"
  }
 },
 "nbformat": 4,
 "nbformat_minor": 2
}
