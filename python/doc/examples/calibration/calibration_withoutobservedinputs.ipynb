{
 "cells": [
  {
   "cell_type": "markdown",
   "metadata": {},
   "source": [
    "# Calibration without observed inputs\n",
    "\n",
    "The goal of this example is to present the calibration of a model which does not have observed inputs. In this case, there are, however, several outputs to be calibrated."
   ]
  },
  {
   "cell_type": "code",
   "execution_count": 1,
   "metadata": {},
   "outputs": [],
   "source": [
    "import openturns as ot"
   ]
  },
  {
   "cell_type": "markdown",
   "metadata": {},
   "source": [
    "This model is linear in $(a, b, c)$ and identifiable.\n",
    "It is derived from the equation \n",
    "\n",
    "$$\n",
    "y(x) = a + b x + c x^2\n",
    "$$\n",
    "\n",
    "at $x=-1.0, -0.6, -0.2, 0.2, 0.6, 1.0$. Therefore, it has 3 inputs and 6 outputs."
   ]
  },
  {
   "cell_type": "code",
   "execution_count": 2,
   "metadata": {},
   "outputs": [
    {
     "data": {
      "text/plain": [
       "6"
      ]
     },
     "execution_count": 2,
     "metadata": {},
     "output_type": "execute_result"
    }
   ],
   "source": [
    "g = ot.SymbolicFunction(\n",
    "    [\"a\", \"b\", \"c\"],\n",
    "    [\n",
    "        \"a +  -1.0  * b +  1.0  * c\",\n",
    "        \"a +  -0.6  * b +  0.36  * c\",\n",
    "        \"a +  -0.2  * b +  0.04  * c\",\n",
    "        \"a +  0.2  * b +  0.04  * c\",\n",
    "        \"a +  0.6  * b +  0.36  * c\",\n",
    "        \"a +  1.0  * b +  1.0  * c\",\n",
    "    ],\n",
    ")\n",
    "outputDimension = g.getOutputDimension()\n",
    "outputDimension"
   ]
  },
  {
   "cell_type": "code",
   "execution_count": 3,
   "metadata": {},
   "outputs": [
    {
     "data": {
      "text/html": [
       "<p>[12,7,-8]</p>"
      ],
      "text/plain": [
       "class=Point name=Unnamed dimension=3 values=[12,7,-8]"
      ]
     },
     "execution_count": 3,
     "metadata": {},
     "output_type": "execute_result"
    }
   ],
   "source": [
    "trueParameter = ot.Point([12.0, 7.0, -8.0])\n",
    "trueParameter"
   ]
  },
  {
   "cell_type": "code",
   "execution_count": 4,
   "metadata": {},
   "outputs": [],
   "source": [
    "Theta1 = ot.Dirac(trueParameter[0])\n",
    "Theta2 = ot.Dirac(trueParameter[1])\n",
    "Theta3 = ot.Dirac(trueParameter[2])\n",
    "\n",
    "inputRandomVector = ot.ComposedDistribution([Theta1, Theta2, Theta3])"
   ]
  },
  {
   "cell_type": "markdown",
   "metadata": {},
   "source": [
    "The candidate value is chosen to be different to the true parameter value. "
   ]
  },
  {
   "cell_type": "code",
   "execution_count": 5,
   "metadata": {},
   "outputs": [],
   "source": [
    "candidate = ot.Point([8.0, 9.0, -6.0])\n",
    "calibratedIndices = [0, 1, 2]\n",
    "model = ot.ParametricFunction(g, calibratedIndices, candidate)"
   ]
  },
  {
   "cell_type": "markdown",
   "metadata": {},
   "source": [
    "We consider a multivariate gaussian noise with zero mean, standard deviation equal to 0.05 and independent copula. The independent copula implies that the errors of the 6 outputs are independent."
   ]
  },
  {
   "cell_type": "code",
   "execution_count": 6,
   "metadata": {},
   "outputs": [
    {
     "data": {
      "text/html": [
       "<p>Normal(mu = [0,0,0,0,0,0], sigma = [1,1,1,1,1,1], R = 6x6<br>\n",
       "[[ 1 0 0 0 0 0 ]<br>\n",
       " [ 0 1 0 0 0 0 ]<br>\n",
       " [ 0 0 1 0 0 0 ]<br>\n",
       " [ 0 0 0 1 0 0 ]<br>\n",
       " [ 0 0 0 0 1 0 ]<br>\n",
       " [ 0 0 0 0 0 1 ]])</p>"
      ],
      "text/plain": [
       "class=Normal name=Normal dimension=6 mean=class=Point name=Unnamed dimension=6 values=[0,0,0,0,0,0] sigma=class=Point name=Unnamed dimension=6 values=[1,1,1,1,1,1] correlationMatrix=class=CorrelationMatrix dimension=6 implementation=class=MatrixImplementation name=Unnamed rows=6 columns=6 values=[1,0,0,0,0,0,0,1,0,0,0,0,0,0,1,0,0,0,0,0,0,1,0,0,0,0,0,0,1,0,0,0,0,0,0,1]"
      ]
     },
     "execution_count": 6,
     "metadata": {},
     "output_type": "execute_result"
    }
   ],
   "source": [
    "outputObservationNoiseSigma = 1.0\n",
    "meanNoise = ot.Point(outputDimension)\n",
    "covarianceNoise = ot.Point(outputDimension, outputObservationNoiseSigma)\n",
    "R = ot.IdentityMatrix(outputDimension)\n",
    "observationOutputNoise = ot.Normal(meanNoise, covarianceNoise, R)\n",
    "observationOutputNoise"
   ]
  },
  {
   "cell_type": "markdown",
   "metadata": {},
   "source": [
    "Finally, the generate the outputs by evaluating the exact outputs of the function and adding the noise. We use a sample with size equal to 5."
   ]
  },
  {
   "cell_type": "code",
   "execution_count": 7,
   "metadata": {},
   "outputs": [],
   "source": [
    "size = 5\n",
    "# Generate exact outputs\n",
    "inputSample = inputRandomVector.getSample(size)\n",
    "outputStress = g(inputSample)\n",
    "# Add noise\n",
    "sampleNoise = observationOutputNoise.getSample(size)\n",
    "outputObservations = outputStress + sampleNoise"
   ]
  },
  {
   "cell_type": "markdown",
   "metadata": {},
   "source": [
    "We are now ready to perform the calibration. Notice that we use the constructor without input observations."
   ]
  },
  {
   "cell_type": "code",
   "execution_count": 8,
   "metadata": {},
   "outputs": [],
   "source": [
    "algo = ot.LinearLeastSquaresCalibration(\n",
    "    model, outputObservations, candidate, \"SVD\"\n",
    ")\n",
    "algo.run()\n",
    "calibrationResult = algo.getResult()"
   ]
  },
  {
   "cell_type": "code",
   "execution_count": 9,
   "metadata": {},
   "outputs": [
    {
     "data": {
      "text/html": [
       "<p>[12.2026,7.05271,-8.63656]</p>"
      ],
      "text/plain": [
       "class=Point name=Unnamed dimension=3 values=[12.2026,7.05271,-8.63656]"
      ]
     },
     "execution_count": 9,
     "metadata": {},
     "output_type": "execute_result"
    }
   ],
   "source": [
    "parameterMAP = calibrationResult.getParameterMAP()\n",
    "parameterMAP"
   ]
  },
  {
   "cell_type": "markdown",
   "metadata": {},
   "source": [
    "We observe that the estimated parameter is relatively close to the true parameter value."
   ]
  },
  {
   "cell_type": "code",
   "execution_count": 10,
   "metadata": {},
   "outputs": [
    {
     "data": {
      "text/html": [
       "<p>[0.202567,0.0527063,-0.636555]</p>"
      ],
      "text/plain": [
       "class=Point name=Unnamed dimension=3 values=[0.202567,0.0527063,-0.636555]"
      ]
     },
     "execution_count": 10,
     "metadata": {},
     "output_type": "execute_result"
    }
   ],
   "source": [
    "parameterMAP - trueParameter"
   ]
  },
  {
   "cell_type": "markdown",
   "metadata": {},
   "source": [
    "## Graphical validation"
   ]
  },
  {
   "cell_type": "markdown",
   "metadata": {},
   "source": [
    "We now validate the calculation by drawing the exact function and compare it to the function with estimated parameters."
   ]
  },
  {
   "cell_type": "code",
   "execution_count": 11,
   "metadata": {},
   "outputs": [],
   "source": [
    "fullModel = ot.SymbolicFunction([\"a\", \"b\", \"c\", \"x\"], [\"a + b * x + c * x^2\"])\n",
    "parameterIndices = [0, 1, 2]"
   ]
  },
  {
   "cell_type": "code",
   "execution_count": 12,
   "metadata": {},
   "outputs": [
    {
     "data": {
      "text/html": [
       "<p>ParametricEvaluation([a,b,c,x]->[a + b * x + c * x^2], parameters positions=[0,1,2], parameters=[a : 12, b : 7, c : -8], input positions=[3])</p>"
      ],
      "text/plain": [
       "class=FunctionImplementation name=Unnamed description=[x,y0] evaluationImplementation=class=ParametricEvaluation function=class=Function name=Unnamed implementation=class=FunctionImplementation name=Unnamed description=[a,b,c,x,y0] evaluationImplementation=class=SymbolicEvaluation name=Unnamed inputVariablesNames=[a,b,c,x] outputVariablesNames=[y0] formulas=[a + b * x + c * x^2] gradientImplementation=class=SymbolicGradient name=Unnamed evaluation=class=SymbolicEvaluation name=Unnamed inputVariablesNames=[a,b,c,x] outputVariablesNames=[y0] formulas=[a + b * x + c * x^2] hessianImplementation=class=SymbolicHessian name=Unnamed evaluation=class=SymbolicEvaluation name=Unnamed inputVariablesNames=[a,b,c,x] outputVariablesNames=[y0] formulas=[a + b * x + c * x^2] parameters positions=[0,1,2] parameters=class=PointWithDescription name=Unnamed dimension=3 description=[a,b,c] values=[12,7,-8] input positions=[3] gradientImplementation=class=ParametricGradient evaluation=class=ParametricEvaluation function=class=Function name=Unnamed implementation=class=FunctionImplementation name=Unnamed description=[a,b,c,x,y0] evaluationImplementation=class=SymbolicEvaluation name=Unnamed inputVariablesNames=[a,b,c,x] outputVariablesNames=[y0] formulas=[a + b * x + c * x^2] gradientImplementation=class=SymbolicGradient name=Unnamed evaluation=class=SymbolicEvaluation name=Unnamed inputVariablesNames=[a,b,c,x] outputVariablesNames=[y0] formulas=[a + b * x + c * x^2] hessianImplementation=class=SymbolicHessian name=Unnamed evaluation=class=SymbolicEvaluation name=Unnamed inputVariablesNames=[a,b,c,x] outputVariablesNames=[y0] formulas=[a + b * x + c * x^2] parameters positions=[0,1,2] parameters=class=PointWithDescription name=Unnamed dimension=3 description=[a,b,c] values=[12,7,-8] input positions=[3] hessianImplementation=class=ParametricHessian evaluation=class=ParametricEvaluation function=class=Function name=Unnamed implementation=class=FunctionImplementation name=Unnamed description=[a,b,c,x,y0] evaluationImplementation=class=SymbolicEvaluation name=Unnamed inputVariablesNames=[a,b,c,x] outputVariablesNames=[y0] formulas=[a + b * x + c * x^2] gradientImplementation=class=SymbolicGradient name=Unnamed evaluation=class=SymbolicEvaluation name=Unnamed inputVariablesNames=[a,b,c,x] outputVariablesNames=[y0] formulas=[a + b * x + c * x^2] hessianImplementation=class=SymbolicHessian name=Unnamed evaluation=class=SymbolicEvaluation name=Unnamed inputVariablesNames=[a,b,c,x] outputVariablesNames=[y0] formulas=[a + b * x + c * x^2] parameters positions=[0,1,2] parameters=class=PointWithDescription name=Unnamed dimension=3 description=[a,b,c] values=[12,7,-8] input positions=[3]"
      ]
     },
     "execution_count": 12,
     "metadata": {},
     "output_type": "execute_result"
    }
   ],
   "source": [
    "trueFunction = ot.ParametricFunction(fullModel, parameterIndices, trueParameter)\n",
    "trueFunction"
   ]
  },
  {
   "cell_type": "code",
   "execution_count": 13,
   "metadata": {},
   "outputs": [
    {
     "data": {
      "text/html": [
       "<p>ParametricEvaluation([a,b,c,x]->[a + b * x + c * x^2], parameters positions=[0,1,2], parameters=[a : 8, b : 9, c : -6], input positions=[3])</p>"
      ],
      "text/plain": [
       "class=FunctionImplementation name=Unnamed description=[x,y0] evaluationImplementation=class=ParametricEvaluation function=class=Function name=Unnamed implementation=class=FunctionImplementation name=Unnamed description=[a,b,c,x,y0] evaluationImplementation=class=SymbolicEvaluation name=Unnamed inputVariablesNames=[a,b,c,x] outputVariablesNames=[y0] formulas=[a + b * x + c * x^2] gradientImplementation=class=SymbolicGradient name=Unnamed evaluation=class=SymbolicEvaluation name=Unnamed inputVariablesNames=[a,b,c,x] outputVariablesNames=[y0] formulas=[a + b * x + c * x^2] hessianImplementation=class=SymbolicHessian name=Unnamed evaluation=class=SymbolicEvaluation name=Unnamed inputVariablesNames=[a,b,c,x] outputVariablesNames=[y0] formulas=[a + b * x + c * x^2] parameters positions=[0,1,2] parameters=class=PointWithDescription name=Unnamed dimension=3 description=[a,b,c] values=[8,9,-6] input positions=[3] gradientImplementation=class=ParametricGradient evaluation=class=ParametricEvaluation function=class=Function name=Unnamed implementation=class=FunctionImplementation name=Unnamed description=[a,b,c,x,y0] evaluationImplementation=class=SymbolicEvaluation name=Unnamed inputVariablesNames=[a,b,c,x] outputVariablesNames=[y0] formulas=[a + b * x + c * x^2] gradientImplementation=class=SymbolicGradient name=Unnamed evaluation=class=SymbolicEvaluation name=Unnamed inputVariablesNames=[a,b,c,x] outputVariablesNames=[y0] formulas=[a + b * x + c * x^2] hessianImplementation=class=SymbolicHessian name=Unnamed evaluation=class=SymbolicEvaluation name=Unnamed inputVariablesNames=[a,b,c,x] outputVariablesNames=[y0] formulas=[a + b * x + c * x^2] parameters positions=[0,1,2] parameters=class=PointWithDescription name=Unnamed dimension=3 description=[a,b,c] values=[8,9,-6] input positions=[3] hessianImplementation=class=ParametricHessian evaluation=class=ParametricEvaluation function=class=Function name=Unnamed implementation=class=FunctionImplementation name=Unnamed description=[a,b,c,x,y0] evaluationImplementation=class=SymbolicEvaluation name=Unnamed inputVariablesNames=[a,b,c,x] outputVariablesNames=[y0] formulas=[a + b * x + c * x^2] gradientImplementation=class=SymbolicGradient name=Unnamed evaluation=class=SymbolicEvaluation name=Unnamed inputVariablesNames=[a,b,c,x] outputVariablesNames=[y0] formulas=[a + b * x + c * x^2] hessianImplementation=class=SymbolicHessian name=Unnamed evaluation=class=SymbolicEvaluation name=Unnamed inputVariablesNames=[a,b,c,x] outputVariablesNames=[y0] formulas=[a + b * x + c * x^2] parameters positions=[0,1,2] parameters=class=PointWithDescription name=Unnamed dimension=3 description=[a,b,c] values=[8,9,-6] input positions=[3]"
      ]
     },
     "execution_count": 13,
     "metadata": {},
     "output_type": "execute_result"
    }
   ],
   "source": [
    "beforeCalibrationFunction = ot.ParametricFunction(fullModel, parameterIndices, candidate)\n",
    "beforeCalibrationFunction"
   ]
  },
  {
   "cell_type": "code",
   "execution_count": 14,
   "metadata": {},
   "outputs": [
    {
     "data": {
      "text/html": [
       "<p>ParametricEvaluation([a,b,c,x]->[a + b * x + c * x^2], parameters positions=[0,1,2], parameters=[a : 12.2026, b : 7.05271, c : -8.63656], input positions=[3])</p>"
      ],
      "text/plain": [
       "class=FunctionImplementation name=Unnamed description=[x,y0] evaluationImplementation=class=ParametricEvaluation function=class=Function name=Unnamed implementation=class=FunctionImplementation name=Unnamed description=[a,b,c,x,y0] evaluationImplementation=class=SymbolicEvaluation name=Unnamed inputVariablesNames=[a,b,c,x] outputVariablesNames=[y0] formulas=[a + b * x + c * x^2] gradientImplementation=class=SymbolicGradient name=Unnamed evaluation=class=SymbolicEvaluation name=Unnamed inputVariablesNames=[a,b,c,x] outputVariablesNames=[y0] formulas=[a + b * x + c * x^2] hessianImplementation=class=SymbolicHessian name=Unnamed evaluation=class=SymbolicEvaluation name=Unnamed inputVariablesNames=[a,b,c,x] outputVariablesNames=[y0] formulas=[a + b * x + c * x^2] parameters positions=[0,1,2] parameters=class=PointWithDescription name=Unnamed dimension=3 description=[a,b,c] values=[12.2026,7.05271,-8.63656] input positions=[3] gradientImplementation=class=ParametricGradient evaluation=class=ParametricEvaluation function=class=Function name=Unnamed implementation=class=FunctionImplementation name=Unnamed description=[a,b,c,x,y0] evaluationImplementation=class=SymbolicEvaluation name=Unnamed inputVariablesNames=[a,b,c,x] outputVariablesNames=[y0] formulas=[a + b * x + c * x^2] gradientImplementation=class=SymbolicGradient name=Unnamed evaluation=class=SymbolicEvaluation name=Unnamed inputVariablesNames=[a,b,c,x] outputVariablesNames=[y0] formulas=[a + b * x + c * x^2] hessianImplementation=class=SymbolicHessian name=Unnamed evaluation=class=SymbolicEvaluation name=Unnamed inputVariablesNames=[a,b,c,x] outputVariablesNames=[y0] formulas=[a + b * x + c * x^2] parameters positions=[0,1,2] parameters=class=PointWithDescription name=Unnamed dimension=3 description=[a,b,c] values=[12.2026,7.05271,-8.63656] input positions=[3] hessianImplementation=class=ParametricHessian evaluation=class=ParametricEvaluation function=class=Function name=Unnamed implementation=class=FunctionImplementation name=Unnamed description=[a,b,c,x,y0] evaluationImplementation=class=SymbolicEvaluation name=Unnamed inputVariablesNames=[a,b,c,x] outputVariablesNames=[y0] formulas=[a + b * x + c * x^2] gradientImplementation=class=SymbolicGradient name=Unnamed evaluation=class=SymbolicEvaluation name=Unnamed inputVariablesNames=[a,b,c,x] outputVariablesNames=[y0] formulas=[a + b * x + c * x^2] hessianImplementation=class=SymbolicHessian name=Unnamed evaluation=class=SymbolicEvaluation name=Unnamed inputVariablesNames=[a,b,c,x] outputVariablesNames=[y0] formulas=[a + b * x + c * x^2] parameters positions=[0,1,2] parameters=class=PointWithDescription name=Unnamed dimension=3 description=[a,b,c] values=[12.2026,7.05271,-8.63656] input positions=[3]"
      ]
     },
     "execution_count": 14,
     "metadata": {},
     "output_type": "execute_result"
    }
   ],
   "source": [
    "calibratedFunction = ot.ParametricFunction(fullModel, parameterIndices, parameterMAP)\n",
    "calibratedFunction"
   ]
  },
  {
   "cell_type": "code",
   "execution_count": 15,
   "metadata": {},
   "outputs": [],
   "source": [
    "abscissas = [-1.0, -0.6, -0.2, 0.2, 0.6, 1.0]\n",
    "xmin = min(abscissas)\n",
    "xmax = max(abscissas)"
   ]
  },
  {
   "cell_type": "code",
   "execution_count": 16,
   "metadata": {},
   "outputs": [
    {
     "data": {
      "image/png": "[encoded data removed]",
      "text/plain": [
       "class=Graph name=Calibration without observations implementation=class=GraphImplementation name=Calibration without observations title=Calibration without observations xTitle=x yTitle=y axes=ON grid=ON legendposition=bottomright legendFontSize=1 drawables=[class=Drawable name=Unnamed implementation=class=Curve name=Unnamed derived from class=DrawableImplementation name=Unnamed legend=True model data=class=Sample name=Unnamed implementation=class=SampleImplementation name=Unnamed size=50 dimension=2 data=[[-1,-3],[-0.959184,-2.07455],[-0.918367,-1.17576],[-0.877551,-0.303623],[-0.836735,0.541858],[-0.795918,1.36068],[-0.755102,2.15285],[-0.714286,2.91837],[-0.673469,3.65723],[-0.632653,4.36943],[-0.591837,5.05498],[-0.55102,5.71387],[-0.510204,6.34611],[-0.469388,6.95169],[-0.428571,7.53061],[-0.387755,8.08288],[-0.346939,8.6085],[-0.306122,9.10746],[-0.265306,9.57976],[-0.22449,10.0254],[-0.183673,10.4444],[-0.142857,10.8367],[-0.102041,11.2024],[-0.0612245,11.5414],[-0.0204082,11.8538],[0.0204082,12.1395],[0.0612245,12.3986],[0.102041,12.631],[0.142857,12.8367],[0.183673,13.0158],[0.22449,13.1683],[0.265306,13.294],[0.306122,13.3932],[0.346939,13.4656],[0.387755,13.5115],[0.428571,13.5306],[0.469388,13.5231],[0.510204,13.489],[0.55102,13.4282],[0.591837,13.3407],[0.632653,13.2266],[0.673469,13.0858],[0.714286,12.9184],[0.755102,12.7243],[0.795918,12.5035],[0.836735,12.2561],[0.877551,11.9821],[0.918367,11.6814],[0.959184,11.354],[1,11]] color=darkorange1 fillStyle=solid lineStyle=dashed pointStyle=none lineWidth=1,class=Drawable name=Unnamed implementation=class=Curve name=Unnamed derived from class=DrawableImplementation name=Unnamed legend=Model before calibration data=class=Sample name=Unnamed implementation=class=SampleImplementation name=Unnamed size=50 dimension=2 data=[[-1,-7],[-0.959184,-6.15285],[-0.918367,-5.3257],[-0.877551,-4.51853],[-0.836735,-3.73136],[-0.795918,-2.96418],[-0.755102,-2.21699],[-0.714286,-1.4898],[-0.673469,-0.782591],[-0.632653,-0.0953769],[-0.591837,0.571845],[-0.55102,1.21908],[-0.510204,1.84631],[-0.469388,2.45356],[-0.428571,3.04082],[-0.387755,3.60808],[-0.346939,4.15535],[-0.306122,4.68263],[-0.265306,5.18992],[-0.22449,5.67722],[-0.183673,6.14452],[-0.142857,6.59184],[-0.102041,7.01916],[-0.0612245,7.42649],[-0.0204082,7.81383],[0.0204082,8.18117],[0.0612245,8.52853],[0.102041,8.85589],[0.142857,9.16327],[0.183673,9.45065],[0.22449,9.71803],[0.265306,9.96543],[0.306122,10.1928],[0.346939,10.4002],[0.387755,10.5877],[0.428571,10.7551],[0.469388,10.9025],[0.510204,11.03],[0.55102,11.1374],[0.591837,11.2249],[0.632653,11.2924],[0.673469,11.3399],[0.714286,11.3673],[0.755102,11.3748],[0.795918,11.3623],[0.836735,11.3299],[0.877551,11.2774],[0.918367,11.2049],[0.959184,11.1125],[1,11]] color=red fillStyle=solid lineStyle=solid pointStyle=none lineWidth=1,class=Drawable name=Unnamed implementation=class=Curve name=Unnamed derived from class=DrawableImplementation name=Unnamed legend=Model after calibration data=class=Sample name=Unnamed implementation=class=SampleImplementation name=Unnamed size=50 dimension=2 data=[[-1,-3.48669],[-0.959184,-2.50819],[-0.918367,-1.55847],[-0.877551,-0.637518],[-0.836735,0.254655],[-0.795918,1.11805],[-0.755102,1.95267],[-0.714286,2.75851],[-0.673469,3.53558],[-0.632653,4.28387],[-0.591837,5.00338],[-0.55102,5.69412],[-0.510204,6.35608],[-0.469388,6.98926],[-0.428571,7.59367],[-0.387755,8.1693],[-0.346939,8.71616],[-0.306122,9.23424],[-0.265306,9.72354],[-0.22449,10.1841],[-0.183673,10.6158],[-0.142857,11.0188],[-0.102041,11.393],[-0.0612245,11.7384],[-0.0204082,12.055],[0.0204082,12.3429],[0.0612245,12.602],[0.102041,12.8323],[0.142857,13.0338],[0.183673,13.2066],[0.22449,13.3506],[0.265306,13.4658],[0.306122,13.5522],[0.346939,13.6099],[0.387755,13.6387],[0.428571,13.6388],[0.469388,13.6102],[0.510204,13.5527],[0.55102,13.4665],[0.591837,13.3515],[0.632653,13.2077],[0.673469,13.0351],[0.714286,12.8338],[0.755102,12.6037],[0.795918,12.3448],[0.836735,12.0571],[0.877551,11.7407],[0.918367,11.3955],[0.959184,11.0215],[1,10.6187]] color=green fillStyle=solid lineStyle=solid pointStyle=none lineWidth=1,class=Drawable name=Unnamed implementation=class=Cloud name=Unnamed derived from class=DrawableImplementation name=Unnamed legend=Observations data=class=Sample name=Unnamed implementation=class=SampleImplementation name=Unnamed size=5 dimension=2 data=[[-1,-2.3918],[-1,-3.35501],[-1,-5.29006],[-1,-3.56021],[-1,-2.52638]] color=blue fillStyle=solid lineStyle=solid pointStyle=plus lineWidth=1,class=Drawable name=Unnamed implementation=class=Cloud name=Unnamed derived from class=DrawableImplementation name=Unnamed legend= data=class=Sample name=Unnamed implementation=class=SampleImplementation name=Unnamed size=5 dimension=2 data=[[-0.6,3.65383],[-0.6,6.35725],[-0.6,3.63711],[-0.6,5.36549],[-0.6,4.7945]] color=blue fillStyle=solid lineStyle=solid pointStyle=plus lineWidth=1,class=Drawable name=Unnamed implementation=class=Cloud name=Unnamed derived from class=DrawableImplementation name=Unnamed legend= data=class=Sample name=Unnamed implementation=class=SampleImplementation name=Unnamed size=5 dimension=2 data=[[-0.2,9.84173],[-0.2,11.0907],[-0.2,8.96822],[-0.2,10.6029],[-0.2,10.6314]] color=blue fillStyle=solid lineStyle=solid pointStyle=plus lineWidth=1,class=Drawable name=Unnamed implementation=class=Cloud name=Unnamed derived from class=DrawableImplementation name=Unnamed legend= data=class=Sample name=Unnamed implementation=class=SampleImplementation name=Unnamed size=5 dimension=2 data=[[0.2,14.2855],[0.2,13.8732],[0.2,12.9892],[0.2,13.5258],[0.2,14.8624]] color=blue fillStyle=solid lineStyle=solid pointStyle=plus lineWidth=1,class=Drawable name=Unnamed implementation=class=Cloud name=Unnamed derived from class=DrawableImplementation name=Unnamed legend= data=class=Sample name=Unnamed implementation=class=SampleImplementation name=Unnamed size=5 dimension=2 data=[[0.6,11.1386],[0.6,12.8495],[0.6,14.3158],[0.6,12.2819],[0.6,13.3902]] color=blue fillStyle=solid lineStyle=solid pointStyle=plus lineWidth=1,class=Drawable name=Unnamed implementation=class=Cloud name=Unnamed derived from class=DrawableImplementation name=Unnamed legend= data=class=Sample name=Unnamed implementation=class=SampleImplementation name=Unnamed size=5 dimension=2 data=[[1,11.35],[1,11.261],[1,10.8605],[1,10.1433],[1,10.2186]] color=blue fillStyle=solid lineStyle=solid pointStyle=plus lineWidth=1]"
      ]
     },
     "execution_count": 16,
     "metadata": {},
     "output_type": "execute_result"
    }
   ],
   "source": [
    "npoints = 50\n",
    "graph = ot.Graph(\"Calibration without observations\", \"x\", \"y\", True, \"bottomright\")\n",
    "curve = trueFunction.draw(xmin, xmax, npoints).getDrawable(0)\n",
    "curve.setLineStyle(\"dashed\")\n",
    "curve.setLegend(\"True model\")\n",
    "curve.setColor(\"darkorange1\")\n",
    "graph.add(curve)\n",
    "# Before calibration\n",
    "curve = beforeCalibrationFunction.draw(xmin, xmax, npoints)\n",
    "curve.setLegends([\"Model before calibration\"])\n",
    "curve.setColors([\"red\"])\n",
    "graph.add(curve)\n",
    "# After calibration\n",
    "curve = calibratedFunction.draw(xmin, xmax, npoints)\n",
    "curve.setLegends([\"Model after calibration\"])\n",
    "curve.setColors([\"green\"])\n",
    "graph.add(curve)\n",
    "# Observations\n",
    "for i in range(outputDimension):\n",
    "    cloud = ot.Cloud(ot.Sample([abscissas[i]] * size, 1), outputObservations[:, i])\n",
    "    cloud.setColor(\"blue\")\n",
    "    if i == 0:\n",
    "        cloud.setLegend(\"Observations\")\n",
    "    graph.add(cloud)\n",
    "graph"
   ]
  },
  {
   "cell_type": "markdown",
   "metadata": {},
   "source": [
    "We notice that the calibration produces a good fit to the data with only 5 observations for each output, leading to a total of 5 (observations per output) * 6 (outputs) = 30 observations. Still, we notice a small discrepancy between the true mode land the model after calibration, but this discrepancy is very small. Actually, this was made much easier from the fact that the model is linear with respect to the calibrated parameters a, b and c."
   ]
  }
 ],
 "metadata": {
  "kernelspec": {
   "display_name": "Python 3",
   "language": "python",
   "name": "python3"
  },
  "language_info": {
   "codemirror_mode": {
    "name": "ipython",
    "version": 3
   },
   "file_extension": ".py",
   "mimetype": "text/x-python",
   "name": "python",
   "nbconvert_exporter": "python",
   "pygments_lexer": "ipython3",
   "version": "3.7.5rc1"
  }
 },
 "nbformat": 4,
 "nbformat_minor": 2
}
