{
 "cells": [
  {
   "cell_type": "markdown",
   "metadata": {},
   "source": [
    "# Calibration of the flooding model\n",
    "\n",
    "## Abstract\n",
    "\n",
    "The goal of this example is to present the statistical hypotheses of the calibration of the flooding model. More precisely, this example shows how the observations in the \"calibration-flooding-observations.csv\" were generated.\n",
    "\n",
    "## Model\n",
    "\n",
    "The simulator predicts the water height H depending on the flowrate Q.\n",
    "\n",
    "We consider the following four variable:\n",
    "\n",
    "* Q : the river flowrate ($m^3/s$)\n",
    "* Ks : the Strickler coefficient ($m^{1/3}/s$)\n",
    "* Zv : the downstream riverbed level (m)\n",
    "* Zm : the upstream riverbed level (m)\n",
    "\n",
    "When the Strickler coefficient increases, the riverbed generates less friction to the water flow.\n",
    "\n",
    "## Parameters\n",
    "\n",
    "We consider the following parameters:\n",
    "\n",
    "* the length of the river L = 5000 (m),\n",
    "* the width of the river B = 300 (m).\n",
    "\n",
    "## Outputs\n",
    "\n",
    "We make the hypothesis that the slope of the river is nonpositive and close to zero, which implies: \n",
    "$$\n",
    "\\alpha = \\frac{Z_m - Z_v}{L},\n",
    "$$\n",
    "if $Z_m \\geq Z_v$. \n",
    "The height of the river is:\n",
    "$$\n",
    "H = \\left(\\frac{Q}{K_s B \\sqrt{\\alpha}}\\right)^{0.6},\n",
    "$$\n",
    "for any $K_s, Q>0$.\n",
    "\n",
    "<img src=\"river_section_adjusted_light.png\" width=\"400\" />\n",
    "\n",
    "## Distribution\n",
    "\n",
    "We assume that the river flowrate has the following truncated Gumbel distribution:\n",
    "\n",
    "|Variable|Distribution|\n",
    "| ------------- |-------------|\n",
    "|Q|Gumbel(scale=558, mode=1013)>0|\n",
    "\n",
    "## Parameters to calibrate\n",
    "\n",
    "The variables to calibrate are $(Kz,Zv,Zm)$ and are set to the following values:\n",
    "$$\n",
    "Ks = 30, \\qquad Zv = 50, \\qquad Zm = 55.\n",
    "$$\n",
    "\n",
    "## Observations\n",
    "\n",
    "In this section, we describe the statistical model associated with the $n$ observations.\n",
    "The errors of the water heights are associated with a gaussian distribution with a zero mean and a standard variation equal to:\n",
    "$$\n",
    "\\sigma=0.1.\n",
    "$$\n",
    "Therefore, the observed water heights are:\n",
    "$$\n",
    "H_i = G(Q_i,Ks,Zv,Zm) + \\epsilon\n",
    "$$\n",
    "for $i=1,...,n$ where\n",
    "$$\n",
    "\\epsilon \\sim \\mathcal{N}(0,\\sigma^2).\n",
    "$$\n",
    "We consider a sample size equal to:\n",
    "$$\n",
    "n=100.\n",
    "$$\n",
    "The observations are the couples $(Q,H)$.\n",
    "\n",
    "## Analysis\n",
    "\n",
    "In this model, the variables $Z_m$ and $Z_v$ are not identifiables, since only the difference $Z_m-Z_v$ matters. Hence, calibrating this model requires some regularization."
   ]
  },
  {
   "cell_type": "markdown",
   "metadata": {},
   "source": [
    "## Generate the observations"
   ]
  },
  {
   "cell_type": "code",
   "execution_count": 1,
   "metadata": {},
   "outputs": [],
   "source": [
    "import numpy as np\n",
    "import openturns as ot"
   ]
  },
  {
   "cell_type": "markdown",
   "metadata": {},
   "source": [
    "We define the function $G$."
   ]
  },
  {
   "cell_type": "code",
   "execution_count": 2,
   "metadata": {},
   "outputs": [],
   "source": [
    "def functionFlooding(X) :\n",
    "    L = 5.0e3\n",
    "    B = 300.0\n",
    "    Q, K_s, Z_v, Z_m = X\n",
    "    alpha = (Z_m - Z_v)/L\n",
    "    H = (Q/(K_s*B*np.sqrt(alpha)))**(3.0/5.0)\n",
    "    return [H]"
   ]
  },
  {
   "cell_type": "code",
   "execution_count": 3,
   "metadata": {},
   "outputs": [],
   "source": [
    "g = ot.PythonFunction(4, 1, functionFlooding) \n",
    "g = ot.MemoizeFunction(g)\n",
    "g.setOutputDescription([\"H (m)\"])"
   ]
  },
  {
   "cell_type": "markdown",
   "metadata": {},
   "source": [
    "Create the output random vector."
   ]
  },
  {
   "cell_type": "code",
   "execution_count": 4,
   "metadata": {},
   "outputs": [
    {
     "data": {
      "text/html": [
       "<p>TruncatedDistribution(class=ParametrizedDistribution parameters=class=GumbelAB name=Unnamed a=1013 b=558 distribution=class=Gumbel name=Gumbel dimension=1 alpha=0.00179211 beta=1013, bounds = [0, (19000.8) +inf[)</p>"
      ],
      "text/plain": [
       "class=TruncatedDistribution name=TruncatedDistribution distribution=class=ParametrizedDistribution parameters=class=GumbelAB name=Unnamed a=1013 b=558 distribution=class=Gumbel name=Gumbel dimension=1 alpha=0.00179211 beta=1013 bounds=class=Interval name=Unnamed dimension=1 lower bound=class=Point name=Unnamed dimension=1 values=[0] upper bound=class=Point name=Unnamed dimension=1 values=[19000.8] finite lower bound=[1] finite upper bound=[0] thresholdRealization=0.5"
      ]
     },
     "execution_count": 4,
     "metadata": {},
     "output_type": "execute_result"
    }
   ],
   "source": [
    "Qparam = ot.GumbelAB(1013., 558.)\n",
    "Q = ot.ParametrizedDistribution(Qparam)\n",
    "Q = ot.TruncatedDistribution(Q,ot.TruncatedDistribution.LOWER)\n",
    "Q.setDescription([\"Q (m3/s)\"])\n",
    "Q"
   ]
  },
  {
   "cell_type": "markdown",
   "metadata": {},
   "source": [
    "Set the parameters to be calibrated."
   ]
  },
  {
   "cell_type": "code",
   "execution_count": 5,
   "metadata": {},
   "outputs": [],
   "source": [
    "K_s = ot.Dirac(30.0)\n",
    "Z_v = ot.Dirac(50.0)\n",
    "Z_m = ot.Dirac(55.0)\n",
    "K_s.setDescription([\"Ks (m^(1/3)/s)\"])\n",
    "Z_v.setDescription([\"Zv (m)\"])\n",
    "Z_m.setDescription([\"Zm (m)\"])"
   ]
  },
  {
   "cell_type": "markdown",
   "metadata": {},
   "source": [
    "Create the joint input distribution."
   ]
  },
  {
   "cell_type": "code",
   "execution_count": 6,
   "metadata": {},
   "outputs": [],
   "source": [
    "inputRandomVector = ot.ComposedDistribution([Q, K_s, Z_v, Z_m])"
   ]
  },
  {
   "cell_type": "markdown",
   "metadata": {},
   "source": [
    "Create a Monte-Carlo sample of the output H."
   ]
  },
  {
   "cell_type": "code",
   "execution_count": 7,
   "metadata": {},
   "outputs": [],
   "source": [
    "sampleSize = 100\n",
    "inputSample = inputRandomVector.getSample(sampleSize)\n",
    "outputH = g(inputSample)"
   ]
  },
  {
   "cell_type": "markdown",
   "metadata": {},
   "source": [
    "Observe the distribution of the output H."
   ]
  },
  {
   "cell_type": "code",
   "execution_count": 8,
   "metadata": {},
   "outputs": [
    {
     "data": {
      "image/png": "[encoded data removed]",
      "text/plain": [
       "class=Graph name=H (m) PDF implementation=class=GraphImplementation name=H (m) PDF title=H (m) PDF xTitle=H (m) yTitle=PDF axes=ON grid=ON legendposition=topright legendFontSize=1 drawables=[class=Drawable name=Unnamed implementation=class=Curve name=Unnamed derived from class=DrawableImplementation name=Unnamed legend=H (m) PDF data=class=Sample name=Unnamed implementation=class=SampleImplementation name=Unnamed size=36 dimension=2 data=[[0.756642,0],[0.994386,0],[0.994386,0],[0.994386,0.147217],[1.46987,0.147217],[1.46987,0],[1.46987,0],[1.46987,0.315465],[1.94536,0.315465],[1.94536,0],[1.94536,0],[1.94536,0.525776],[2.42085,0.525776],[2.42085,0],[2.42085,0],[2.42085,0.483714],[2.89634,0.483714],[2.89634,0],[2.89634,0],[2.89634,0.231341],[3.37183,0.231341],[3.37183,0],[3.37183,0],[3.37183,0.21031],[3.84731,0.21031],[3.84731,0],[3.84731,0],[3.84731,0.168248],[4.3228,0.168248],[4.3228,0],[4.3228,0],[4.3228,0.021031],[4.79829,0.021031],[4.79829,0],[4.79829,0],[5.03603,0]] color=red fillStyle=solid lineStyle=solid pointStyle=none lineWidth=2]"
      ]
     },
     "execution_count": 8,
     "metadata": {},
     "output_type": "execute_result"
    }
   ],
   "source": [
    "ot.HistogramFactory().build(outputH).drawPDF()"
   ]
  },
  {
   "cell_type": "markdown",
   "metadata": {},
   "source": [
    "Generate the observation noise and add it to the output of the model."
   ]
  },
  {
   "cell_type": "code",
   "execution_count": 9,
   "metadata": {},
   "outputs": [],
   "source": [
    "sigmaObservationNoiseH = 0.1 # (m)\n",
    "noiseH = ot.Normal(0.,sigmaObservationNoiseH)\n",
    "sampleNoiseH = noiseH.getSample(sampleSize)\n",
    "observedH = outputH + sampleNoiseH"
   ]
  },
  {
   "cell_type": "markdown",
   "metadata": {},
   "source": [
    "Plot the Y observations versus the X observations."
   ]
  },
  {
   "cell_type": "code",
   "execution_count": 10,
   "metadata": {},
   "outputs": [],
   "source": [
    "observedQ = inputSample[:,0]"
   ]
  },
  {
   "cell_type": "code",
   "execution_count": 11,
   "metadata": {},
   "outputs": [
    {
     "data": {
      "image/png": "[encoded data removed]",
      "text/plain": [
       "class=Graph name=Observations implementation=class=GraphImplementation name=Observations title=Observations xTitle=Q (m3/s) yTitle=H (m) axes=ON grid=ON legendposition= legendFontSize=1 drawables=[class=Drawable name=Unnamed implementation=class=Cloud name=Unnamed derived from class=DrawableImplementation name=Unnamed legend= data=class=Sample name=Unnamed implementation=class=SampleImplementation name=Unnamed size=100 dimension=2 data=[[1443.6,2.65447],[2174.89,3.46684],[626.102,1.67651],[325.812,1.01015],[981.399,2.12009],[2950.39,3.91494],[2404.22,3.66332],[1222.42,2.45146],[446.227,1.48357],[898.207,1.897],[1621.02,2.87785],[1036.49,2.15357],[1021.93,2.32061],[1675.95,2.79352],[2178.44,3.35575],[901.675,2.11887],[2464.55,3.57401],[1918.19,3.00503],[1554.45,2.77984],[1943.49,3.0775],[1000.75,2.21698],[2727.4,3.91412],[1367.28,2.51594],[715.751,1.80684],[511.638,1.59272],[1504.54,2.82285],[765.386,1.75974],[1040.84,2.01105],[281.947,1.21901],[1090.66,2.31503],[3244.68,4.25576],[2371.75,3.50528],[2738.32,3.79425],[1174.45,2.39515],[846.531,2.00473],[1505.79,2.64367],[1201.12,2.36136],[1167.48,2.43186],[573.669,1.50677],[978.758,2.00439],[1494.9,2.50848],[1534.27,2.6821],[3162.24,4.27471],[1475.64,2.78593],[449.428,1.37909],[1770.16,2.98508],[3884.96,4.7127],[504.388,1.53678],[789.643,1.82082],[913.464,2.14575],[776.837,2.03861],[1443.2,2.55865],[1352.24,2.39564],[1165.23,2.19977],[1579.35,2.81907],[1685.52,2.5976],[2535.95,3.71615],[2119.74,3.21025],[1051.41,2.29314],[1442.4,2.57128],[2353.91,3.57421],[2353.05,3.65621],[673.835,1.71036],[1290.65,2.42826],[753.767,1.74735],[2050.7,3.30357],[1115.48,2.25273],[1003.57,2.43128],[813.621,1.97226],[839.017,1.9742],[1372.51,2.63136],[692.324,1.55092],[3119.71,3.96585],[1190.33,2.42598],[1609.32,2.76212],[2769.22,3.84108],[1595.03,2.85647],[1916.02,3.09421],[1188.56,2.54363],[758.773,1.823],[1711.31,3.10649],[2440.88,3.57629],[1455.26,2.58839],[1391.77,2.54094],[1591.63,2.58318],[494.377,1.33316],[834.489,1.87534],[1538.25,2.57386],[998.7,2.05534],[1092.51,2.24746],[942.236,2.1383],[1845.6,2.9237],[1344.16,2.50631],[953.486,2.1919],[2993.87,4.06121],[1246.13,2.23621],[566.162,1.4594],[2316.32,3.58303],[1707.55,2.93045],[1219.62,2.46733]] color=blue fillStyle=solid lineStyle=solid pointStyle=plus lineWidth=1]"
      ]
     },
     "execution_count": 11,
     "metadata": {},
     "output_type": "execute_result"
    }
   ],
   "source": [
    "graph = ot.Graph(\"Observations\",\"Q (m3/s)\",\"H (m)\",True)\n",
    "cloud = ot.Cloud(observedQ,observedH)\n",
    "graph.add(cloud)\n",
    "graph"
   ]
  },
  {
   "cell_type": "markdown",
   "metadata": {},
   "source": [
    "Save the observations into a file."
   ]
  },
  {
   "cell_type": "code",
   "execution_count": 12,
   "metadata": {},
   "outputs": [],
   "source": [
    "observedSample = ot.Sample(sampleSize,2)\n",
    "observedSample.setDescription([\"Q (m3/s)\",\"H (m)\"])\n",
    "observedSample[:,0] = observedQ[:]\n",
    "observedSample[:,1] = observedH[:]\n",
    "#observedSample.exportToCSVFile(\"calibration-flooding-observations.csv\")"
   ]
  }
 ],
 "metadata": {
  "kernelspec": {
   "display_name": "Python 3",
   "language": "python",
   "name": "python3"
  },
  "language_info": {
   "codemirror_mode": {
    "name": "ipython",
    "version": 3
   },
   "file_extension": ".py",
   "mimetype": "text/x-python",
   "name": "python",
   "nbconvert_exporter": "python",
   "pygments_lexer": "ipython3",
   "version": "3.7.1"
  }
 },
 "nbformat": 4,
 "nbformat_minor": 2
}
