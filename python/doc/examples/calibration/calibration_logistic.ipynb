{
 "cells": [
  {
   "cell_type": "markdown",
   "metadata": {},
   "source": [
    "# Le modèle logistique pour le calage"
   ]
  },
  {
   "cell_type": "markdown",
   "metadata": {},
   "source": [
    "## Introduction\n",
    "\n",
    "The logistic growth model is the differential equation:\n",
    "$$\n",
    "y’(t) = ay(t) - by(t)^2\n",
    "$$\n",
    "for any $t\\in[t_0, t_{final}]$, with the initial condition:\n",
    "$$\n",
    "y(t_0) = y_0\n",
    "$$\n",
    "where\n",
    "\n",
    "- $a > 0$ and $b > 0$ are two real parameters, \n",
    "- $y(t)$ is the size of the population at time $t$, \n",
    "- $t_0$ is the initial time,\n",
    "- $y_0$ is the initial population at time $t=t_0$, \n",
    "- $t_{final}$ is the final time.\n",
    "\n",
    "The $a$ parameter sets the growth rate of the population. The $b$ parameter acts as a competition parameter which limits the size of the population by increasing the competition between its members. \n",
    "\n",
    "In [1], the author uses this model to simulate the growth of the U.S. population. To do this, the author uses the U.S. census data from 1790 to 1910. For this time interval, R. Pearl and L. Reed [2] computed the following values of the parameters:\n",
    "$$\n",
    "a = 0.03134, \\qquad \n",
    "b = 1.5887 \\times 10^{-10}.\n",
    "$$\n",
    "\n",
    "Our goal is to use the logistic growth model in order to simulate the solution for a larger time interval, from 1790 to 2000:\n",
    "$$\n",
    "t_0 = 1790, \\qquad \n",
    "t_{final} = 2000.\n",
    "$$\n",
    "Then we can compare the predictions of this model with the real evolution of the U.S. population.\n",
    "\n",
    "We can prove that, if $y_0 > 0$, then the limit population is:\n",
    "$$\n",
    "y_{limit} =\\frac{a}{b}.\n",
    "$$\n",
    "In 1790, the U.S. population was 3.9 Millions inhabitants:\n",
    "$$\n",
    "y_0 = 3.9 \\times 10^6.\n",
    "$$\n",
    "We can prove that the exact solution of the ordinary differential equation is:\n",
    "$$\n",
    "y(t)=\\frac{ay_0}{by_0+(a-by_0 ) \\exp(-a(t-t_0)) }\n",
    "$$\n",
    "for any $t\\in[t_0, t_{final}]$.\n",
    "\n",
    "We want to see the solution of the ordinary differential equation when uncertainties are taken into account in the parameters:\n",
    "\n",
    "- the initial U.S. population $y_0$,\n",
    "- the parameters $a$ and $b$.\n",
    "\n",
    "Indeed, Pearl and Reed [2] estimated the parameters $a$ and $b$ using the U.S. census data from 1790 to 1910 while we have the data up to 2000. Moreover, the method used by Pearl and Reed to estimate the parameters could be improved; they only used 3 dates to estimate the parameters instead of using least squares, for example. Finally, Pearl and Reed did not provide confidence intervals for the parameters $a$ and $b$. \n",
    "\n",
    "## Normalizing the data\n",
    "\n",
    "The order of magnitude of $a$ and $b$ are very different. In order to mitigate this, we consider the parameter $c$ as the logarithm of $b$:\n",
    "$$\n",
    "c = \\log(b).\n",
    "$$\n",
    "This leads to the value:\n",
    "$$\n",
    "c = \\log(1.5887 \\times 10^{-10}) = -22.58.\n",
    "$$\n",
    "\n",
    "The order of magnitude of the population is $10^6$. This is why we consider the normalized population in millions:\n",
    "$$\n",
    "z(t) = \\frac{y(t)}{10^6}\n",
    "$$\n",
    "for any $t\\in[t_0, t_{final}]$.\n",
    "\n",
    "## Uncertainties\n",
    "\n",
    "We consider that the parameters $y_0$, $a$, $b$ are independent random variables with the following gaussian distributions.\n",
    "\n",
    "|Variable|  Distribution|\n",
    "| ------------- |-------------|\n",
    "| $Z_0$ | gaussian, mean $z_0$, coefficient of variation 10% |\n",
    "| $A$ | gaussian, mean $a$, coefficient of variation 30% |\n",
    "| $C$ | gaussian, mean $c$, coefficient of variation 30% |\n",
    "\n",
    "These parameters have been set without any particular probabilistic method. An improvement would be to use calibration methods to get a better quantification of these distributions. \n",
    " \n",
    "\n",
    "## Notes\n",
    "\n",
    "This example is based on [1], chapter \"First order differential equations\", page 28. \n",
    "The data used in [1] are from [3]. \n",
    "The logistic growth model was first suggested by Pierre François Verhulst near 1840. \n",
    "The data are from [1] for the time interval from 1790 to 1950, then from [2] for the time interval from 1960 to 2000.\n",
    "\n",
    "## References\n",
    "\n",
    "[1] Martin Braun. Differential equations and their applications, Fourth Edition. Texts in applied\n",
    "mathematics. Springer, 1993.\n",
    "\n",
    "[2] Cleve Moler. Numerical Computing with Matlab. Society for Industrial Applied Mathematics,\n",
    "2004.\n",
    "\n",
    "[3] Raymond Pearl and Lowell Reed. On the rate of growth of the population of the united states\n",
    "since 1790 and its mathematical representation. Proceedings of the National Academy of Sciences,\n",
    "1920.\n"
   ]
  },
  {
   "cell_type": "markdown",
   "metadata": {},
   "source": [
    "## Analysis of the data"
   ]
  },
  {
   "cell_type": "code",
   "execution_count": 14,
   "metadata": {},
   "outputs": [],
   "source": [
    "import openturns as ot\n",
    "import numpy as np"
   ]
  },
  {
   "cell_type": "markdown",
   "metadata": {},
   "source": [
    "The data in the file is based on 22 dates from 1790 to 2000."
   ]
  },
  {
   "cell_type": "code",
   "execution_count": 23,
   "metadata": {},
   "outputs": [
    {
     "data": {
      "text/plain": [
       "22"
      ]
     },
     "execution_count": 23,
     "metadata": {},
     "output_type": "execute_result"
    }
   ],
   "source": [
    "observedSample = ot.Sample_ImportFromCSVFile(\"calibration_logistic_observations.csv\")\n",
    "nbobs = observedSample.getSize()\n",
    "nbobs"
   ]
  },
  {
   "cell_type": "code",
   "execution_count": 29,
   "metadata": {},
   "outputs": [
    {
     "data": {
      "text/html": [
       "<TABLE><TR><TD></TD><TH>Date (Annees)</TH></TR>\n",
       "<TR><TD>0</TD><TD>1790.0</TD></TR>\n",
       "<TR><TD>1</TD><TD>1800.0</TD></TR>\n",
       "<TR><TD>2</TD><TD>1810.0</TD></TR>\n",
       "<TR><TD>3</TD><TD>1820.0</TD></TR>\n",
       "<TR><TD>4</TD><TD>1830.0</TD></TR>\n",
       "</TABLE>"
      ],
      "text/plain": [
       "class=Sample name=Unnamed implementation=class=SampleImplementation name=Unnamed size=5 dimension=1 description=[Date (Annees)] data=[[1790],[1800],[1810],[1820],[1830]]"
      ]
     },
     "execution_count": 29,
     "metadata": {},
     "output_type": "execute_result"
    }
   ],
   "source": [
    "timeObservations = observedSample[:,0]\n",
    "timeObservations[0:5]"
   ]
  },
  {
   "cell_type": "code",
   "execution_count": 31,
   "metadata": {},
   "outputs": [
    {
     "data": {
      "text/html": [
       "<TABLE><TR><TD></TD><TH>Population (Millions)</TH></TR>\n",
       "<TR><TD>0</TD><TD>3.9</TD></TR>\n",
       "<TR><TD>1</TD><TD>5.3</TD></TR>\n",
       "<TR><TD>2</TD><TD>7.2</TD></TR>\n",
       "<TR><TD>3</TD><TD>9.6</TD></TR>\n",
       "<TR><TD>4</TD><TD>13.0</TD></TR>\n",
       "</TABLE>"
      ],
      "text/plain": [
       "class=Sample name=Unnamed implementation=class=SampleImplementation name=Unnamed size=5 dimension=1 description=[Population (Millions)] data=[[3.9],[5.3],[7.2],[9.6],[13]]"
      ]
     },
     "execution_count": 31,
     "metadata": {},
     "output_type": "execute_result"
    }
   ],
   "source": [
    "populationObservations = observedSample[:,1]\n",
    "populationObservations[0:5]"
   ]
  },
  {
   "cell_type": "code",
   "execution_count": 32,
   "metadata": {},
   "outputs": [
    {
     "data": {
      "image/png": "[encoded data removed]",
      "text/plain": [
       "class=Graph name=Unnamed implementation=class=GraphImplementation name=Unnamed title= xTitle=Time (years) yTitle=Population (Millions) axes=ON grid=ON legendposition=topleft legendFontSize=1 drawables=[class=Drawable name=Unnamed implementation=class=Cloud name=Unnamed derived from class=DrawableImplementation name=Unnamed legend=Observations data=class=Sample name=Unnamed implementation=class=SampleImplementation name=Unnamed size=22 dimension=2 data=[[1790,3.9],[1800,5.3],[1810,7.2],[1820,9.6],[1830,13],[1840,17],[1850,23],[1860,31],[1870,39],[1880,50],[1890,62],[1900,76],[1910,92],[1920,106],[1930,123],[1940,132],[1950,151],[1960,179],[1970,203],[1980,221],[1990,250],[2000,281]] color=blue fillStyle=solid lineStyle=solid pointStyle=plus lineWidth=1]"
      ]
     },
     "execution_count": 32,
     "metadata": {},
     "output_type": "execute_result"
    }
   ],
   "source": [
    "graph = ot.Graph('', 'Time (years)', 'Population (Millions)', True, 'topleft')\n",
    "cloud = ot.Cloud(timeObservations, populationObservations)\n",
    "cloud.setLegend(\"Observations\")\n",
    "graph.add(cloud)\n",
    "graph"
   ]
  },
  {
   "cell_type": "markdown",
   "metadata": {},
   "source": [
    "We consider the times and populations as dimension 22 vectors. The `logisticModel` function takes a dimension 24 vector as input and returns a dimension 22 vector. The first 22 components of the input vector contains the dates and the remaining 2 components are $a$ and $b$. "
   ]
  },
  {
   "cell_type": "code",
   "execution_count": 33,
   "metadata": {},
   "outputs": [],
   "source": [
    "def logisticModel(X):\n",
    "    nbdates = 22\n",
    "    t = [X[i] for i in range(nbdates)]\n",
    "    a = X[22]\n",
    "    c = X[23]\n",
    "    t0 = 1790.\n",
    "    y0 = 3.9e6\n",
    "    b = np.exp(c)\n",
    "    y = ot.Point(nbdates)\n",
    "    for i in range(nbdates):\n",
    "        y[i] = a*y0/(b*y0+(a-b*y0)*np.exp(-a*(t[i]-t0)))\n",
    "    z = y/1.e6 # Convert into millions\n",
    "    return z"
   ]
  },
  {
   "cell_type": "code",
   "execution_count": 34,
   "metadata": {},
   "outputs": [],
   "source": [
    "logisticModelPy = ot.PythonFunction(24,22,logisticModel)"
   ]
  },
  {
   "cell_type": "markdown",
   "metadata": {},
   "source": [
    "The reference values of the parameters. \n",
    "\n",
    "Because $b$ is so small with respect to $a$, we use the logarithm. "
   ]
  },
  {
   "cell_type": "code",
   "execution_count": 35,
   "metadata": {},
   "outputs": [
    {
     "data": {
      "text/plain": [
       "-22.581998789427587"
      ]
     },
     "execution_count": 35,
     "metadata": {},
     "output_type": "execute_result"
    }
   ],
   "source": [
    "np.log(1.5587e-10)"
   ]
  },
  {
   "cell_type": "code",
   "execution_count": 36,
   "metadata": {},
   "outputs": [],
   "source": [
    "a=0.03134\n",
    "c=-22.58\n",
    "thetaPrior = [a,c]"
   ]
  },
  {
   "cell_type": "code",
   "execution_count": 37,
   "metadata": {},
   "outputs": [],
   "source": [
    "logisticParametric = ot.ParametricFunction(logisticModelPy,[22,23],thetaPrior)"
   ]
  },
  {
   "cell_type": "markdown",
   "metadata": {},
   "source": [
    "Check that we can evaluate the parametric function."
   ]
  },
  {
   "cell_type": "code",
   "execution_count": 38,
   "metadata": {
    "scrolled": true
   },
   "outputs": [
    {
     "data": {
      "text/html": [
       "<p>[3.9,5.29757,7.17769,9.69198,13.0277,17.4068,23.0769,30.2887,39.2561,50.0977,62.7691,77.0063,92.311,108.001,123.322,137.59,150.3,161.184,170.193,177.442,183.144,187.55]#22</p>"
      ],
      "text/plain": [
       "class=Point name=Unnamed dimension=22 values=[3.9,5.29757,7.17769,9.69198,13.0277,17.4068,23.0769,30.2887,39.2561,50.0977,62.7691,77.0063,92.311,108.001,123.322,137.59,150.3,161.184,170.193,177.442,183.144,187.55]"
      ]
     },
     "execution_count": 38,
     "metadata": {},
     "output_type": "execute_result"
    }
   ],
   "source": [
    "populationPredicted = logisticParametric(timeObservations.asPoint())\n",
    "populationPredicted"
   ]
  },
  {
   "cell_type": "code",
   "execution_count": 39,
   "metadata": {},
   "outputs": [
    {
     "data": {
      "image/png": "[encoded data removed]",
      "text/plain": [
       "class=Graph name=Unnamed implementation=class=GraphImplementation name=Unnamed title= xTitle=Time (years) yTitle=Population (Millions) axes=ON grid=ON legendposition=topleft legendFontSize=1 drawables=[class=Drawable name=Unnamed implementation=class=Cloud name=Unnamed derived from class=DrawableImplementation name=Unnamed legend=Observations data=class=Sample name=Unnamed implementation=class=SampleImplementation name=Unnamed size=22 dimension=2 data=[[1790,3.9],[1800,5.3],[1810,7.2],[1820,9.6],[1830,13],[1840,17],[1850,23],[1860,31],[1870,39],[1880,50],[1890,62],[1900,76],[1910,92],[1920,106],[1930,123],[1940,132],[1950,151],[1960,179],[1970,203],[1980,221],[1990,250],[2000,281]] color=blue fillStyle=solid lineStyle=solid pointStyle=plus lineWidth=1,class=Drawable name=Unnamed implementation=class=Cloud name=Unnamed derived from class=DrawableImplementation name=Unnamed legend=Predictions data=class=Sample name=Unnamed implementation=class=SampleImplementation name=Unnamed size=22 dimension=2 data=[[1790,3.9],[1800,5.29757],[1810,7.17769],[1820,9.69198],[1830,13.0277],[1840,17.4068],[1850,23.0769],[1860,30.2887],[1870,39.2561],[1880,50.0977],[1890,62.7691],[1900,77.0063],[1910,92.311],[1920,108.001],[1930,123.322],[1940,137.59],[1950,150.3],[1960,161.184],[1970,170.193],[1980,177.442],[1990,183.144],[2000,187.55]] color=green fillStyle=solid lineStyle=solid pointStyle=plus lineWidth=1]"
      ]
     },
     "execution_count": 39,
     "metadata": {},
     "output_type": "execute_result"
    }
   ],
   "source": [
    "graph = ot.Graph('', 'Time (years)', 'Population (Millions)', True, 'topleft')\n",
    "# Observations\n",
    "cloud = ot.Cloud(timeObservations, populationObservations)\n",
    "cloud.setLegend(\"Observations\")\n",
    "cloud.setColor(\"blue\")\n",
    "graph.add(cloud)\n",
    "# Predictions\n",
    "cloud = ot.Cloud(timeObservations.asPoint(), populationPredicted)\n",
    "cloud.setLegend(\"Predictions\")\n",
    "cloud.setColor(\"green\")\n",
    "graph.add(cloud)\n",
    "graph"
   ]
  },
  {
   "cell_type": "markdown",
   "metadata": {},
   "source": [
    "We see that the fit is not good: the observations continue to grow after 1950, while the growth of the prediction seem to fade."
   ]
  }
 ],
 "metadata": {
  "kernelspec": {
   "display_name": "Python 3",
   "language": "python",
   "name": "python3"
  },
  "language_info": {
   "codemirror_mode": {
    "name": "ipython",
    "version": 3
   },
   "file_extension": ".py",
   "mimetype": "text/x-python",
   "name": "python",
   "nbconvert_exporter": "python",
   "pygments_lexer": "ipython3",
   "version": "3.7.1"
  }
 },
 "nbformat": 4,
 "nbformat_minor": 2
}
