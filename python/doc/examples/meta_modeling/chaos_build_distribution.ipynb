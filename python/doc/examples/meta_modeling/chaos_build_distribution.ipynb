{
 "cells": [
  {
   "cell_type": "markdown",
   "metadata": {},
   "source": [
    "# Fit a distribution from an input sample\n",
    "\n",
    "In this example we show how to use the `BuildDistribution` function to fit a distribution to an input sample. This function is used by the `FunctionalChaosAlgorithm` class when we want to create a polynomial chaos metamodel and we have a design of experiments which have been computed beforehand. In this case, we have to identify the distributions which best fit to the input sample in order to define the input probabilistic model. This is, in turn, used by in the polynomial chaos to create the orthogonal basis. \n"
   ]
  },
  {
   "cell_type": "code",
   "execution_count": 1,
   "metadata": {},
   "outputs": [],
   "source": [
    "from __future__ import print_function\n",
    "import openturns as ot"
   ]
  },
  {
   "cell_type": "markdown",
   "metadata": {},
   "source": [
    "We first create the function `model`."
   ]
  },
  {
   "cell_type": "code",
   "execution_count": 2,
   "metadata": {},
   "outputs": [],
   "source": [
    "ot.RandomGenerator.SetSeed(0)\n",
    "dimension = 2\n",
    "input_names = ['x1', 'x2']\n",
    "formulas = ['cos(x1 + x2)', '(x2 + 1) * exp(x1)']\n",
    "model = ot.SymbolicFunction(input_names, formulas)"
   ]
  },
  {
   "cell_type": "markdown",
   "metadata": {},
   "source": [
    "Then we create a sample `x` and compute the corresponding output sample `y`."
   ]
  },
  {
   "cell_type": "code",
   "execution_count": 3,
   "metadata": {},
   "outputs": [],
   "source": [
    "distribution = ot.Normal(dimension)\n",
    "samplesize = 1000\n",
    "inputSample  = distribution.getSample(samplesize)\n",
    "outputSample = model(inputSample)"
   ]
  },
  {
   "cell_type": "markdown",
   "metadata": {},
   "source": [
    "Create a functional chaos model. We reduce the sampling size for the automatic selection of distribution based on Kolmogorov test."
   ]
  },
  {
   "cell_type": "code",
   "execution_count": 4,
   "metadata": {},
   "outputs": [],
   "source": [
    "ot.ResourceMap.SetAsUnsignedInteger(\"FittingTest-KolmogorovSamplingSize\", 100)"
   ]
  },
  {
   "cell_type": "code",
   "execution_count": 5,
   "metadata": {},
   "outputs": [],
   "source": [
    "distribution = ot.FunctionalChaosAlgorithm.BuildDistribution(inputSample)"
   ]
  },
  {
   "cell_type": "code",
   "execution_count": 6,
   "metadata": {},
   "outputs": [
    {
     "name": "stdout",
     "output_type": "stream",
     "text": [
      "Marginal # 0 : Histogram\n",
      "Marginal # 1 : Histogram\n"
     ]
    },
    {
     "data": {
      "text/html": [
       "<p>IndependentCopula(dimension = 2)</p>"
      ],
      "text/plain": [
       "class=IndependentCopula name=IndependentCopula dimension=2"
      ]
     },
     "execution_count": 6,
     "metadata": {},
     "output_type": "execute_result"
    }
   ],
   "source": [
    "for i in range(dimension):\n",
    "    marginal = distribution.getMarginal(i)\n",
    "    marginalname = marginal.getImplementation().getClassName()\n",
    "    print(\"Marginal #\",i,\":\",marginalname)\n",
    "distribution.getCopula()"
   ]
  },
  {
   "cell_type": "markdown",
   "metadata": {},
   "source": [
    "The previous call to `BuildDistribution` is what is done internally by the following constructor of `FunctionalChaosAlgorithm`."
   ]
  },
  {
   "cell_type": "code",
   "execution_count": 7,
   "metadata": {},
   "outputs": [],
   "source": [
    "algo = ot.FunctionalChaosAlgorithm(inputSample, outputSample)"
   ]
  }
 ],
 "metadata": {
  "kernelspec": {
   "display_name": "Python 3",
   "language": "python",
   "name": "python3"
  },
  "language_info": {
   "codemirror_mode": {
    "name": "ipython",
    "version": 3
   },
   "file_extension": ".py",
   "mimetype": "text/x-python",
   "name": "python",
   "nbconvert_exporter": "python",
   "pygments_lexer": "ipython3",
   "version": "3.7.3"
  }
 },
 "nbformat": 4,
 "nbformat_minor": 2
}
