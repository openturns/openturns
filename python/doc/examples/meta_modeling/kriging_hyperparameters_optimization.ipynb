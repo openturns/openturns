{
 "cells": [
  {
   "cell_type": "markdown",
   "metadata": {},
   "source": [
    "# Configure the optimization solver of a kriging algorithm"
   ]
  },
  {
   "cell_type": "markdown",
   "metadata": {},
   "source": [
    "The goal of this example is to show how to fine-tune the optimization solver used to estimate the hyperparameters of the covariance model of the kriging metamodel. \n",
    "\n",
    "## Introduction\n",
    "\n",
    "In a kriging metamodel, there are various types of parameters which are estimated from the data. \n",
    "\n",
    "* The parameters ${\\beta}$ associated with the deterministic trend. These parameters are computed based on linear least squares. \n",
    "* The parameters of the covariance model. \n",
    "\n",
    "The covariance model has two types of parameters.\n",
    "\n",
    "* The amplitude parameter $\\sigma^2$ is estimated from the data. If the output dimension is equal to one, this parameter is estimated using the analytic variance estimator which maximizes the likelihood. Otherwise, if output dimension is greater than one or analytical sigma disabled, this parameter is estimated from numerical optimization. \n",
    "* The other parameters ${\\bf \\theta}\\in\\mathbb{R}^d$ where $d$ is the spatial dimension of the covariance model. Often, the parameter ${\\bf \\theta}$ is a scale parameter. This step involves an optimization algorithm. \n",
    "\n",
    "All these parameters are estimated with the `GeneralLinearModelAlgorithm` class. \n",
    "\n",
    "The estimation of the ${\\bf \\theta}$ parameters is the step which has the highest CPU cost. Moreover, the maximization of likelihood may be associated with difficulties e.g. many local maximums or even the non convergence of the optimization algorithm. In this case, it might be useful to fine tune the optimization algorithm so that the convergence of the optimization algorithm is, hopefully, improved. \n",
    "\n",
    "Furthermore, there are several situations in which the optimization can be initialized or completely bypassed. Suppose for example that we have already created an initial kriging metamodel with $N$ points and we want to add a single new point. \n",
    "\n",
    "* It might be interesting to initialize the optimization algorithm with the optimum found for the previous kriging metamodel: this may reduce the number of iterations required to maximize the likelihood. \n",
    "* We may as well completely bypass the optimization step: if the previous covariance model was correctly estimated, the update of the parameters may or may not significantly improve the estimates. \n",
    "\n",
    "This is why the goal of this example is to see how to configure the optimization of the hyperparameters of a kriging metamodel."
   ]
  },
  {
   "cell_type": "markdown",
   "metadata": {},
   "source": [
    "## Definition of the model"
   ]
  },
  {
   "cell_type": "code",
   "execution_count": 1,
   "metadata": {},
   "outputs": [],
   "source": [
    "import openturns as ot"
   ]
  },
  {
   "cell_type": "markdown",
   "metadata": {},
   "source": [
    "We define the symbolic function which evaluates the output Y depending on the inputs E, F, L and I."
   ]
  },
  {
   "cell_type": "code",
   "execution_count": 2,
   "metadata": {},
   "outputs": [],
   "source": [
    "model = ot.SymbolicFunction([\"E\", \"F\", \"L\", \"I\"], [\"F*L^3/(3*E*I)\"])"
   ]
  },
  {
   "cell_type": "markdown",
   "metadata": {},
   "source": [
    "Then we define the distribution of the input random vector. "
   ]
  },
  {
   "cell_type": "code",
   "execution_count": 3,
   "metadata": {},
   "outputs": [],
   "source": [
    "# Young's modulus E\n",
    "E = ot.Beta(0.9, 2.27, 2.5e7, 5.0e7) # in N/m^2\n",
    "E.setDescription(\"E\")\n",
    "# Load F\n",
    "F = ot.LogNormal() # in N\n",
    "F.setParameter(ot.LogNormalMuSigma()([30.e3, 9e3, 15.e3]))\n",
    "F.setDescription(\"F\")\n",
    "# Length L\n",
    "L = ot.Uniform(250., 260.) # in cm\n",
    "L.setDescription(\"L\")\n",
    "# Moment of inertia I\n",
    "I = ot.Beta(2.5, 1.5, 310, 450) # in cm^4\n",
    "I.setDescription(\"I\")"
   ]
  },
  {
   "cell_type": "markdown",
   "metadata": {},
   "source": [
    "Finally, we define the dependency using a `NormalCopula`."
   ]
  },
  {
   "cell_type": "code",
   "execution_count": 4,
   "metadata": {},
   "outputs": [],
   "source": [
    "dim = 4 # number of inputs\n",
    "R = ot.CorrelationMatrix(dim)\n",
    "R[2, 3] = -0.2 \n",
    "myCopula = ot.NormalCopula(ot.NormalCopula.GetCorrelationFromSpearmanCorrelation(R))\n",
    "myDistribution = ot.ComposedDistribution([E, F, L, I], myCopula)"
   ]
  },
  {
   "cell_type": "markdown",
   "metadata": {},
   "source": [
    "## Create the design of experiments"
   ]
  },
  {
   "cell_type": "markdown",
   "metadata": {},
   "source": [
    "We consider a simple Monte-Carlo sampling as a design of experiments. This is why we generate an input sample using the `getSample` method of the distribution. Then we evaluate the output using the `model` function."
   ]
  },
  {
   "cell_type": "code",
   "execution_count": 5,
   "metadata": {},
   "outputs": [],
   "source": [
    "sampleSize_train = 20\n",
    "X_train = myDistribution.getSample(sampleSize_train)\n",
    "Y_train = model(X_train)"
   ]
  },
  {
   "cell_type": "markdown",
   "metadata": {},
   "source": [
    "We should apply a transformation to map inputs with huge values onto a standard space:"
   ]
  },
  {
   "cell_type": "code",
   "execution_count": 6,
   "metadata": {},
   "outputs": [],
   "source": [
    "mu = X_train.computeMean()\n",
    "sigma = X_train.computeStandardDeviationPerComponent()\n",
    "linear = ot.SquareMatrix(4)\n",
    "for k in range(4):\n",
    "    linear[k, k] = 1 / sigma[k]\n",
    "transformation = ot.LinearFunction([0]*4, mu, linear)"
   ]
  },
  {
   "cell_type": "markdown",
   "metadata": {},
   "source": [
    "And transform the input sample:"
   ]
  },
  {
   "cell_type": "code",
   "execution_count": 7,
   "metadata": {},
   "outputs": [],
   "source": [
    "tX_train = transformation(X_train)"
   ]
  },
  {
   "cell_type": "markdown",
   "metadata": {},
   "source": [
    "Note : if we have access to distribution, we might only use\n",
    "\n",
    "   ```python\n",
    "      transformation = myDistribution.getIsoProbabilisticTransformation()\n",
    "    ```\n",
    "\n"
   ]
  },
  {
   "cell_type": "markdown",
   "metadata": {},
   "source": [
    "## Create the metamodel"
   ]
  },
  {
   "cell_type": "markdown",
   "metadata": {},
   "source": [
    "In order to create the kriging metamodel, we first select a constant trend with the `ConstantBasisFactory` class. Then we use a squared exponential covariance model. Finally, we use the `KrigingAlgorithm` class to create the kriging metamodel, taking the training sample, the covariance model and the trend basis as input arguments. "
   ]
  },
  {
   "cell_type": "code",
   "execution_count": 8,
   "metadata": {},
   "outputs": [],
   "source": [
    "dimension = myDistribution.getDimension()\n",
    "basis = ot.ConstantBasisFactory(dimension).build()\n",
    "covarianceModel = ot.SquaredExponential([1.]*dimension, [1.0])\n",
    "algo = ot.KrigingAlgorithm(tX_train, Y_train, covarianceModel, basis)\n",
    "algo.run()\n",
    "result = algo.getResult()\n",
    "krigingMetamodel = result.getMetaModel()"
   ]
  },
  {
   "cell_type": "markdown",
   "metadata": {},
   "source": [
    "The `run` method has optimized the hyperparameters of the metamodel. \n",
    "\n",
    "We can then print the constant trend of the metamodel, which have been estimated using the least squares method."
   ]
  },
  {
   "cell_type": "code",
   "execution_count": 9,
   "metadata": {
    "scrolled": true
   },
   "outputs": [
    {
     "data": {
      "text/plain": [
       "[class=Point name=Unnamed dimension=1 values=[18.7526]]"
      ]
     },
     "execution_count": 9,
     "metadata": {},
     "output_type": "execute_result"
    }
   ],
   "source": [
    "result.getTrendCoefficients()"
   ]
  },
  {
   "cell_type": "markdown",
   "metadata": {},
   "source": [
    "We can also print the hyperparameters of the covariance model, which have been estimated by maximizing the likelihood. "
   ]
  },
  {
   "cell_type": "code",
   "execution_count": 10,
   "metadata": {},
   "outputs": [
    {
     "data": {
      "text/html": [
       "<p>SquaredExponential(scale=[5.49492,5.18157,7.19611,6.86906], amplitude=[8.37916])</p>"
      ],
      "text/plain": [
       "class=SquaredExponential scale=class=Point name=Unnamed dimension=4 values=[5.49492,5.18157,7.19611,6.86906] amplitude=class=Point name=Unnamed dimension=1 values=[8.37916]"
      ]
     },
     "execution_count": 10,
     "metadata": {},
     "output_type": "execute_result"
    }
   ],
   "source": [
    "basic_covariance_model = result.getCovarianceModel()\n",
    "basic_covariance_model"
   ]
  },
  {
   "cell_type": "markdown",
   "metadata": {},
   "source": [
    "## Get the optimizer algorithm"
   ]
  },
  {
   "cell_type": "markdown",
   "metadata": {},
   "source": [
    "The `getOptimizationAlgorithm` method returns the optimization algorithm used to optimize the ${\\bf \\theta}$ parameters of the `SquaredExponential` covariance model. "
   ]
  },
  {
   "cell_type": "code",
   "execution_count": 11,
   "metadata": {},
   "outputs": [],
   "source": [
    "solver = algo.getOptimizationAlgorithm()"
   ]
  },
  {
   "cell_type": "markdown",
   "metadata": {},
   "source": [
    "By default, the optimizer is the TNC algorithm with bound constraints. "
   ]
  },
  {
   "cell_type": "code",
   "execution_count": 12,
   "metadata": {},
   "outputs": [
    {
     "data": {
      "text/plain": [
       "'TNC'"
      ]
     },
     "execution_count": 12,
     "metadata": {},
     "output_type": "execute_result"
    }
   ],
   "source": [
    "solverImplementation = solver.getImplementation()\n",
    "solverImplementation.getClassName()"
   ]
  },
  {
   "cell_type": "markdown",
   "metadata": {},
   "source": [
    "The `getOptimizationBounds` method returns the bounds. The dimension of these bounds correspond to the spatial dimension of the covariance model. In the metamodeling context, this correspond to the input dimension of the model. "
   ]
  },
  {
   "cell_type": "code",
   "execution_count": 13,
   "metadata": {},
   "outputs": [
    {
     "data": {
      "text/plain": [
       "4"
      ]
     },
     "execution_count": 13,
     "metadata": {},
     "output_type": "execute_result"
    }
   ],
   "source": [
    "bounds = algo.getOptimizationBounds()\n",
    "bounds.getDimension()"
   ]
  },
  {
   "cell_type": "code",
   "execution_count": 14,
   "metadata": {},
   "outputs": [
    {
     "data": {
      "text/html": [
       "<p>[0.01,0.01,0.01,0.01]</p>"
      ],
      "text/plain": [
       "class=Point name=Unnamed dimension=4 values=[0.01,0.01,0.01,0.01]"
      ]
     },
     "execution_count": 14,
     "metadata": {},
     "output_type": "execute_result"
    }
   ],
   "source": [
    "lbounds = bounds.getLowerBound()\n",
    "lbounds"
   ]
  },
  {
   "cell_type": "code",
   "execution_count": 15,
   "metadata": {},
   "outputs": [
    {
     "data": {
      "text/html": [
       "<p>[6.71499,8.27466,7.19611,6.86906]</p>"
      ],
      "text/plain": [
       "class=Point name=Unnamed dimension=4 values=[6.71499,8.27466,7.19611,6.86906]"
      ]
     },
     "execution_count": 15,
     "metadata": {},
     "output_type": "execute_result"
    }
   ],
   "source": [
    "ubounds = bounds.getUpperBound()\n",
    "ubounds"
   ]
  },
  {
   "cell_type": "markdown",
   "metadata": {},
   "source": [
    "The `getOptimizeParameters` method returns `True` if these parameters are to be optimized."
   ]
  },
  {
   "cell_type": "code",
   "execution_count": 16,
   "metadata": {},
   "outputs": [
    {
     "data": {
      "text/plain": [
       "True"
      ]
     },
     "execution_count": 16,
     "metadata": {},
     "output_type": "execute_result"
    }
   ],
   "source": [
    "algo.getOptimizeParameters()"
   ]
  },
  {
   "cell_type": "markdown",
   "metadata": {},
   "source": [
    "## Configure the starting point of the optimization"
   ]
  },
  {
   "cell_type": "markdown",
   "metadata": {},
   "source": [
    "The starting point of the optimization is based on the parameters of the covariance model. In the following example, we configure the parameters of the covariance model to the arbitrary values `[12.,34.,56.,78.]`."
   ]
  },
  {
   "cell_type": "code",
   "execution_count": 17,
   "metadata": {},
   "outputs": [],
   "source": [
    "covarianceModel = ot.SquaredExponential([12.,34.,56.,78.], [1.0])\n",
    "algo = ot.KrigingAlgorithm(X_train, Y_train, covarianceModel, basis)"
   ]
  },
  {
   "cell_type": "code",
   "execution_count": 18,
   "metadata": {},
   "outputs": [],
   "source": [
    "algo.run()"
   ]
  },
  {
   "cell_type": "code",
   "execution_count": 19,
   "metadata": {},
   "outputs": [
    {
     "data": {
      "text/html": [
       "<p>SquaredExponential(scale=[12,34,16.3904,78], amplitude=[3.49366])</p>"
      ],
      "text/plain": [
       "class=SquaredExponential scale=class=Point name=Unnamed dimension=4 values=[12,34,16.3904,78] amplitude=class=Point name=Unnamed dimension=1 values=[3.49366]"
      ]
     },
     "execution_count": 19,
     "metadata": {},
     "output_type": "execute_result"
    }
   ],
   "source": [
    "result = algo.getResult()\n",
    "result.getCovarianceModel()"
   ]
  },
  {
   "cell_type": "markdown",
   "metadata": {},
   "source": [
    "In order to see the difference with the default optimization, we print the previous optimized covariance model."
   ]
  },
  {
   "cell_type": "code",
   "execution_count": 20,
   "metadata": {},
   "outputs": [
    {
     "data": {
      "text/html": [
       "<p>SquaredExponential(scale=[5.49492,5.18157,7.19611,6.86906], amplitude=[8.37916])</p>"
      ],
      "text/plain": [
       "class=SquaredExponential scale=class=Point name=Unnamed dimension=4 values=[5.49492,5.18157,7.19611,6.86906] amplitude=class=Point name=Unnamed dimension=1 values=[8.37916]"
      ]
     },
     "execution_count": 20,
     "metadata": {},
     "output_type": "execute_result"
    }
   ],
   "source": [
    "basic_covariance_model"
   ]
  },
  {
   "cell_type": "markdown",
   "metadata": {},
   "source": [
    "We observe that this does not change much the values of the parameters in this case. "
   ]
  },
  {
   "cell_type": "markdown",
   "metadata": {},
   "source": [
    "## Disabling the optimization"
   ]
  },
  {
   "cell_type": "markdown",
   "metadata": {},
   "source": [
    "It is sometimes useful to completely disable the optimization of the parameters. In order to see the effect of this, we first initialize the parameters of the covariance model with the arbitrary values `[12.,34.,56.,78.]`. "
   ]
  },
  {
   "cell_type": "code",
   "execution_count": 21,
   "metadata": {},
   "outputs": [],
   "source": [
    "covarianceModel = ot.SquaredExponential([12.,34.,56.,78.], [91.0])\n",
    "algo = ot.KrigingAlgorithm(tX_train, Y_train, covarianceModel, basis)"
   ]
  },
  {
   "cell_type": "markdown",
   "metadata": {},
   "source": [
    "The `setOptimizeParameters` method can be used to disable the optimization of the parameters."
   ]
  },
  {
   "cell_type": "code",
   "execution_count": 22,
   "metadata": {},
   "outputs": [],
   "source": [
    "algo.setOptimizeParameters(False)"
   ]
  },
  {
   "cell_type": "markdown",
   "metadata": {},
   "source": [
    "Then we run the algorithm and get the result. "
   ]
  },
  {
   "cell_type": "code",
   "execution_count": 23,
   "metadata": {},
   "outputs": [],
   "source": [
    "algo.run()\n",
    "result = algo.getResult()"
   ]
  },
  {
   "cell_type": "markdown",
   "metadata": {},
   "source": [
    "We observe that the covariance model is unchanged."
   ]
  },
  {
   "cell_type": "code",
   "execution_count": 24,
   "metadata": {},
   "outputs": [
    {
     "data": {
      "text/html": [
       "<p>SquaredExponential(scale=[12,34,56,78], amplitude=[91])</p>"
      ],
      "text/plain": [
       "class=SquaredExponential scale=class=Point name=Unnamed dimension=4 values=[12,34,56,78] amplitude=class=Point name=Unnamed dimension=1 values=[91]"
      ]
     },
     "execution_count": 24,
     "metadata": {},
     "output_type": "execute_result"
    }
   ],
   "source": [
    "result.getCovarianceModel()"
   ]
  },
  {
   "cell_type": "markdown",
   "metadata": {},
   "source": [
    "The trend, however, is still optimized, using linear least squares."
   ]
  },
  {
   "cell_type": "code",
   "execution_count": 25,
   "metadata": {},
   "outputs": [
    {
     "data": {
      "text/plain": [
       "[class=Point name=Unnamed dimension=1 values=[222.572]]"
      ]
     },
     "execution_count": 25,
     "metadata": {},
     "output_type": "execute_result"
    }
   ],
   "source": [
    "result.getTrendCoefficients()"
   ]
  },
  {
   "cell_type": "markdown",
   "metadata": {},
   "source": [
    "## Reuse the parameters from a previous optimization\n",
    "\n",
    "In this example, we show how to reuse the optimized parameters of a previous kriging and configure a new one. Furthermore, we disable the optimization so that the parameters of the covariance model are not updated. This make the process of adding a new point very fast: it improves the quality by adding a new point in the design of experiments without paying the price of the update of the covariance model."
   ]
  },
  {
   "cell_type": "markdown",
   "metadata": {},
   "source": [
    "Step 1: Run a first kriging algorithm. "
   ]
  },
  {
   "cell_type": "code",
   "execution_count": 26,
   "metadata": {},
   "outputs": [
    {
     "data": {
      "text/html": [
       "<p>SquaredExponential(scale=[5.49492,5.18157,7.19611,6.86906], amplitude=[8.37916])</p>"
      ],
      "text/plain": [
       "class=SquaredExponential scale=class=Point name=Unnamed dimension=4 values=[5.49492,5.18157,7.19611,6.86906] amplitude=class=Point name=Unnamed dimension=1 values=[8.37916]"
      ]
     },
     "execution_count": 26,
     "metadata": {},
     "output_type": "execute_result"
    }
   ],
   "source": [
    "dimension = myDistribution.getDimension()\n",
    "basis = ot.ConstantBasisFactory(dimension).build()\n",
    "covarianceModel = ot.SquaredExponential([1.]*dimension, [1.0])\n",
    "algo = ot.KrigingAlgorithm(tX_train, Y_train, covarianceModel, basis)\n",
    "algo.run()\n",
    "result = algo.getResult()\n",
    "covarianceModel = result.getCovarianceModel()\n",
    "covarianceModel"
   ]
  },
  {
   "cell_type": "markdown",
   "metadata": {},
   "source": [
    "Step 2: Create a new point and add it to the previous training design."
   ]
  },
  {
   "cell_type": "code",
   "execution_count": 27,
   "metadata": {},
   "outputs": [],
   "source": [
    "X_new = myDistribution.getSample(20)\n",
    "Y_new = model(X_new)"
   ]
  },
  {
   "cell_type": "code",
   "execution_count": 28,
   "metadata": {},
   "outputs": [
    {
     "data": {
      "text/plain": [
       "40"
      ]
     },
     "execution_count": 28,
     "metadata": {},
     "output_type": "execute_result"
    }
   ],
   "source": [
    "X_train.add(X_new)\n",
    "X_train.getSize()"
   ]
  },
  {
   "cell_type": "code",
   "execution_count": 29,
   "metadata": {},
   "outputs": [
    {
     "data": {
      "text/plain": [
       "40"
      ]
     },
     "execution_count": 29,
     "metadata": {},
     "output_type": "execute_result"
    }
   ],
   "source": [
    "Y_train.add(Y_new)\n",
    "Y_train.getSize()"
   ]
  },
  {
   "cell_type": "code",
   "execution_count": 30,
   "metadata": {},
   "outputs": [
    {
     "data": {
      "text/plain": [
       "40"
      ]
     },
     "execution_count": 30,
     "metadata": {},
     "output_type": "execute_result"
    }
   ],
   "source": [
    "tX_train.add(transformation(X_new))\n",
    "tX_train.getSize()"
   ]
  },
  {
   "cell_type": "markdown",
   "metadata": {},
   "source": [
    "Step 3: Create an updated kriging, using the new point with the old covariance parameters."
   ]
  },
  {
   "cell_type": "code",
   "execution_count": 31,
   "metadata": {},
   "outputs": [
    {
     "data": {
      "text/html": [
       "<p>SquaredExponential(scale=[5.49492,5.18157,7.19611,6.86906], amplitude=[8.37916])</p>"
      ],
      "text/plain": [
       "class=SquaredExponential scale=class=Point name=Unnamed dimension=4 values=[5.49492,5.18157,7.19611,6.86906] amplitude=class=Point name=Unnamed dimension=1 values=[8.37916]"
      ]
     },
     "execution_count": 31,
     "metadata": {},
     "output_type": "execute_result"
    }
   ],
   "source": [
    "algo = ot.KrigingAlgorithm(tX_train, Y_train, covarianceModel, basis)\n",
    "algo.setOptimizeParameters(False)\n",
    "algo.run()\n",
    "result = algo.getResult()\n",
    "notUpdatedCovarianceModel = result.getCovarianceModel()\n",
    "notUpdatedCovarianceModel"
   ]
  },
  {
   "cell_type": "code",
   "execution_count": 32,
   "metadata": {},
   "outputs": [],
   "source": [
    "def printCovarianceParameterChange(covarianceModel1,covarianceModel2):\n",
    "    parameters1 = covarianceModel1.getFullParameter()\n",
    "    parameters2 = covarianceModel2.getFullParameter()\n",
    "    for i in range(parameters1.getDimension()):\n",
    "        deltai = abs(parameters1[i] - parameters2[i])\n",
    "        print(\"Change in the parameter #%d = %s\" % (i,deltai))\n",
    "    return"
   ]
  },
  {
   "cell_type": "code",
   "execution_count": 33,
   "metadata": {},
   "outputs": [
    {
     "name": "stdout",
     "output_type": "stream",
     "text": [
      "Change in the parameter #0 = 0.0\n",
      "Change in the parameter #1 = 0.0\n",
      "Change in the parameter #2 = 0.0\n",
      "Change in the parameter #3 = 0.0\n",
      "Change in the parameter #4 = 0.0\n"
     ]
    }
   ],
   "source": [
    "printCovarianceParameterChange(covarianceModel,notUpdatedCovarianceModel)"
   ]
  },
  {
   "cell_type": "markdown",
   "metadata": {},
   "source": [
    "We see that the parameters did not change *at all*: disabling the optimization allows to keep a constant covariance model. In a practical algorithm, we may, for example, add a block of 10 new points before updating the parameters of the covariance model. At this point, we may reuse the previous covariance model so that the optimization starts from a better point, compared to the parameters default values. This will reduce the cost of the optimization."
   ]
  },
  {
   "cell_type": "markdown",
   "metadata": {},
   "source": [
    "## Configure the optimization solver"
   ]
  },
  {
   "cell_type": "markdown",
   "metadata": {},
   "source": [
    "The following example checks the robustness of the optimization of the kriging algorithm with respect to the optimization of the likelihood function in the covariance model parameters estimation. We use a `MultiStart` algorithm in order to avoid to be trapped by a local minimum. Furthermore, we generate the design of experiments using a `LHSExperiments`, which guarantees that the points will fill the space. "
   ]
  },
  {
   "cell_type": "code",
   "execution_count": 34,
   "metadata": {},
   "outputs": [],
   "source": [
    "sampleSize_train = 10\n",
    "X_train = myDistribution.getSample(sampleSize_train)\n",
    "Y_train = model(X_train)"
   ]
  },
  {
   "cell_type": "markdown",
   "metadata": {},
   "source": [
    "First, we create a multivariate distribution, based on independent `Uniform` marginals which have the bounds required by the covariance model."
   ]
  },
  {
   "cell_type": "code",
   "execution_count": 35,
   "metadata": {},
   "outputs": [],
   "source": [
    "distributions = ot.DistributionCollection()\n",
    "for i in range(dim):\n",
    "    distributions.add(ot.Uniform(lbounds[i], ubounds[i]))\n",
    "boundedDistribution = ot.ComposedDistribution(distributions)"
   ]
  },
  {
   "cell_type": "markdown",
   "metadata": {},
   "source": [
    "We first generate a Latin Hypercube Sampling (LHS) design made of 25 points in the sample space. This LHS is optimized so as to fill the space."
   ]
  },
  {
   "cell_type": "code",
   "execution_count": 36,
   "metadata": {},
   "outputs": [
    {
     "data": {
      "text/plain": [
       "25"
      ]
     },
     "execution_count": 36,
     "metadata": {},
     "output_type": "execute_result"
    }
   ],
   "source": [
    "K = 25 # design size\n",
    "LHS = ot.LHSExperiment(boundedDistribution, K)\n",
    "LHS.setAlwaysShuffle(True)\n",
    "SA_profile = ot.GeometricProfile(10., 0.95, 20000)\n",
    "LHS_optimization_algo = ot.SimulatedAnnealingLHS(LHS, SA_profile, ot.SpaceFillingC2())\n",
    "LHS_optimization_algo.generate()\n",
    "LHS_design = LHS_optimization_algo.getResult()\n",
    "starting_points = LHS_design.getOptimalDesign()\n",
    "starting_points.getSize()"
   ]
  },
  {
   "cell_type": "markdown",
   "metadata": {},
   "source": [
    "We can check that the minimum and maximum in the sample correspond to the bounds of the design of experiment."
   ]
  },
  {
   "cell_type": "code",
   "execution_count": 37,
   "metadata": {},
   "outputs": [
    {
     "data": {
      "text/plain": [
       "(class=Point name=Unnamed dimension=4 values=[0.01,0.01,0.01,0.01],\n",
       " class=Point name=Unnamed dimension=4 values=[6.71499,8.27466,7.19611,6.86906])"
      ]
     },
     "execution_count": 37,
     "metadata": {},
     "output_type": "execute_result"
    }
   ],
   "source": [
    "lbounds, ubounds"
   ]
  },
  {
   "cell_type": "code",
   "execution_count": 38,
   "metadata": {},
   "outputs": [
    {
     "data": {
      "text/plain": [
       "(class=Point name=Unnamed dimension=4 values=[0.127921,0.0960666,0.197923,0.21663],\n",
       " class=Point name=Unnamed dimension=4 values=[6.49641,8.01789,7.10813,6.7048])"
      ]
     },
     "execution_count": 38,
     "metadata": {},
     "output_type": "execute_result"
    }
   ],
   "source": [
    "starting_points.getMin(), starting_points.getMax()"
   ]
  },
  {
   "cell_type": "markdown",
   "metadata": {},
   "source": [
    "Then we create a `MultiStart` algorithm based on the LHS starting points."
   ]
  },
  {
   "cell_type": "code",
   "execution_count": 39,
   "metadata": {},
   "outputs": [],
   "source": [
    "solver.setMaximumIterationNumber(10000)\n",
    "multiStartSolver = ot.MultiStart(solver, starting_points)\n",
    "multiStartSolver.setMaximumIterationNumber(10000)"
   ]
  },
  {
   "cell_type": "markdown",
   "metadata": {},
   "source": [
    "Finally, we configure the optimization algorithm so as to use the `MultiStart` algorithm. "
   ]
  },
  {
   "cell_type": "code",
   "execution_count": 40,
   "metadata": {},
   "outputs": [],
   "source": [
    "algo = ot.KrigingAlgorithm(transformation(X_train), Y_train, covarianceModel, basis)\n",
    "algo.setOptimizationAlgorithm(multiStartSolver)\n",
    "algo.run()"
   ]
  },
  {
   "cell_type": "code",
   "execution_count": 41,
   "metadata": {},
   "outputs": [
    {
     "data": {
      "text/html": [
       "<p>SquaredExponential(scale=[5.49492,5.18157,7.19611,6.86906], amplitude=[8.37916])</p>"
      ],
      "text/plain": [
       "class=SquaredExponential scale=class=Point name=Unnamed dimension=4 values=[5.49492,5.18157,7.19611,6.86906] amplitude=class=Point name=Unnamed dimension=1 values=[8.37916]"
      ]
     },
     "execution_count": 41,
     "metadata": {},
     "output_type": "execute_result"
    }
   ],
   "source": [
    "finetune_covariance_model = result.getCovarianceModel()\n",
    "finetune_covariance_model"
   ]
  },
  {
   "cell_type": "code",
   "execution_count": 42,
   "metadata": {
    "scrolled": true
   },
   "outputs": [
    {
     "name": "stdout",
     "output_type": "stream",
     "text": [
      "Change in the parameter #0 = 0.0\n",
      "Change in the parameter #1 = 0.0\n",
      "Change in the parameter #2 = 0.0\n",
      "Change in the parameter #3 = 0.0\n",
      "Change in the parameter #4 = 0.0\n"
     ]
    }
   ],
   "source": [
    "printCovarianceParameterChange(finetune_covariance_model,basic_covariance_model)"
   ]
  },
  {
   "cell_type": "markdown",
   "metadata": {},
   "source": [
    "We see that there are no changes in the estimated parameters. This shows that the first optimization of the parameters worked fine."
   ]
  }
 ],
 "metadata": {
  "kernelspec": {
   "display_name": "Python 3",
   "language": "python",
   "name": "python3"
  },
  "language_info": {
   "codemirror_mode": {
    "name": "ipython",
    "version": 3
   },
   "file_extension": ".py",
   "mimetype": "text/x-python",
   "name": "python",
   "nbconvert_exporter": "python",
   "pygments_lexer": "ipython3",
   "version": "3.7.3"
  }
 },
 "nbformat": 4,
 "nbformat_minor": 2
}
