{
 "cells": [
  {
   "cell_type": "markdown",
   "metadata": {},
   "source": [
    "# Kriging the cantilever beam model using HMAT\n"
   ]
  },
  {
   "cell_type": "markdown",
   "metadata": {},
   "source": [
    "In this example, we create a kriging metamodel of the cantilever beam. We use a squared exponential covariance model for the kriging. In order to estimate the hyper-parameters, we use a design of experiments which size is 100.\n"
   ]
  },
  {
   "cell_type": "markdown",
   "metadata": {},
   "source": [
    "We consider a cantilever beam defined by its Young’s modulus $E$, its length $L$ and its section modulus $I$. One end is built in a wall and we apply a concentrated bending load $F$ at the other end of the beam, resulting in a vertical deviation $Y$.\n",
    "\n",
    "<img src=\"beam.png\" width=\"200\">\n",
    "\n",
    "**Inputs**\n",
    "\n",
    "* $E$ : Young modulus (Pa), Beta($\\alpha = 0.9$, $\\beta = 2.27$, a = $2.5\\times 10^7$, $b = 5\\times 10^7$)\n",
    "* $F$ : Loading (N), Lognormal($\\mu_F=30 \\times 10^3$, $\\sigma_F=9\\times 10^3$, shift=$15\\times 10^3$)\n",
    "* $L$ : Length of beam (cm), Uniform(min=250.0, max= 260.0)\n",
    "* $I$ : Moment of inertia (cm^4), Beta($\\alpha = 2.5$, $\\beta = 1.5$, a = 310, b = 450).\n",
    "\n",
    "In the previous table $\\mu_F=E(F)$ and $\\sigma_F=\\sqrt{V(F)}$ are the mean and the standard deviation of $F$.\n",
    "\n",
    "We assume that the random variables E, F, L and I are dependent and associated with a gaussian copula which correlation matrix is :\n",
    "$$\n",
    "R = \n",
    "\\begin{pmatrix}\n",
    "1 & 0 & 0 & 0 \\\\\n",
    "0 & 1 & 0 & 0 \\\\\n",
    "0 & 0 & 1 & -0.2 \\\\\n",
    "0 & 0 & -0.2 & 1\n",
    "\\end{pmatrix}\n",
    "$$\n",
    "\n",
    "In other words, we consider that the variables L and I are negatively correlated : when the length L increases, the moment of intertia I decreases.\n",
    "\n",
    "**Output**\n",
    "\n",
    "The vertical displacement at free end of the cantilever beam is:\n",
    "$$\n",
    "Y  = \\dfrac{F\\, L^3}{3 \\, E \\, I}\n",
    "$$\n"
   ]
  },
  {
   "cell_type": "markdown",
   "metadata": {},
   "source": [
    "## Definition of the model"
   ]
  },
  {
   "cell_type": "code",
   "execution_count": 1,
   "metadata": {},
   "outputs": [],
   "source": [
    "import openturns as ot"
   ]
  },
  {
   "cell_type": "markdown",
   "metadata": {},
   "source": [
    "We define the symbolic function which evaluates the output Y depending on the inputs E, F, L and I."
   ]
  },
  {
   "cell_type": "code",
   "execution_count": 2,
   "metadata": {},
   "outputs": [],
   "source": [
    "model = ot.SymbolicFunction([\"E\", \"F\", \"L\", \"I\"], [\"F*L^3/(3*E*I)\"])"
   ]
  },
  {
   "cell_type": "markdown",
   "metadata": {},
   "source": [
    "Then we define the distribution of the input random vector. "
   ]
  },
  {
   "cell_type": "code",
   "execution_count": 3,
   "metadata": {},
   "outputs": [],
   "source": [
    "# Young's modulus E\n",
    "E = ot.Beta(0.9, 2.27, 2.5e7, 5.0e7) # in N/m^2\n",
    "E.setDescription(\"E\")\n",
    "# Load F\n",
    "F = ot.LogNormal() # in N\n",
    "F.setParameter(ot.LogNormalMuSigma()([30.e3, 9e3, 15.e3]))\n",
    "F.setDescription(\"F\")\n",
    "# Length L\n",
    "L = ot.Uniform(250., 260.) # in cm\n",
    "L.setDescription(\"L\")\n",
    "# Moment of inertia I\n",
    "I = ot.Beta(2.5, 1.5, 310, 450) # in cm^4\n",
    "I.setDescription(\"I\")"
   ]
  },
  {
   "cell_type": "markdown",
   "metadata": {},
   "source": [
    "Finally, we define the dependency using a `NormalCopula`."
   ]
  },
  {
   "cell_type": "code",
   "execution_count": 4,
   "metadata": {},
   "outputs": [],
   "source": [
    "dimension = 4 # number of inputs\n",
    "R = ot.CorrelationMatrix(dimension)\n",
    "R[2, 3] = -0.2 \n",
    "myCopula = ot.NormalCopula(ot.NormalCopula.GetCorrelationFromSpearmanCorrelation(R))\n",
    "myDistribution = ot.ComposedDistribution([E, F, L, I], myCopula)"
   ]
  },
  {
   "cell_type": "markdown",
   "metadata": {},
   "source": [
    "## Create the design of experiments"
   ]
  },
  {
   "cell_type": "markdown",
   "metadata": {},
   "source": [
    "We consider a simple Monte-Carlo sampling as a design of experiments. This is why we generate an input sample using the `getSample` method of the distribution. Then we evaluate the output using the `model` function."
   ]
  },
  {
   "cell_type": "code",
   "execution_count": 5,
   "metadata": {},
   "outputs": [],
   "source": [
    "sampleSize_train = 100\n",
    "X_train = myDistribution.getSample(sampleSize_train)\n",
    "Y_train = model(X_train)"
   ]
  },
  {
   "cell_type": "markdown",
   "metadata": {},
   "source": [
    "We should apply a transformation to map inputs with huge values onto a standard space:"
   ]
  },
  {
   "cell_type": "code",
   "execution_count": 6,
   "metadata": {},
   "outputs": [],
   "source": [
    "mu = X_train.computeMean()\n",
    "sigma = X_train.computeStandardDeviationPerComponent()\n",
    "linear = ot.SquareMatrix(4)\n",
    "for k in range(4):\n",
    "    linear[k, k] = 1 / sigma[k]\n",
    "transformation = ot.LinearFunction([0]*4, mu, linear)"
   ]
  },
  {
   "cell_type": "markdown",
   "metadata": {},
   "source": [
    "Note : if we have access to distribution, we might only use\n",
    "\n",
    "   ```python\n",
    "   transformation = myDistribution.getIsoProbabilisticTransformation()\n",
    "   ```\n",
    "And transform the input sample:"
   ]
  },
  {
   "cell_type": "code",
   "execution_count": 7,
   "metadata": {},
   "outputs": [],
   "source": [
    "tX_train = transformation(X_train)"
   ]
  },
  {
   "cell_type": "markdown",
   "metadata": {},
   "source": [
    "The following figure presents the distribution of the vertical deviations Y on the training sample. We observe that the large deviations occur less often. "
   ]
  },
  {
   "cell_type": "code",
   "execution_count": 8,
   "metadata": {},
   "outputs": [
    {
     "data": {
      "image/png": "[encoded data removed]",
      "text/plain": [
       "class=Graph name=y0 PDF implementation=class=GraphImplementation name=y0 PDF title=Distribution of the vertical deviation xTitle=Vertical deviation (cm) yTitle=PDF axes=ON grid=ON legendposition=topright legendFontSize=1 drawables=[class=Drawable name=Unnamed implementation=class=Curve name=Unnamed derived from class=DrawableImplementation name=Unnamed legend= data=class=Sample name=Unnamed implementation=class=SampleImplementation name=Unnamed size=44 dimension=2 data=[[5.1614,0],[6.44746,0],[6.44746,0],[6.44746,0.0466542],[9.01957,0.0466542],[9.01957,0],[9.01957,0],[9.01957,0.101084],[11.5917,0.101084],[11.5917,0],[11.5917,0],[11.5917,0.0971963],[14.1638,0.0971963],[14.1638,0],[14.1638,0],[14.1638,0.0583178],[16.7359,0.0583178],[16.7359,0],[16.7359,0],[16.7359,0.0466542],[19.308,0.0466542],[19.308,0],[19.308,0],[19.308,0.0194393],[21.8801,0.0194393],[21.8801,0],[21.8801,0],[21.8801,0.0116636],[24.4523,0.0116636],[24.4523,0],[24.4523,0],[24.4523,0.00388785],[27.0244,0.00388785],[27.0244,0],[27.0244,0],[27.0244,0],[29.5965,0],[29.5965,0],[29.5965,0],[29.5965,0.00388785],[32.1686,0.00388785],[32.1686,0],[32.1686,0],[33.4547,0]] color=red fillStyle=solid lineStyle=solid pointStyle=none lineWidth=2]"
      ]
     },
     "execution_count": 8,
     "metadata": {},
     "output_type": "execute_result"
    }
   ],
   "source": [
    "histo = ot.HistogramFactory().build(Y_train).drawPDF()\n",
    "histo.setXTitle(\"Vertical deviation (cm)\")\n",
    "histo.setTitle(\"Distribution of the vertical deviation\")\n",
    "histo.setLegends([\"\"])\n",
    "histo"
   ]
  },
  {
   "cell_type": "markdown",
   "metadata": {},
   "source": [
    "## Create the metamodel"
   ]
  },
  {
   "cell_type": "markdown",
   "metadata": {},
   "source": [
    "In order to create the kriging metamodel, we first select a constant trend with the `ConstantBasisFactory` class. Then we use a squared exponential covariance model. "
   ]
  },
  {
   "cell_type": "code",
   "execution_count": 9,
   "metadata": {},
   "outputs": [],
   "source": [
    "basis = ot.ConstantBasisFactory(dimension).build()\n",
    "covarianceModel = ot.SquaredExponential([1.]*dimension, [1.0])"
   ]
  },
  {
   "cell_type": "markdown",
   "metadata": {},
   "source": [
    "We rely on `H-Matrix` approximation for accelerating the evaluation.\n",
    "We change default parameters (compression, recompression) to higher values. The model is less accurate but very fast to build & evaluate.  "
   ]
  },
  {
   "cell_type": "code",
   "execution_count": 10,
   "metadata": {},
   "outputs": [],
   "source": [
    "ot.ResourceMap.SetAsString(\"KrigingAlgorithm-LinearAlgebra\",  \"HMAT\")\n",
    "ot.ResourceMap.SetAsScalar(\"HMatrix-AssemblyEpsilon\",  1e-3)\n",
    "ot.ResourceMap.SetAsScalar( \"HMatrix-RecompressionEpsilon\",  1e-4)"
   ]
  },
  {
   "cell_type": "markdown",
   "metadata": {},
   "source": [
    "Finally, we use the `KrigingAlgorithm` class to create the kriging metamodel, taking the training sample, the covariance model and the trend basis as input arguments. "
   ]
  },
  {
   "cell_type": "code",
   "execution_count": 11,
   "metadata": {},
   "outputs": [],
   "source": [
    "algo = ot.KrigingAlgorithm(tX_train, Y_train, covarianceModel, basis)\n",
    "algo.run()\n",
    "result = algo.getResult()"
   ]
  },
  {
   "cell_type": "markdown",
   "metadata": {},
   "source": [
    "The `run` method has optimized the hyperparameters of the metamodel. "
   ]
  },
  {
   "cell_type": "markdown",
   "metadata": {},
   "source": [
    "We can then print the constant trend of the metamodel, which have been estimated using the least squares method."
   ]
  },
  {
   "cell_type": "code",
   "execution_count": 12,
   "metadata": {
    "scrolled": true
   },
   "outputs": [
    {
     "data": {
      "text/plain": [
       "[class=Point name=Unnamed dimension=1 values=[15.5691]]"
      ]
     },
     "execution_count": 12,
     "metadata": {},
     "output_type": "execute_result"
    }
   ],
   "source": [
    "result.getTrendCoefficients()"
   ]
  },
  {
   "cell_type": "markdown",
   "metadata": {},
   "source": [
    "We can also print the hyperparameters of the covariance model, which have been estimated by maximizing the likelihood. "
   ]
  },
  {
   "cell_type": "code",
   "execution_count": 13,
   "metadata": {},
   "outputs": [
    {
     "data": {
      "text/html": [
       "<p>SquaredExponential(scale=[1.20705,1.58526,6.8314,3.30039], amplitude=[2.18157])</p>"
      ],
      "text/plain": [
       "class=SquaredExponential scale=class=Point name=Unnamed dimension=4 values=[1.20705,1.58526,6.8314,3.30039] amplitude=class=Point name=Unnamed dimension=1 values=[2.18157]"
      ]
     },
     "execution_count": 13,
     "metadata": {},
     "output_type": "execute_result"
    }
   ],
   "source": [
    "result.getCovarianceModel()"
   ]
  },
  {
   "cell_type": "markdown",
   "metadata": {},
   "source": [
    "As we applied a transformation, the full metamodel relies on the previous transformation:"
   ]
  },
  {
   "cell_type": "code",
   "execution_count": 14,
   "metadata": {},
   "outputs": [],
   "source": [
    "krigingMetamodel = result.getMetaModel()\n",
    "full_meta_model = ot.ComposedFunction(krigingMetamodel, transformation)"
   ]
  },
  {
   "cell_type": "markdown",
   "metadata": {},
   "source": [
    "## Validate the metamodel"
   ]
  },
  {
   "cell_type": "markdown",
   "metadata": {},
   "source": [
    "We finally want to validate the kriging metamodel. This is why we generate a validation sample which size is equal to 100 and we evaluate the output of the model on this sample."
   ]
  },
  {
   "cell_type": "code",
   "execution_count": 15,
   "metadata": {},
   "outputs": [],
   "source": [
    "sampleSize_test = 100\n",
    "X_test = myDistribution.getSample(sampleSize_test)\n",
    "Y_test = model(X_test)"
   ]
  },
  {
   "cell_type": "markdown",
   "metadata": {},
   "source": [
    "The `MetaModelValidation` classe makes the validation easy. To create it, we use the validation samples and the metamodel. "
   ]
  },
  {
   "cell_type": "code",
   "execution_count": 16,
   "metadata": {},
   "outputs": [],
   "source": [
    "val = ot.MetaModelValidation(X_test, Y_test, full_meta_model)"
   ]
  },
  {
   "cell_type": "markdown",
   "metadata": {},
   "source": [
    "The `computePredictivityFactor` computes the Q2 factor. "
   ]
  },
  {
   "cell_type": "code",
   "execution_count": 17,
   "metadata": {
    "scrolled": true
   },
   "outputs": [
    {
     "data": {
      "text/plain": [
       "0.988903930115883"
      ]
     },
     "execution_count": 17,
     "metadata": {},
     "output_type": "execute_result"
    }
   ],
   "source": [
    "Q2 = val.computePredictivityFactor()\n",
    "Q2"
   ]
  },
  {
   "cell_type": "markdown",
   "metadata": {},
   "source": [
    "Since the Q2 is larger than 95%, we can say that the quality is acceptable. "
   ]
  },
  {
   "cell_type": "markdown",
   "metadata": {},
   "source": [
    "The residuals are the difference between the model and the metamodel. "
   ]
  },
  {
   "cell_type": "code",
   "execution_count": 18,
   "metadata": {},
   "outputs": [
    {
     "data": {
      "image/png": "[encoded data removed]",
      "text/plain": [
       "class=Graph name=y0 PDF implementation=class=GraphImplementation name=y0 PDF title=y0 PDF xTitle=y0 yTitle=PDF axes=ON grid=ON legendposition=topright legendFontSize=1 drawables=[class=Drawable name=Unnamed implementation=class=Curve name=Unnamed derived from class=DrawableImplementation name=Unnamed legend=y0 PDF data=class=Sample name=Unnamed implementation=class=SampleImplementation name=Unnamed size=144 dimension=2 data=[[-2.58284,0],[-2.52393,0],[-2.52393,0],[-2.52393,0.0848823],[-2.40612,0.0848823],[-2.40612,0],[-2.40612,0],[-2.40612,0],[-2.28831,0],[-2.28831,0],[-2.28831,0],[-2.28831,0],[-2.1705,0],[-2.1705,0],[-2.1705,0],[-2.1705,0],[-2.05269,0],[-2.05269,0],[-2.05269,0],[-2.05269,0],[-1.93488,0],[-1.93488,0],[-1.93488,0],[-1.93488,0],[-1.81707,0],[-1.81707,0],[-1.81707,0],[-1.81707,0],[-1.69926,0],[-1.69926,0],[-1.69926,0],[-1.69926,0],[-1.58145,0],[-1.58145,0],[-1.58145,0],[-1.58145,0],[-1.46364,0],[-1.46364,0],[-1.46364,0],[-1.46364,0],[-1.34583,0],[-1.34583,0],[-1.34583,0],[-1.34583,0],[-1.22802,0],[-1.22802,0],[-1.22802,0],[-1.22802,0],[-1.11021,0],[-1.11021,0],[-1.11021,0],[-1.11021,0],[-0.992398,0],[-0.992398,0],[-0.992398,0],[-0.992398,0],[-0.874588,0],[-0.874588,0],[-0.874588,0],[-0.874588,0.0848823],[-0.756778,0.0848823],[-0.756778,0],[-0.756778,0],[-0.756778,0.169765],[-0.638968,0.169765],[-0.638968,0],[-0.638968,0],[-0.638968,0.254647],[-0.521157,0.254647],[-0.521157,0],[-0.521157,0],[-0.521157,0],[-0.403347,0],[-0.403347,0],[-0.403347,0],[-0.403347,0.254647],[-0.285537,0.254647],[-0.285537,0],[-0.285537,0],[-0.285537,0.763941],[-0.167727,0.763941],[-0.167727,0],[-0.167727,0],[-0.167727,1.35812],[-0.0499166,1.35812],[-0.0499166,0],[-0.0499166,0],[-0.0499166,2.71623],[0.0678935,2.71623],[0.0678935,0],[0.0678935,0],[0.0678935,1.52788],[0.185704,1.52788],[0.185704,0],[0.185704,0],[0.185704,0.509294],[0.303514,0.509294],[0.303514,0],[0.303514,0],[0.303514,0.169765],[0.421324,0.169765],[0.421324,0],[0.421324,0],[0.421324,0.339529],[0.539134,0.339529],[0.539134,0],[0.539134,0],[0.539134,0.169765],[0.656944,0.169765],[0.656944,0],[0.656944,0],[0.656944,0],[0.774755,0],[0.774755,0],[0.774755,0],[0.774755,0],[0.892565,0],[0.892565,0],[0.892565,0],[0.892565,0],[1.01038,0],[1.01038,0],[1.01038,0],[1.01038,0],[1.12819,0],[1.12819,0],[1.12819,0],[1.12819,0],[1.246,0],[1.246,0],[1.246,0],[1.246,0],[1.36381,0],[1.36381,0],[1.36381,0],[1.36381,0],[1.48162,0],[1.48162,0],[1.48162,0],[1.48162,0.0848823],[1.59943,0.0848823],[1.59943,0],[1.59943,0],[1.65833,0]] color=red fillStyle=solid lineStyle=solid pointStyle=none lineWidth=2]"
      ]
     },
     "execution_count": 18,
     "metadata": {},
     "output_type": "execute_result"
    }
   ],
   "source": [
    "r = val.getResidualSample()\n",
    "ot.HistogramFactory().build(r).drawPDF()"
   ]
  },
  {
   "cell_type": "markdown",
   "metadata": {},
   "source": [
    "We observe that the negative residuals occur with nearly the same frequency of the positive residuals: this is a first   sign of good quality. Furthermore, the residuals are most of the times contained in the [-1,1] interval, which is a sign of quality given the amplitude of the output (approximately from 5 to 25 cm)."
   ]
  },
  {
   "cell_type": "markdown",
   "metadata": {},
   "source": [
    "The `drawValidation` method allows to compare the observed outputs and the metamodel outputs."
   ]
  },
  {
   "cell_type": "code",
   "execution_count": 19,
   "metadata": {},
   "outputs": [
    {
     "data": {
      "image/png": "[encoded data removed]",
      "text/plain": [
       "class=Graph name=Metamodel validation - Q2 = 98.8904 % implementation=class=GraphImplementation name=Metamodel validation - Q2 = 98.8904 % title=Q2 = 98.89% xTitle=model yTitle=metamodel axes=ON grid=ON legendposition= legendFontSize=1 drawables=[class=Drawable name=Unnamed implementation=class=Curve name=Unnamed derived from class=DrawableImplementation name=Unnamed legend= data=class=Sample name=Unnamed implementation=class=SampleImplementation name=Unnamed size=100 dimension=2 data=[[13.1492,13.1492],[13.2664,13.2664],[14.4288,14.4288],[10.2733,10.2733],[13.6326,13.6326],[14.7114,14.7114],[11.0175,11.0175],[11.9627,11.9627],[9.62296,9.62296],[10.1771,10.1771],[13.5779,13.5779],[19.148,19.148],[19.4871,19.4871],[15.11,15.11],[17.0435,17.0435],[15.0004,15.0004],[9.45082,9.45082],[12.5497,12.5497],[5.67151,5.67151],[7.27744,7.27744],[17.9534,17.9534],[20.0041,20.0041],[9.26712,9.26712],[6.19736,6.19736],[6.45277,6.45277],[9.10028,9.10028],[20.9045,20.9045],[12.2338,12.2338],[11.6448,11.6448],[18.0196,18.0196],[9.73547,9.73547],[11.4321,11.4321],[16.2977,16.2977],[15.2102,15.2102],[15.6706,15.6706],[11.2061,11.2061],[12.9046,12.9046],[11.7294,11.7294],[8.25067,8.25067],[7.59613,7.59613],[10.342,10.342],[13.7949,13.7949],[13.3855,13.3855],[8.66619,8.66619],[10.0634,10.0634],[12.01,12.01],[8.46321,8.46321],[14.3813,14.3813],[18.9576,18.9576],[15.6875,15.6875],[8.80714,8.80714],[12.7427,12.7427],[9.78665,9.78665],[20.6277,20.6277],[9.86649,9.86649],[8.63637,8.63637],[9.10502,9.10502],[10.726,10.726],[14.3099,14.3099],[8.27101,8.27101],[10.0999,10.0999],[24.7429,24.7429],[15.5381,15.5381],[16.7483,16.7483],[12.1452,12.1452],[12.3499,12.3499],[19.479,19.479],[14.2643,14.2643],[10.382,10.382],[19.0206,19.0206],[14.062,14.062],[11.4288,11.4288],[7.54331,7.54331],[11.5603,11.5603],[10.5555,10.5555],[11.5002,11.5002],[9.82759,9.82759],[9.01173,9.01173],[13.2867,13.2867],[7.45648,7.45648],[10.8951,10.8951],[10.1583,10.1583],[10.964,10.964],[14.4107,14.4107],[10.8067,10.8067],[14.6513,14.6513],[14.075,14.075],[11.5729,11.5729],[10.7386,10.7386],[18.7708,18.7708],[14.5801,14.5801],[10.697,10.697],[11.9809,11.9809],[13.755,13.755],[12.2874,12.2874],[11.2626,11.2626],[9.61007,9.61007],[18.5002,18.5002],[11.1106,11.1106],[12.1814,12.1814]] color=blue fillStyle=solid lineStyle=solid pointStyle=none lineWidth=1,class=Drawable name=Unnamed implementation=class=Cloud name=Unnamed derived from class=DrawableImplementation name=Unnamed legend= data=class=Sample name=Unnamed implementation=class=SampleImplementation name=Unnamed size=100 dimension=2 data=[[13.1492,13.2547],[13.2664,13.2012],[14.4288,14.4365],[10.2733,10.1722],[13.6326,13.5332],[14.7114,14.8002],[11.0175,11.7532],[11.9627,11.8006],[9.62296,9.62816],[10.1771,10.0848],[13.5779,13.6368],[19.148,18.722],[19.4871,19.0086],[15.11,14.8816],[17.0435,17.1508],[15.0004,14.9856],[9.45082,9.47983],[12.5497,12.4928],[5.67151,8.19544],[7.27744,7.19951],[17.9534,18.0602],[20.0041,19.4272],[9.26712,9.09538],[6.19736,6.90204],[6.45277,7.22231],[9.10028,9.06795],[20.9045,20.8697],[12.2338,12.1844],[11.6448,11.4853],[18.0196,18.2957],[9.73547,9.73144],[11.4321,11.3749],[16.2977,16.4524],[15.2102,14.6437],[15.6706,15.634],[11.2061,11.0026],[12.9046,12.8398],[11.7294,11.7716],[8.25067,8.09758],[7.59613,7.70991],[10.342,10.2119],[13.7949,13.7771],[13.3855,13.3759],[8.66619,8.80507],[10.0634,10.6936],[12.01,12.1851],[8.46321,8.42312],[14.3813,14.389],[18.9576,18.7717],[15.6875,15.3567],[8.80714,8.45607],[12.7427,12.7256],[9.78665,10.3115],[20.6277,20.8828],[9.86649,9.91084],[8.63637,8.63501],[9.10502,8.94622],[10.726,10.8086],[14.3099,14.2359],[8.27101,8.35921],[10.0999,10.1614],[24.7429,23.1435],[15.5381,15.5745],[16.7483,16.5421],[12.1452,12.0433],[12.3499,12.4393],[19.479,19.8407],[14.2643,14.4381],[10.382,10.6649],[19.0206,19.3118],[14.062,14.0705],[11.4288,11.368],[7.54331,7.65844],[11.5603,11.5705],[10.5555,10.4446],[11.5002,12.0372],[9.82759,9.55528],[9.01173,8.57137],[13.2867,13.252],[7.45648,7.62076],[10.8951,10.8704],[10.1583,9.96013],[10.964,10.9671],[14.4107,14.557],[10.8067,11.0089],[14.6513,14.5605],[14.075,14.2134],[11.5729,11.4255],[10.7386,10.9889],[18.7708,18.9687],[14.5801,14.4881],[10.697,11.0589],[11.9809,12.2615],[13.755,13.7584],[12.2874,12.3107],[11.2626,11.2886],[9.61007,9.59235],[18.5002,17.9963],[11.1106,11.0273],[12.1814,12.0835]] color=red fillStyle=solid lineStyle=solid pointStyle=plus lineWidth=1]"
      ]
     },
     "execution_count": 19,
     "metadata": {},
     "output_type": "execute_result"
    }
   ],
   "source": [
    "graph = val.drawValidation()\n",
    "graph.setLegends([\"\"])\n",
    "graph.setTitle(\"Q2 = %.2f%%\" % (100*Q2))\n",
    "graph"
   ]
  },
  {
   "cell_type": "markdown",
   "metadata": {},
   "source": [
    "We observe that the metamodel predictions are close to the model outputs, since most red points are close to the diagonal. However, when we consider extreme deviations (i.e. less than 10 or larger than 20), then the quality is less obvious.\n",
    "\n",
    "Given that the kriging metamodel quality is sensitive to the design of experiments, it might be interesting to consider a Latin Hypercube Sampling (LHS) design to further improve the predictions quality."
   ]
  }
 ],
 "metadata": {
  "kernelspec": {
   "display_name": "Python 3",
   "language": "python",
   "name": "python3"
  },
  "language_info": {
   "codemirror_mode": {
    "name": "ipython",
    "version": 3
   },
   "file_extension": ".py",
   "mimetype": "text/x-python",
   "name": "python",
   "nbconvert_exporter": "python",
   "pygments_lexer": "ipython3",
   "version": "3.7.3"
  }
 },
 "nbformat": 4,
 "nbformat_minor": 4
}
