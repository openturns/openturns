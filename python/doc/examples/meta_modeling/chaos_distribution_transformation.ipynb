{
 "cells": [
  {
   "cell_type": "markdown",
   "metadata": {},
   "source": [
    "# Apply a transform or inverse transform on your polynomial chaos\n",
    "\n",
    "## Introduction\n",
    "\n",
    "In this document we present the transformation involved in the creation of a polynomial chaos. Indeed, the polynomial chaos expansion is never directly applied to the input random variable of a model $g$. Instead, the expansion is expressed based on the associated standard random variable. In this example,  we show how to transform a Log-Normal random variable into its standardized variable with the class `DistributionTransformation`."
   ]
  },
  {
   "cell_type": "markdown",
   "metadata": {},
   "source": [
    "## Probabilistic transform\n",
    "\n",
    "Let $T$ be the probabilistic transform which maps the physical random variable $X$ to the standardized random variable $\\xi$:\n",
    "\n",
    "$$\n",
    "\\xi = T(X).\n",
    "$$\n",
    "\n",
    "Let $F_X$ be the Cumulative Distribution Function (CDF) associated with the random variable $X$ and let $F_\\xi$ be the CDF associated with the random variable $\\xi$. Therefore, $F_\\xi$ is the CDF associated with the orthogonal polynomials involved in the polynomial chaos expansion. In this case, the transform is:\n",
    "\n",
    "$$\n",
    "\\xi = F_\\xi^{-1}\\left(F_X(X)\\right),\n",
    "$$\n",
    "\n",
    "for any $X\\in\\mathbb{R}$."
   ]
  },
  {
   "cell_type": "markdown",
   "metadata": {},
   "source": [
    "## Example\n",
    "\n",
    "We want to use the Hermite orthogonal polynomials to expand a Log-Normal random variable:\n",
    "* let $X$ follow the Log-Normal distribution with the following parameters: Lognormal($\\mu=3 \\times 10^4$, $\\sigma=9\\times 10^3$), \n",
    "* let $Z=\\xi$ follow the Normal distribution with zero mean and unit standard deviation (the letter $Z$ is often used for standard Normal random variables).\n",
    "\n",
    "Let $F_{LN}$ be the CDF of the Log-Normal distribution associated with $X$ and let $\\Phi$ be the CDF of the standard Normal distribution.\n",
    "\n",
    "Therefore, \n",
    "\n",
    "$$\n",
    "Z = T(X) = \\Phi^{-1}(F_{LN}(X)),\n",
    "$$\n",
    "\n",
    "for any $X\\in\\mathbb{R}$."
   ]
  },
  {
   "cell_type": "code",
   "execution_count": 1,
   "metadata": {},
   "outputs": [],
   "source": [
    "import openturns as ot"
   ]
  },
  {
   "cell_type": "markdown",
   "metadata": {},
   "source": [
    "In the first step, we define the LogNormal distribution. Its parameters - mean and standard deviation - have been selected so that there is no ambiguity with the standard Normal distribution. This parametrization can be used thanks to the `ParametrizedDistribution` class. "
   ]
  },
  {
   "cell_type": "code",
   "execution_count": 2,
   "metadata": {},
   "outputs": [],
   "source": [
    "Xparam = ot.LogNormalMuSigma(3.0e4, 9.0e3, 15.0e3) # in N\n",
    "X = ot.ParametrizedDistribution(Xparam)"
   ]
  },
  {
   "cell_type": "markdown",
   "metadata": {},
   "source": [
    "Then we generate a 5-point sample."
   ]
  },
  {
   "cell_type": "code",
   "execution_count": 3,
   "metadata": {},
   "outputs": [
    {
     "data": {
      "text/html": [
       "<TABLE><TR><TD></TD><TH>X0</TH></TR>\n",
       "<TR><TH>0</TH><TD>30458.26</TD></TR>\n",
       "<TR><TH>1</TH><TD>39870.8</TD></TR>\n",
       "<TR><TH>2</TH><TD>21982.11</TD></TR>\n",
       "<TR><TH>3</TH><TD>19623.3</TD></TR>\n",
       "<TR><TH>4</TH><TD>25342.17</TD></TR>\n",
       "</TABLE>"
      ],
      "text/plain": [
       "class=Sample name=Unnamed implementation=class=SampleImplementation name=Unnamed size=5 dimension=1 description=[X0] data=[[30458.3],[39870.8],[21982.1],[19623.3],[25342.2]]"
      ]
     },
     "execution_count": 3,
     "metadata": {},
     "output_type": "execute_result"
    }
   ],
   "source": [
    "sampleX = X.getSample(5)\n",
    "sampleX"
   ]
  },
  {
   "cell_type": "markdown",
   "metadata": {},
   "source": [
    "In the second step, we define the random variable $Z$ with standard Normal distribution."
   ]
  },
  {
   "cell_type": "code",
   "execution_count": 4,
   "metadata": {},
   "outputs": [],
   "source": [
    "Z = ot.Normal()"
   ]
  },
  {
   "cell_type": "markdown",
   "metadata": {},
   "source": [
    "We also generate a sample from it."
   ]
  },
  {
   "cell_type": "code",
   "execution_count": 5,
   "metadata": {},
   "outputs": [
    {
     "data": {
      "text/html": [
       "<TABLE><TR><TD></TD><TH>X0</TH></TR>\n",
       "<TR><TH>0</TH><TD>1.922878</TD></TR>\n",
       "<TR><TH>1</TH><TD>0.01761671</TD></TR>\n",
       "<TR><TH>2</TH><TD>-0.6608309</TD></TR>\n",
       "<TR><TH>3</TH><TD>-0.2742046</TD></TR>\n",
       "<TR><TH>4</TH><TD>0.8666522</TD></TR>\n",
       "</TABLE>"
      ],
      "text/plain": [
       "class=Sample name=Normal implementation=class=SampleImplementation name=Normal size=5 dimension=1 description=[X0] data=[[1.92288],[0.0176167],[-0.660831],[-0.274205],[0.866652]]"
      ]
     },
     "execution_count": 5,
     "metadata": {},
     "output_type": "execute_result"
    }
   ],
   "source": [
    "sampleZ = Z.getSample(5)\n",
    "sampleZ"
   ]
  },
  {
   "cell_type": "markdown",
   "metadata": {},
   "source": [
    "In the third step, we create the transform T which maps X to Z."
   ]
  },
  {
   "cell_type": "code",
   "execution_count": 6,
   "metadata": {},
   "outputs": [],
   "source": [
    "T = ot.DistributionTransformation(X,Z)"
   ]
  },
  {
   "cell_type": "markdown",
   "metadata": {},
   "source": [
    "We apply this transform on the sample generated from `X`."
   ]
  },
  {
   "cell_type": "code",
   "execution_count": 7,
   "metadata": {},
   "outputs": [
    {
     "data": {
      "text/html": [
       "<TABLE><TR><TD></TD><TH>y0</TH></TR>\n",
       "<TR><TH>0</TH><TD>0.3315264</TD></TR>\n",
       "<TR><TH>1</TH><TD>1.189127</TD></TR>\n",
       "<TR><TH>2</TH><TD>-1.101791</TD></TR>\n",
       "<TR><TH>3</TH><TD>-1.84522</TD></TR>\n",
       "<TR><TH>4</TH><TD>-0.3932781</TD></TR>\n",
       "</TABLE>"
      ],
      "text/plain": [
       "class=Sample name=Unnamed implementation=class=SampleImplementation name=Unnamed size=5 dimension=1 description=[y0] data=[[0.331526],[1.18913],[-1.10179],[-1.84522],[-0.393278]]"
      ]
     },
     "execution_count": 7,
     "metadata": {},
     "output_type": "execute_result"
    }
   ],
   "source": [
    "T(sampleX)"
   ]
  },
  {
   "cell_type": "markdown",
   "metadata": {},
   "source": [
    "The inverse transform maps $Z$ into $X$."
   ]
  },
  {
   "cell_type": "code",
   "execution_count": 8,
   "metadata": {},
   "outputs": [],
   "source": [
    "Tinverse = T.inverse()"
   ]
  },
  {
   "cell_type": "code",
   "execution_count": 9,
   "metadata": {},
   "outputs": [
    {
     "data": {
      "text/html": [
       "<TABLE><TR><TD></TD><TH>y0</TH></TR>\n",
       "<TR><TH>0</TH><TD>52358.82</TD></TR>\n",
       "<TR><TH>1</TH><TD>27988.66</TD></TR>\n",
       "<TR><TH>2</TH><TD>23916.19</TD></TR>\n",
       "<TR><TH>3</TH><TD>26048.09</TD></TR>\n",
       "<TR><TH>4</TH><TD>35798.44</TD></TR>\n",
       "</TABLE>"
      ],
      "text/plain": [
       "class=Sample name=Unnamed implementation=class=SampleImplementation name=Unnamed size=5 dimension=1 description=[y0] data=[[52358.8],[27988.7],[23916.2],[26048.1],[35798.4]]"
      ]
     },
     "execution_count": 9,
     "metadata": {},
     "output_type": "execute_result"
    }
   ],
   "source": [
    "Tinverse(sampleZ)"
   ]
  },
  {
   "cell_type": "markdown",
   "metadata": {},
   "source": [
    "## Conclusion\n",
    "\n",
    "The `DistributionTransformation` class is rarely used directly because the polynomial chaos classes perform the transformation automatically. However, understanding how this transform is done clarifies why the coefficients of the chaos expansion cannot be related to the input random variable $X$: the expansion is based on the standard variables $\\xi$. Hence, the absolute values of the corresponding coefficients have no straightforward interpretation, even though squaring them yields the part of the global variance associated with each coefficient. "
   ]
  }
 ],
 "metadata": {
  "kernelspec": {
   "display_name": "Python 3",
   "language": "python",
   "name": "python3"
  },
  "language_info": {
   "codemirror_mode": {
    "name": "ipython",
    "version": 3
   },
   "file_extension": ".py",
   "mimetype": "text/x-python",
   "name": "python",
   "nbconvert_exporter": "python",
   "pygments_lexer": "ipython3",
   "version": "3.7.4"
  }
 },
 "nbformat": 4,
 "nbformat_minor": 2
}
