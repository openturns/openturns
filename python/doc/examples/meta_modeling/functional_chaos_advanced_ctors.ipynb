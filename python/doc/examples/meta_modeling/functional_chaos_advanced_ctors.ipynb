{
 "cells": [
  {
   "cell_type": "markdown",
   "metadata": {},
   "source": [
    "# Advanced polynomial chaos construction"
   ]
  },
  {
   "cell_type": "markdown",
   "metadata": {},
   "source": [
    "In this example we are going to expose advanced elements in the construction of a polynomial chaos algorithm:\n",
    "\n",
    "- construction of the multivariate orthonormal basis,\n",
    "- truncature strategy of the multivariate orthonormal basis,\n",
    "- evaluation strategy of the approximation coefficients."
   ]
  },
  {
   "cell_type": "markdown",
   "metadata": {},
   "source": [
    "In this example, we consider the following function $\\mathbb{R}^4 \\rightarrow \\mathbb{R}$:\n",
    "\n",
    "$$\n",
    "g(\\mathbf{x}) = 1+x_1 x_2 + 2 x_3^2+x_4^4\n",
    "$$\n",
    "\n",
    "for any $x_1,x_2,x_3,x_4\\in\\mathbb{R}$.\n",
    "\n",
    "We assume that the inputs have normal, uniform, gamma and beta distributions :\n",
    "\n",
    "$$\n",
    "X_1 \\sim \\mathcal{N}(0,1), \\qquad \n",
    "X_2 \\sim \\mathcal{U}(-1,1), \\qquad \n",
    "X_3 \\sim \\mathcal{G}(2.75,1), \\qquad \n",
    "X_4 \\sim \\mathcal{B}(2.5,1,-1,2),\n",
    "$$\n",
    "\n",
    "and $X_1$, $X_2$, $X_3$ and $X_4$ are independent."
   ]
  },
  {
   "cell_type": "markdown",
   "metadata": {},
   "source": [
    "## Define the model and the input distribution"
   ]
  },
  {
   "cell_type": "code",
   "execution_count": 1,
   "metadata": {},
   "outputs": [],
   "source": [
    "from __future__ import print_function\n",
    "import openturns as ot"
   ]
  },
  {
   "cell_type": "code",
   "execution_count": 2,
   "metadata": {},
   "outputs": [],
   "source": [
    "model = ot.SymbolicFunction(['x1', 'x2', 'x3', 'x4'], ['1+x1*x2 + 2*x3^2+x4^4'])"
   ]
  },
  {
   "cell_type": "markdown",
   "metadata": {},
   "source": [
    "Create a distribution of dimension 4."
   ]
  },
  {
   "cell_type": "code",
   "execution_count": 3,
   "metadata": {},
   "outputs": [],
   "source": [
    "distribution = ot.ComposedDistribution([ot.Normal(), ot.Uniform(), ot.Gamma(2.75, 1.0), ot.Beta(2.5, 1.0, -1.0, 2.0)])"
   ]
  },
  {
   "cell_type": "code",
   "execution_count": 4,
   "metadata": {},
   "outputs": [
    {
     "data": {
      "text/plain": [
       "4"
      ]
     },
     "execution_count": 4,
     "metadata": {},
     "output_type": "execute_result"
    }
   ],
   "source": [
    "inputDimension = distribution.getDimension()\n",
    "inputDimension"
   ]
  },
  {
   "cell_type": "markdown",
   "metadata": {},
   "source": [
    "## STEP 1: Construction of the multivariate orthonormal basis"
   ]
  },
  {
   "cell_type": "markdown",
   "metadata": {},
   "source": [
    "Create the univariate polynomial family collection which regroups the polynomial families for each direction. "
   ]
  },
  {
   "cell_type": "code",
   "execution_count": 5,
   "metadata": {},
   "outputs": [],
   "source": [
    "polyColl = ot.PolynomialFamilyCollection(inputDimension)"
   ]
  },
  {
   "cell_type": "markdown",
   "metadata": {},
   "source": [
    "We could use the Krawtchouk and Charlier families (for discrete distributions)."
   ]
  },
  {
   "cell_type": "code",
   "execution_count": 6,
   "metadata": {},
   "outputs": [],
   "source": [
    "polyColl[0] = ot.KrawtchoukFactory()\n",
    "polyColl[1] = ot.CharlierFactory()"
   ]
  },
  {
   "cell_type": "markdown",
   "metadata": {},
   "source": [
    "We could also use the automatic selection of the polynomial which corresponds to the distribution: this is done with the `StandardDistributionPolynomialFactory` class."
   ]
  },
  {
   "cell_type": "code",
   "execution_count": 7,
   "metadata": {},
   "outputs": [],
   "source": [
    "for i in range(inputDimension):\n",
    "    marginal = distribution.getMarginal(i)\n",
    "    polyColl[i] = ot.StandardDistributionPolynomialFactory(marginal)"
   ]
  },
  {
   "cell_type": "markdown",
   "metadata": {},
   "source": [
    "In our specific case, we use specific polynomial factories. "
   ]
  },
  {
   "cell_type": "code",
   "execution_count": 8,
   "metadata": {},
   "outputs": [],
   "source": [
    "polyColl[0] = ot.HermiteFactory()\n",
    "polyColl[1] = ot.LegendreFactory()\n",
    "polyColl[2] = ot.LaguerreFactory(2.75)\n",
    "# Parameter for the Jacobi factory : 'Probabilty' encoded with 1\n",
    "polyColl[3] = ot.JacobiFactory(2.5, 3.5, 1)"
   ]
  },
  {
   "cell_type": "markdown",
   "metadata": {},
   "source": [
    "Create the enumeration function."
   ]
  },
  {
   "cell_type": "markdown",
   "metadata": {},
   "source": [
    "The first possibility is to use the `LinearEnumerateFunction`."
   ]
  },
  {
   "cell_type": "code",
   "execution_count": 9,
   "metadata": {},
   "outputs": [],
   "source": [
    "enumerateFunction = ot.LinearEnumerateFunction(inputDimension)"
   ]
  },
  {
   "cell_type": "markdown",
   "metadata": {},
   "source": [
    "Another possibility is to use the `HyperbolicAnisotropicEnumerateFunction`, which gives less weight to interactions. "
   ]
  },
  {
   "cell_type": "code",
   "execution_count": 10,
   "metadata": {},
   "outputs": [],
   "source": [
    "q = 0.4\n",
    "enumerateFunction_1 = ot.HyperbolicAnisotropicEnumerateFunction(inputDimension, q)"
   ]
  },
  {
   "cell_type": "markdown",
   "metadata": {},
   "source": [
    "Create the multivariate orthonormal basis which is the the cartesian product of the univariate basis. "
   ]
  },
  {
   "cell_type": "code",
   "execution_count": 11,
   "metadata": {},
   "outputs": [],
   "source": [
    "multivariateBasis = ot.OrthogonalProductPolynomialFactory(polyColl, enumerateFunction)"
   ]
  },
  {
   "cell_type": "markdown",
   "metadata": {},
   "source": [
    "Ask how many polynomials have total degrees equal to k=5. "
   ]
  },
  {
   "cell_type": "code",
   "execution_count": 12,
   "metadata": {},
   "outputs": [
    {
     "data": {
      "text/plain": [
       "56"
      ]
     },
     "execution_count": 12,
     "metadata": {},
     "output_type": "execute_result"
    }
   ],
   "source": [
    "k = 5\n",
    "enumerateFunction.getStrataCardinal(k)"
   ]
  },
  {
   "cell_type": "markdown",
   "metadata": {},
   "source": [
    "Ask how many polynomials have degrees lower or equal to k=5."
   ]
  },
  {
   "cell_type": "code",
   "execution_count": 13,
   "metadata": {},
   "outputs": [
    {
     "data": {
      "text/plain": [
       "126"
      ]
     },
     "execution_count": 13,
     "metadata": {},
     "output_type": "execute_result"
    }
   ],
   "source": [
    "enumerateFunction.getStrataCumulatedCardinal(k)"
   ]
  },
  {
   "cell_type": "markdown",
   "metadata": {},
   "source": [
    "Give the k-th term of the multivariate basis. To calculate its degree, add the integers. "
   ]
  },
  {
   "cell_type": "code",
   "execution_count": 14,
   "metadata": {},
   "outputs": [
    {
     "data": {
      "text/html": [
       "<p>[2,0,0,0]</p>"
      ],
      "text/plain": [
       "[2,0,0,0]"
      ]
     },
     "execution_count": 14,
     "metadata": {},
     "output_type": "execute_result"
    }
   ],
   "source": [
    "k = 5\n",
    "enumerateFunction(k)"
   ]
  },
  {
   "cell_type": "markdown",
   "metadata": {},
   "source": [
    "Build a term of the basis as a NumericalMathFunction. Generally, we do not need to construct manually any term, all terms are constructed automatically by a strategy of construction of the basis."
   ]
  },
  {
   "cell_type": "code",
   "execution_count": 15,
   "metadata": {},
   "outputs": [
    {
     "data": {
      "text/html": [
       "<p>-0.707107 + 0.707107 * x0^2</p>"
      ],
      "text/plain": [
       "class=Function name=Unnamed implementation=class=FunctionImplementation name=Unnamed description=[x0,x1,x2,x3,y0] evaluationImplementation=class=ProductPolynomialEvaluation, polynomials=[class=UniVariatePolynomial coefficients=class=Point name=Unnamed dimension=3 values=[-0.707107,0,0.707107],class=UniVariatePolynomial coefficients=class=Point name=Unnamed dimension=1 values=[1],class=UniVariatePolynomial coefficients=class=Point name=Unnamed dimension=1 values=[1],class=UniVariatePolynomial coefficients=class=Point name=Unnamed dimension=1 values=[1]] gradientImplementation=class=ProductPolynomialGradient hessianImplementation=class=ProductPolynomialHessian"
      ]
     },
     "execution_count": 15,
     "metadata": {},
     "output_type": "execute_result"
    }
   ],
   "source": [
    "i = 5\n",
    "Psi_i = multivariateBasis.build(i)\n",
    "Psi_i"
   ]
  },
  {
   "cell_type": "markdown",
   "metadata": {},
   "source": [
    "Get the measure mu associated to the multivariate basis."
   ]
  },
  {
   "cell_type": "code",
   "execution_count": 16,
   "metadata": {},
   "outputs": [
    {
     "data": {
      "text/html": [
       "<p>ComposedDistribution(Normal(mu = 0, sigma = 1), Uniform(a = -1, b = 1), Gamma(k = 3.75, lambda = 1, gamma = 0), Beta(alpha = 2.5, beta = 1, a = -1, b = 1), IndependentCopula(dimension = 4))</p>"
      ],
      "text/plain": [
       "class=ComposedDistribution name=ComposedDistribution dimension=4 copula=class=IndependentCopula name=IndependentCopula dimension=4 marginal[0]=class=Normal name=Normal dimension=1 mean=class=Point name=Unnamed dimension=1 values=[0] sigma=class=Point name=Unnamed dimension=1 values=[1] correlationMatrix=class=CorrelationMatrix dimension=1 implementation=class=MatrixImplementation name=Unnamed rows=1 columns=1 values=[1] marginal[1]=class=Uniform name=Uniform dimension=1 a=-1 b=1 marginal[2]=class=Gamma name=Gamma dimension=1 k=3.75 lambda=1 gamma=0 marginal[3]=class=Beta name=Beta dimension=1 alpha=2.5 beta=1 a=-1 b=1"
      ]
     },
     "execution_count": 16,
     "metadata": {},
     "output_type": "execute_result"
    }
   ],
   "source": [
    "distributionMu = multivariateBasis.getMeasure()\n",
    "distributionMu"
   ]
  },
  {
   "cell_type": "markdown",
   "metadata": {},
   "source": [
    "## STEP 2: Truncature strategy of the multivariate orthonormal basis"
   ]
  },
  {
   "cell_type": "markdown",
   "metadata": {},
   "source": [
    "FixedStrategy : all the polynomials af degree lower or equal to 2 which corresponds to the 15 first ones. "
   ]
  },
  {
   "cell_type": "code",
   "execution_count": 17,
   "metadata": {},
   "outputs": [],
   "source": [
    "p = 15\n",
    "truncatureBasisStrategy = ot.FixedStrategy(multivariateBasis, p)"
   ]
  },
  {
   "cell_type": "markdown",
   "metadata": {},
   "source": [
    "SequentialStrategy : among the maximumCardinalBasis = 100 first polynomials of the multivariate basis those verfying the convergence criterion. "
   ]
  },
  {
   "cell_type": "code",
   "execution_count": 18,
   "metadata": {},
   "outputs": [],
   "source": [
    "maximumCardinalBasis = 100\n",
    "truncatureBasisStrategy_1 = ot.SequentialStrategy(\n",
    "    multivariateBasis, maximumCardinalBasis)"
   ]
  },
  {
   "cell_type": "markdown",
   "metadata": {},
   "source": [
    "CleaningStrategy : among the maximumConsideredTerms = 500 first polynomials, those which have the mostSignificant = 50 most significant contributions with significance criterion significanceFactor equal to $10^{-4}$\n",
    "The `True` boolean indicates if we are interested in the online monitoring of the current basis update (removed or added coefficients). "
   ]
  },
  {
   "cell_type": "code",
   "execution_count": 19,
   "metadata": {},
   "outputs": [],
   "source": [
    "maximumConsideredTerms = 500\n",
    "mostSignificant = 50\n",
    "significanceFactor = 1.0e-4\n",
    "truncatureBasisStrategy_2 = ot.CleaningStrategy(\n",
    "    multivariateBasis, maximumConsideredTerms, mostSignificant, significanceFactor, True)"
   ]
  },
  {
   "cell_type": "markdown",
   "metadata": {},
   "source": [
    "## STEP 3: Evaluation strategy of the approximation coefficients"
   ]
  },
  {
   "cell_type": "markdown",
   "metadata": {},
   "source": [
    "The technique illustrated is the Least Squares technique where the points come from an design of experiments. Here : the Monte Carlo sampling technique."
   ]
  },
  {
   "cell_type": "code",
   "execution_count": 20,
   "metadata": {},
   "outputs": [],
   "source": [
    "sampleSize = 100\n",
    "evaluationCoeffStrategy = ot.LeastSquaresStrategy(\n",
    "    ot.MonteCarloExperiment(sampleSize))"
   ]
  },
  {
   "cell_type": "markdown",
   "metadata": {},
   "source": [
    "You can specify the approximation algorithm. This is the algorithm that generates a sequence of basis using Least Angle Regression. "
   ]
  },
  {
   "cell_type": "code",
   "execution_count": 21,
   "metadata": {},
   "outputs": [],
   "source": [
    "basisSequenceFactory = ot.LARS()"
   ]
  },
  {
   "cell_type": "markdown",
   "metadata": {},
   "source": [
    "This algorithm estimates the empirical error on each sub-basis using Leave One Out strategy. "
   ]
  },
  {
   "cell_type": "code",
   "execution_count": 22,
   "metadata": {},
   "outputs": [],
   "source": [
    "fittingAlgorithm = ot.CorrectedLeaveOneOut()\n",
    "# Finally the metamodel selection algorithm embbeded in LeastSquaresStrategy\n",
    "approximationAlgorithm = ot.LeastSquaresMetaModelSelectionFactory(\n",
    "    basisSequenceFactory, fittingAlgorithm)\n",
    "evaluationCoeffStrategy_2 = ot.LeastSquaresStrategy(\n",
    "    ot.MonteCarloExperiment(sampleSize), approximationAlgorithm)"
   ]
  },
  {
   "cell_type": "markdown",
   "metadata": {},
   "source": [
    "Try integration."
   ]
  },
  {
   "cell_type": "code",
   "execution_count": 23,
   "metadata": {},
   "outputs": [],
   "source": [
    "marginalDegrees = [2] * inputDimension\n",
    "evaluationCoeffStrategy_3 = ot.IntegrationStrategy(\n",
    "    ot.GaussProductExperiment(distributionMu, marginalDegrees))"
   ]
  },
  {
   "cell_type": "markdown",
   "metadata": {},
   "source": [
    "## STEP 4: Creation of the Functional Chaos Algorithm\n",
    "\n",
    "The `FunctionalChaosAlgorithm` class combines \n",
    "\n",
    "* the model : `model`\n",
    "* the distribution of the input random vector : `distribution`\n",
    "* the truncature strategy of the multivariate basis\n",
    "* and the evaluation strategy of the coefficients"
   ]
  },
  {
   "cell_type": "code",
   "execution_count": 24,
   "metadata": {},
   "outputs": [],
   "source": [
    "polynomialChaosAlgorithm = ot.FunctionalChaosAlgorithm(\n",
    "    model, distribution, truncatureBasisStrategy, evaluationCoeffStrategy)"
   ]
  }
 ],
 "metadata": {
  "kernelspec": {
   "display_name": "Python 3",
   "language": "python",
   "name": "python3"
  },
  "language_info": {
   "codemirror_mode": {
    "name": "ipython",
    "version": 3
   },
   "file_extension": ".py",
   "mimetype": "text/x-python",
   "name": "python",
   "nbconvert_exporter": "python",
   "pygments_lexer": "ipython3",
   "version": "3.7.3"
  }
 },
 "nbformat": 4,
 "nbformat_minor": 1
}
