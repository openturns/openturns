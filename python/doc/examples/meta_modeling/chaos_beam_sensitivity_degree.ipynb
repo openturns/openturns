{
 "cells": [
  {
   "cell_type": "markdown",
   "metadata": {},
   "source": [
    "# Polynomial chaos is sensitive to the degree\n",
    "\n",
    "## Introduction\n",
    "\n",
    "In this example, we observe the sensitivity of the polynomial chaos expansion to the total degree of the polynomial. More precisely, we observe how this impacts the $Q^2$ predictivity coefficient.\n",
    "\n",
    "We consider the example of the cantilever beam. We create a sparse polynomial chaos with a linear enumeration rule and the family of orthogonal polynomials corresponding to each input variable. "
   ]
  },
  {
   "cell_type": "code",
   "execution_count": 1,
   "metadata": {},
   "outputs": [],
   "source": [
    "import openturns as ot\n",
    "import numpy as np\n",
    "import openturns.viewer\n",
    "import pylab as pl"
   ]
  },
  {
   "cell_type": "markdown",
   "metadata": {},
   "source": [
    "The following parameter value leads to fast simulations."
   ]
  },
  {
   "cell_type": "code",
   "execution_count": 2,
   "metadata": {},
   "outputs": [],
   "source": [
    "maxDegree = 4"
   ]
  },
  {
   "cell_type": "markdown",
   "metadata": {},
   "source": [
    "To make real tests, we suggest to use the following parameter value."
   ]
  },
  {
   "cell_type": "code",
   "execution_count": 3,
   "metadata": {},
   "outputs": [],
   "source": [
    "# maxDegree = 7 "
   ]
  },
  {
   "cell_type": "markdown",
   "metadata": {},
   "source": [
    "We define the parameters of the cantilever beam problem."
   ]
  },
  {
   "cell_type": "code",
   "execution_count": 4,
   "metadata": {},
   "outputs": [],
   "source": [
    "dist_E = ot.Beta(0.9, 2.2, 2.8e7, 4.8e7)\n",
    "dist_E.setDescription([\"E\"])\n",
    "F_para = ot.LogNormalMuSigma(3.0e4, 9.0e3, 15.0e3)  # in N\n",
    "dist_F = ot.ParametrizedDistribution(F_para)\n",
    "dist_F.setDescription([\"F\"])\n",
    "dist_L = ot.Uniform(250.0, 260.0)  # in cm\n",
    "dist_L.setDescription([\"L\"])\n",
    "dist_I = ot.Beta(2.5, 1.5, 310.0, 450.0)  # in cm^4\n",
    "dist_I.setDescription([\"I\"])\n",
    "\n",
    "myDistribution = ot.ComposedDistribution([dist_E, dist_F, dist_L, dist_I])\n",
    "\n",
    "dim_input = 4  # dimension of the input\n",
    "dim_output = 1  # dimension of the output\n",
    "\n",
    "\n",
    "def function_beam(X):\n",
    "    E, F, L, I = X\n",
    "    Y = F * L ** 3 / (3 * E * I)\n",
    "    return [Y]\n",
    "\n",
    "g = ot.PythonFunction(dim_input, dim_output, function_beam)\n",
    "g.setInputDescription(myDistribution.getDescription())"
   ]
  },
  {
   "cell_type": "markdown",
   "metadata": {},
   "source": [
    "The following function creates a sparse polynomial chaos with a given total degree."
   ]
  },
  {
   "cell_type": "code",
   "execution_count": 5,
   "metadata": {},
   "outputs": [],
   "source": [
    "def ComputeSparseLeastSquaresChaos(\n",
    "    inputTrain, outputTrain, multivariateBasis, totalDegree, myDistribution\n",
    "):\n",
    "    \"\"\"\n",
    "    Create a sparse polynomial chaos based on least squares.\n",
    "    \n",
    "    * Uses the enumerate rule in multivariateBasis. \n",
    "    * Uses the LeastSquaresStrategy to compute the coefficients based on \n",
    "      least squares. \n",
    "    * Uses LeastSquaresMetaModelSelectionFactory to use the LARS selection method. \n",
    "    * Uses FixedStrategy in order to keep all the coefficients that the \n",
    "      LARS method selected.\n",
    "\n",
    "    Parameters\n",
    "    ----------\n",
    "    inputTrain : ot.Sample\n",
    "        The input design of experiments.\n",
    "    outputTrain : ot.Sample\n",
    "        The output design of experiments.\n",
    "    multivariateBasis : ot.Basis\n",
    "        The multivariate chaos basis.\n",
    "    totalDegree : int\n",
    "        The total degree of the chaos polynomial.\n",
    "    myDistribution : ot.Distribution.\n",
    "        The distribution of the input variable.\n",
    "    Returns\n",
    "    -------\n",
    "    result : ot.PolynomialChaosResult\n",
    "        The estimated polynomial chaos.\n",
    "    \"\"\"\n",
    "    selectionAlgorithm = ot.LeastSquaresMetaModelSelectionFactory()\n",
    "    projectionStrategy = ot.LeastSquaresStrategy(\n",
    "        inputTrain, outputTrain, selectionAlgorithm\n",
    "    )\n",
    "    enumfunc = multivariateBasis.getEnumerateFunction()\n",
    "    P = enumfunc.getStrataCumulatedCardinal(totalDegree)\n",
    "    adaptiveStrategy = ot.FixedStrategy(multivariateBasis, P)\n",
    "    chaosalgo = ot.FunctionalChaosAlgorithm(\n",
    "        inputTrain, outputTrain, myDistribution, adaptiveStrategy, projectionStrategy\n",
    "    )\n",
    "    chaosalgo.run()\n",
    "    result = chaosalgo.getResult()\n",
    "    return result"
   ]
  },
  {
   "cell_type": "markdown",
   "metadata": {},
   "source": [
    "The following function computes  the sparsity rate of the polynomial chaos. To do this, we compute number of coefficients in the decomposition assuming a linear enumerate rule and a fixed truncation. The sparsity rate is the complement of the ratio between the number of coefficients selected from LARS and the total number of coefficients in the full polynomial basis."
   ]
  },
  {
   "cell_type": "code",
   "execution_count": 6,
   "metadata": {},
   "outputs": [],
   "source": [
    "def computeSparsityRate(multivariateBasis, totalDegree, chaosResult):\n",
    "    \"\"\"Compute the sparsity rate, assuming a FixedStrategy.\"\"\"\n",
    "    # Get P, the maximum possible number of coefficients\n",
    "    enumfunc = multivariateBasis.getEnumerateFunction()\n",
    "    P = enumfunc.getStrataCumulatedCardinal(totalDegree)\n",
    "    # Get number of coefficients in the selection\n",
    "    indices = chaosResult.getIndices()\n",
    "    nbcoeffs = indices.getSize()\n",
    "    # Compute rate\n",
    "    sparsityRate = 1.0 - nbcoeffs / P\n",
    "    return sparsityRate"
   ]
  },
  {
   "cell_type": "markdown",
   "metadata": {},
   "source": [
    "The following functions compute and plots the Q2 predictivity coefficients within the validation plot."
   ]
  },
  {
   "cell_type": "code",
   "execution_count": 7,
   "metadata": {},
   "outputs": [],
   "source": [
    "def computeQ2Chaos(chaosResult, inputTest, outputTest):\n",
    "    \"\"\"Compute the Q2 of a chaos.\"\"\"\n",
    "    metamodel = chaosResult.getMetaModel()\n",
    "    val = ot.MetaModelValidation(inputTest, outputTest, metamodel)\n",
    "    Q2 = val.computePredictivityFactor()\n",
    "    Q2 = max(Q2, 0.0)  # We are not lucky every day.\n",
    "    return Q2"
   ]
  },
  {
   "cell_type": "code",
   "execution_count": 8,
   "metadata": {},
   "outputs": [],
   "source": [
    "def printChaosStats(multivariateBasis, chaosResult, inputTest, outputTest, totalDegree):\n",
    "    \"\"\"Print statistics of a chaos.\"\"\"\n",
    "    sparsityRate = computeSparsityRate(multivariateBasis, totalDegree, chaosResult)\n",
    "    Q2 = computeQ2Chaos(chaosResult, inputTest, outputTest)\n",
    "    metamodel = chaosResult.getMetaModel()\n",
    "    val = ot.MetaModelValidation(inputTest, outputTest, metamodel)\n",
    "    graph = val.drawValidation()\n",
    "    legend1 = \"D=%d, Q2=%.2f%%\" % (totalDegree, 100 * Q2)\n",
    "    graph.setLegends([\"\", legend1])\n",
    "    graph.setLegendPosition(\"topleft\")\n",
    "    print(\n",
    "        \"Degree=%d, Q2=%.2f%%, Sparsity=%.2f%%\"\n",
    "        % (totalDegree, 100 * Q2, 100 * sparsityRate)\n",
    "    )\n",
    "    return graph"
   ]
  },
  {
   "cell_type": "code",
   "execution_count": 9,
   "metadata": {},
   "outputs": [],
   "source": [
    "multivariateBasis = ot.OrthogonalProductPolynomialFactory(\n",
    "    [dist_E, dist_F, dist_L, dist_I]\n",
    ")"
   ]
  },
  {
   "cell_type": "code",
   "execution_count": 10,
   "metadata": {},
   "outputs": [],
   "source": [
    "N = 20  # size of the train design"
   ]
  },
  {
   "cell_type": "code",
   "execution_count": 11,
   "metadata": {},
   "outputs": [],
   "source": [
    "n_valid = 1000  # size of the test design"
   ]
  },
  {
   "cell_type": "markdown",
   "metadata": {},
   "source": [
    "The seed is selected to get *interesting* results. "
   ]
  },
  {
   "cell_type": "code",
   "execution_count": 12,
   "metadata": {},
   "outputs": [],
   "source": [
    "magicSeed = 43  # 127 is funny too\n",
    "ot.RandomGenerator.SetSeed(magicSeed) "
   ]
  },
  {
   "cell_type": "code",
   "execution_count": 13,
   "metadata": {},
   "outputs": [
    {
     "name": "stdout",
     "output_type": "stream",
     "text": [
      "Degree=1, Q2=96.41%, Sparsity=20.00%\n",
      "Degree=2, Q2=96.23%, Sparsity=46.67%\n",
      "Degree=3, Q2=93.07%, Sparsity=71.43%\n",
      "Degree=4, Q2=75.96%, Sparsity=91.43%\n"
     ]
    },
    {
     "data": {
      "image/png": "[encoded data removed]",
      "text/plain": [
       "<Figure size 1800x288 with 4 Axes>"
      ]
     },
     "metadata": {
      "needs_background": "light"
     },
     "output_type": "display_data"
    }
   ],
   "source": [
    "inputTrain = myDistribution.getSample(N)\n",
    "outputTrain = g(inputTrain)\n",
    "inputTest = myDistribution.getSample(n_valid)\n",
    "outputTest = g(inputTest)\n",
    "fig = pl.figure(figsize=(25, 4))\n",
    "for totalDegree in range(1, maxDegree + 1):\n",
    "    chaosResult = ComputeSparseLeastSquaresChaos(\n",
    "        inputTrain, outputTrain, multivariateBasis, totalDegree, myDistribution\n",
    "    )\n",
    "    graph = printChaosStats(\n",
    "        multivariateBasis, chaosResult, inputTest, outputTest, totalDegree\n",
    "    )\n",
    "    ax = fig.add_subplot(1, maxDegree, totalDegree)\n",
    "    _ = ot.viewer.View(graph, figure=fig, axes=[ax])\n",
    "    pl.suptitle(\"Metamodel validation\")"
   ]
  },
  {
   "cell_type": "markdown",
   "metadata": {},
   "source": [
    "We see that, when the degree of the polynomial increases, then the Q2 coefficient decreases. We also see that the sparsity rate increases which shows that, while the basis size grows rapidly with the degree, the algorithm selects a smaller fraction of this basis. This shows that the algorithm performs its taks of selecting relevant coefficients. However, this selection does not seem to be sufficient to mitigate the large number of coefficients. \n",
    "\n",
    "Of cours, this example has been selected to make a gradually decreasing predictivity. We are going to see that this situation is actually easy to reproduce. "
   ]
  },
  {
   "cell_type": "markdown",
   "metadata": {},
   "source": [
    "## Distribution of the predictivity coefficient"
   ]
  },
  {
   "cell_type": "markdown",
   "metadata": {},
   "source": [
    "Let us repeat the following experiment to see the variability of the Q2 coefficient."
   ]
  },
  {
   "cell_type": "code",
   "execution_count": 14,
   "metadata": {},
   "outputs": [],
   "source": [
    "def computeSampleQ2(N, n_valid, numberAttempts, maxDegree):\n",
    "    \"\"\"For a given sample size N, for degree from 1 to maxDegree, \n",
    "    repeat the following experiment numberAttempts times:\n",
    "    create a sparse least squares chaos and compute the Q2 \n",
    "    using n_valid points.\n",
    "    \"\"\"\n",
    "    Q2sample = ot.Sample(numberAttempts, maxDegree)\n",
    "    for totalDegree in range(1, maxDegree + 1):\n",
    "        print(\"Degree = %d\" % (totalDegree))\n",
    "        for i in range(numberAttempts):\n",
    "            inputTrain = myDistribution.getSample(N)\n",
    "            outputTrain = g(inputTrain)\n",
    "            inputTest = myDistribution.getSample(n_valid)\n",
    "            outputTest = g(inputTest)\n",
    "            chaosResult = ComputeSparseLeastSquaresChaos(\n",
    "                inputTrain, outputTrain, multivariateBasis, totalDegree, myDistribution\n",
    "            )\n",
    "            Q2sample[i, totalDegree - 1] = computeQ2Chaos(\n",
    "                chaosResult, inputTest, outputTest\n",
    "            )\n",
    "    return Q2sample"
   ]
  },
  {
   "cell_type": "markdown",
   "metadata": {},
   "source": [
    "The following function uses a boxplot to see the distribution of the Q2 coefficients."
   ]
  },
  {
   "cell_type": "code",
   "execution_count": 15,
   "metadata": {},
   "outputs": [],
   "source": [
    "def plotQ2Boxplots(Q2sample, N):\n",
    "    data = np.array(Q2sample)\n",
    "    fig = pl.figure()\n",
    "    pl.boxplot(data)\n",
    "    pl.title(\"N=%d\" % (N))\n",
    "    pl.xlabel(\"Degree\")\n",
    "    pl.ylabel(\"Q2 (%)\")\n",
    "    return"
   ]
  },
  {
   "cell_type": "markdown",
   "metadata": {},
   "source": [
    "Each experiment is repeated a number of times. "
   ]
  },
  {
   "cell_type": "code",
   "execution_count": 16,
   "metadata": {},
   "outputs": [],
   "source": [
    "numberAttempts = 50  # Number of repetitions"
   ]
  },
  {
   "cell_type": "code",
   "execution_count": 17,
   "metadata": {},
   "outputs": [
    {
     "name": "stdout",
     "output_type": "stream",
     "text": [
      "Degree = 1\n",
      "Degree = 2\n",
      "Degree = 3\n",
      "Degree = 4\n"
     ]
    },
    {
     "data": {
      "image/png": "[encoded data removed]",
      "text/plain": [
       "<Figure size 432x288 with 1 Axes>"
      ]
     },
     "metadata": {
      "needs_background": "light"
     },
     "output_type": "display_data"
    }
   ],
   "source": [
    "N = 20  # size of the train design\n",
    "Q2sample = computeSampleQ2(N, n_valid, numberAttempts, maxDegree)\n",
    "plotQ2Boxplots(Q2sample, N)"
   ]
  },
  {
   "cell_type": "markdown",
   "metadata": {},
   "source": [
    "We see that when the size of the design of experiments is as small as 20, it is more appropriate to use a very low degree polynomial equal to 1. Considering the polynomial degree 4 is risky. "
   ]
  },
  {
   "cell_type": "code",
   "execution_count": 18,
   "metadata": {},
   "outputs": [
    {
     "name": "stdout",
     "output_type": "stream",
     "text": [
      "Degree = 1\n",
      "Degree = 2\n",
      "Degree = 3\n",
      "Degree = 4\n"
     ]
    },
    {
     "data": {
      "image/png": "[encoded data removed]",
      "text/plain": [
       "<Figure size 432x288 with 1 Axes>"
      ]
     },
     "metadata": {
      "needs_background": "light"
     },
     "output_type": "display_data"
    }
   ],
   "source": [
    "N = 30  # size of the train design\n",
    "Q2sample = computeSampleQ2(N, n_valid, numberAttempts, maxDegree)\n",
    "plotQ2Boxplots(Q2sample, N)"
   ]
  },
  {
   "cell_type": "markdown",
   "metadata": {},
   "source": [
    "We a sample size equal to 30, we can generally use a polynomial degree equal to 2."
   ]
  },
  {
   "cell_type": "code",
   "execution_count": 19,
   "metadata": {},
   "outputs": [
    {
     "name": "stdout",
     "output_type": "stream",
     "text": [
      "Degree = 1\n",
      "Degree = 2\n",
      "Degree = 3\n",
      "Degree = 4\n"
     ]
    },
    {
     "data": {
      "image/png": "[encoded data removed]",
      "text/plain": [
       "<Figure size 432x288 with 1 Axes>"
      ]
     },
     "metadata": {
      "needs_background": "light"
     },
     "output_type": "display_data"
    }
   ],
   "source": [
    "N = 50  # size of the train design\n",
    "Q2sample = computeSampleQ2(N, n_valid, numberAttempts, maxDegree)\n",
    "plotQ2Boxplots(Q2sample, N)"
   ]
  },
  {
   "cell_type": "markdown",
   "metadata": {},
   "source": [
    "When the sample size increases, the Q2 computation becomes less sensitive to the polynomial degree."
   ]
  },
  {
   "cell_type": "markdown",
   "metadata": {},
   "source": [
    "## Conclusion\n",
    "\n",
    "We observe that on the cantilever beam example, to use a polynomial total degree equal to 4, we need a sample size at least equal to 50 to get a satisfactory and reproducible Q2. When the degree is equal to 4, if we use a small sample size, then, depending on the particular sample, the predictivity coefficient can be very low (i.e less than 0.5). When the sample size as small as 20, then a polynomial degree equal to 1 is safer in this case, but the limited sample size may have an impact on other statistics that we may derive from a metamodel that was calculated on such a small training sample.\n",
    "\n",
    "## References\n",
    "\n",
    "* \"Metamodel-Based Sensitivity Analysis: Polynomial Chaos Expansions and Gaussian Processes\", Loïc Le Gratiet,  Stefano Marelli, Bruno Sudret, Handbook of Uncertainty Quantification, 2017, Springer International Publishing."
   ]
  }
 ],
 "metadata": {
  "kernelspec": {
   "display_name": "Python 3",
   "language": "python",
   "name": "python3"
  },
  "language_info": {
   "codemirror_mode": {
    "name": "ipython",
    "version": 3
   },
   "file_extension": ".py",
   "mimetype": "text/x-python",
   "name": "python",
   "nbconvert_exporter": "python",
   "pygments_lexer": "ipython3",
   "version": "3.7.4"
  }
 },
 "nbformat": 4,
 "nbformat_minor": 2
}
