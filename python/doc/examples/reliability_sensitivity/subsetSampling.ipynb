{
 "cells": [
  {
   "cell_type": "markdown",
   "metadata": {},
   "source": [
    "# Subset Sampling\n",
    "\n",
    "The objective is to evaluate a probability from the Subset sampling technique.\n",
    "\n",
    "We consider the function $g : \\mathbb{R}^2 \\rightarrow \\mathbb{R}$ defined by:\n",
    "\\begin{align*}\n",
    "g(X)= 20-(x_1-x_2)^2-8(x_1+x_2-4)^3\n",
    "\\end{align*}\n",
    "\n",
    "and the input random vector $X = (X_1, X_2)$ which follows a Normal distribution with independent components, and identical marginals with 0.25 mean and unit variance: \n",
    "\\begin{align*}\n",
    "X \\sim  \\mathcal{N}(\\mu = [0.25, 0.25], \\sigma = [1,1], cov = I_2)\n",
    "\\end{align*}\n",
    "\n",
    "We want to evaluate the probability:\n",
    "\\begin{align*}\n",
    "p = \\mathbb{P} \\{ g(X) \\leq 0 \\}\n",
    "\\end{align*}"
   ]
  },
  {
   "cell_type": "markdown",
   "metadata": {},
   "source": [
    "First, import the python modules: "
   ]
  },
  {
   "cell_type": "code",
   "execution_count": 1,
   "metadata": {},
   "outputs": [],
   "source": [
    "from  openturns import *"
   ]
  },
  {
   "cell_type": "markdown",
   "metadata": {},
   "source": [
    "# Create the probabilistic model $Y = g(X)$"
   ]
  },
  {
   "cell_type": "markdown",
   "metadata": {},
   "source": [
    "Create the input random vector $X$:"
   ]
  },
  {
   "cell_type": "code",
   "execution_count": 2,
   "metadata": {},
   "outputs": [],
   "source": [
    "X = RandomVector(Normal([0.25]*2, [1]*2, IdentityMatrix(2)))"
   ]
  },
  {
   "cell_type": "markdown",
   "metadata": {},
   "source": [
    "Create the function $g$:"
   ]
  },
  {
   "cell_type": "code",
   "execution_count": 3,
   "metadata": {},
   "outputs": [
    {
     "name": "stdout",
     "output_type": "stream",
     "text": [
      "function g:  [x1,x2]->[20-(x1-x2)^2-8*(x1+x2-4)^3]\n"
     ]
    }
   ],
   "source": [
    "g=SymbolicFunction(['x1', 'x2'], ['20-(x1-x2)^2-8*(x1+x2-4)^3'])\n",
    "print('function g: ', g)"
   ]
  },
  {
   "cell_type": "markdown",
   "metadata": {},
   "source": [
    "In order to be able to get the subset samples used in the algorithm, it is necessary to transform the *SymbolicFunction* into a *MemoizeFunction*:"
   ]
  },
  {
   "cell_type": "code",
   "execution_count": 4,
   "metadata": {},
   "outputs": [],
   "source": [
    "g = MemoizeFunction(g)"
   ]
  },
  {
   "cell_type": "markdown",
   "metadata": {},
   "source": [
    "Create the output random vector $Y = g(X)$:"
   ]
  },
  {
   "cell_type": "code",
   "execution_count": 5,
   "metadata": {},
   "outputs": [],
   "source": [
    "Y = CompositeRandomVector(g,X)"
   ]
  },
  {
   "cell_type": "markdown",
   "metadata": {},
   "source": [
    "# Create the event $\\{ Y = g(X) \\leq 0 \\}$ "
   ]
  },
  {
   "cell_type": "code",
   "execution_count": 6,
   "metadata": {},
   "outputs": [],
   "source": [
    "myEvent = ThresholdEvent(Y, LessOrEqual(), 0.0) "
   ]
  },
  {
   "cell_type": "markdown",
   "metadata": {},
   "source": [
    "# Evaluate the probability with the subset sampling technique"
   ]
  },
  {
   "cell_type": "code",
   "execution_count": 7,
   "metadata": {},
   "outputs": [],
   "source": [
    "algo = SubsetSampling(myEvent)"
   ]
  },
  {
   "cell_type": "markdown",
   "metadata": {},
   "source": [
    "In order to get all the inputs and outputs that realize the event, you have to mention it now:"
   ]
  },
  {
   "cell_type": "code",
   "execution_count": 8,
   "metadata": {},
   "outputs": [],
   "source": [
    "algo.setKeepEventSample(True)"
   ]
  },
  {
   "cell_type": "markdown",
   "metadata": {},
   "source": [
    "Now you can run the algorithm!"
   ]
  },
  {
   "cell_type": "code",
   "execution_count": 9,
   "metadata": {},
   "outputs": [],
   "source": [
    "algo.run()"
   ]
  },
  {
   "cell_type": "code",
   "execution_count": 10,
   "metadata": {},
   "outputs": [
    {
     "name": "stdout",
     "output_type": "stream",
     "text": [
      "Proba Subset =  0.00038430000000000067\n",
      "Current coefficient of variation =  0.08714310124533411\n"
     ]
    }
   ],
   "source": [
    "result = algo.getResult()\n",
    "proba = result.getProbabilityEstimate()\n",
    "print('Proba Subset = ',  proba)\n",
    "print('Current coefficient of variation = ', result.getCoefficientOfVariation())"
   ]
  },
  {
   "cell_type": "markdown",
   "metadata": {},
   "source": [
    "The length of the confidence interval of level $95\\%$ is:"
   ]
  },
  {
   "cell_type": "code",
   "execution_count": 11,
   "metadata": {},
   "outputs": [
    {
     "name": "stdout",
     "output_type": "stream",
     "text": [
      "Confidence length (0.95) =  0.00013127483547940792\n"
     ]
    }
   ],
   "source": [
    "length95 = result.getConfidenceLength()\n",
    "print('Confidence length (0.95) = ', result.getConfidenceLength())"
   ]
  },
  {
   "cell_type": "markdown",
   "metadata": {},
   "source": [
    "which enables to build the confidence interval: "
   ]
  },
  {
   "cell_type": "code",
   "execution_count": 12,
   "metadata": {},
   "outputs": [
    {
     "name": "stdout",
     "output_type": "stream",
     "text": [
      "Confidence intervalle (0.95) = [ 0.0003186625822602967 ,  0.0004499374177397046 ]\n"
     ]
    }
   ],
   "source": [
    "print('Confidence intervalle (0.95) = [', proba - length95/2, ', ', proba + length95/2, ']')"
   ]
  },
  {
   "cell_type": "markdown",
   "metadata": {},
   "source": [
    "You can also get the succesive thresholds used by the algorithm:"
   ]
  },
  {
   "cell_type": "code",
   "execution_count": 13,
   "metadata": {},
   "outputs": [
    {
     "name": "stdout",
     "output_type": "stream",
     "text": [
      "Levels of g =  [55.9036,18.4436,8.34832,0]\n"
     ]
    }
   ],
   "source": [
    "levels =  algo.getThresholdPerStep()\n",
    "print('Levels of g = ', levels)"
   ]
  },
  {
   "cell_type": "markdown",
   "metadata": {},
   "source": [
    "# Draw the subset samples used by the algorithm\n",
    "The following manipulations are possible onfly if you have created a *MemoizeFunction* that enables to store all the inputs and output of the function $g$.\n",
    "\n",
    "Get all the inputs where $g$ were evaluated: "
   ]
  },
  {
   "cell_type": "code",
   "execution_count": 14,
   "metadata": {},
   "outputs": [
    {
     "name": "stdout",
     "output_type": "stream",
     "text": [
      "Number of evaluations of g =  40000\n"
     ]
    }
   ],
   "source": [
    "inputSampleSubset = g.getInputHistory()\n",
    "nTotal = inputSampleSubset.getSize()\n",
    "print('Number of evaluations of g = ', nTotal)"
   ]
  },
  {
   "cell_type": "markdown",
   "metadata": {},
   "source": [
    "Within each step of the algorithm, a sample of size $N$ is created, where: "
   ]
  },
  {
   "cell_type": "code",
   "execution_count": 15,
   "metadata": {},
   "outputs": [
    {
     "name": "stdout",
     "output_type": "stream",
     "text": [
      "Size of each subset =  10000\n"
     ]
    }
   ],
   "source": [
    "N =  algo.getMaximumOuterSampling()*algo.getBlockSize()\n",
    "print('Size of each subset = ', N)"
   ]
  },
  {
   "cell_type": "markdown",
   "metadata": {},
   "source": [
    "You can get the number $N_s$ of steps with: "
   ]
  },
  {
   "cell_type": "code",
   "execution_count": 16,
   "metadata": {},
   "outputs": [
    {
     "name": "stdout",
     "output_type": "stream",
     "text": [
      "Number of steps=  4\n"
     ]
    }
   ],
   "source": [
    "Ns = algo.getNumberOfSteps()\n",
    "print('Number of steps= ', Ns)"
   ]
  },
  {
   "cell_type": "markdown",
   "metadata": {},
   "source": [
    "and you can verify that $N_s$ is equal to $\\frac{nTotal}{N}$:"
   ]
  },
  {
   "cell_type": "code",
   "execution_count": 17,
   "metadata": {},
   "outputs": [
    {
     "name": "stdout",
     "output_type": "stream",
     "text": [
      "nTotal / N =  4\n"
     ]
    }
   ],
   "source": [
    "print('nTotal / N = ', int(nTotal / N))"
   ]
  },
  {
   "cell_type": "markdown",
   "metadata": {},
   "source": [
    "Now, we can split the initial sample into subset samples of size $N_s$: "
   ]
  },
  {
   "cell_type": "code",
   "execution_count": 18,
   "metadata": {},
   "outputs": [],
   "source": [
    "list_subSamples = list()\n",
    "for i in range(Ns):\n",
    "    list_subSamples.append(inputSampleSubset[i*N:i*N +N])"
   ]
  },
  {
   "cell_type": "markdown",
   "metadata": {},
   "source": [
    "The following graph draws each subset sample and the frontier $g(x_1, x_2) = l_i$ where $l_i$ is the threshold at the step $i$:"
   ]
  },
  {
   "cell_type": "code",
   "execution_count": 19,
   "metadata": {},
   "outputs": [],
   "source": [
    "graph = Graph()\n",
    "graph.setAxes(True)\n",
    "graph.setGrid(True)\n",
    "graph.setTitle('Subset sampling: samples')\n",
    "graph.setXTitle(r'$x_1$')\n",
    "graph.setYTitle(r'$x_2$')\n",
    "graph.setLegendPosition('bottomleft')"
   ]
  },
  {
   "cell_type": "markdown",
   "metadata": {},
   "source": [
    "Add all the subset samples:"
   ]
  },
  {
   "cell_type": "code",
   "execution_count": 20,
   "metadata": {},
   "outputs": [],
   "source": [
    "for i in range(Ns):\n",
    "    cloud = Cloud(list_subSamples[i])\n",
    "    #cloud.setPointStyle(\"dot\")\n",
    "    graph.add(cloud)\n",
    "col = Drawable().BuildDefaultPalette(Ns)\n",
    "graph.setColors(col)"
   ]
  },
  {
   "cell_type": "markdown",
   "metadata": {},
   "source": [
    "Add the frontiers $g(x_1, x_2) = l_i$ where $l_i$ is the threshold at the step $i$:"
   ]
  },
  {
   "cell_type": "code",
   "execution_count": 21,
   "metadata": {},
   "outputs": [],
   "source": [
    "gIsoLines =  g.draw([-3]*2, [5]*2, [128]*2)\n",
    "dr = gIsoLines.getDrawable(0)\n",
    "for i in range(levels.getSize()):\n",
    "    dr.setLevels([levels[i]])\n",
    "    dr.setLineStyle('solid')\n",
    "    dr.setLegend(r'$g(X) = $' + str(round(levels[i], 2)))\n",
    "    dr.setLineWidth(3)\n",
    "    dr.setColor(col[i])\n",
    "    graph.add(dr)"
   ]
  },
  {
   "cell_type": "code",
   "execution_count": 22,
   "metadata": {},
   "outputs": [
    {
     "data": {
      "image/png": "[encoded data removed]",
      "text/plain": [
       "<Figure size 432x288 with 1 Axes>"
      ]
     },
     "metadata": {
      "needs_background": "light"
     },
     "output_type": "display_data"
    }
   ],
   "source": [
    "Show(graph)"
   ]
  },
  {
   "cell_type": "markdown",
   "metadata": {},
   "source": [
    "# Draw the frontiers only\n",
    "The following graph enables to understand the progresison of the algorithm:"
   ]
  },
  {
   "cell_type": "code",
   "execution_count": 23,
   "metadata": {},
   "outputs": [
    {
     "data": {
      "image/png": "[encoded data removed]",
      "text/plain": [
       "<Figure size 432x288 with 1 Axes>"
      ]
     },
     "metadata": {
      "needs_background": "light"
     },
     "output_type": "display_data"
    }
   ],
   "source": [
    "graph=Graph()\n",
    "graph.setAxes(True)\n",
    "graph.setGrid(True)\n",
    "dr = gIsoLines.getDrawable(0)\n",
    "for i in range(levels.getSize()):\n",
    "    dr.setLevels([levels[i]])\n",
    "    dr.setLineStyle('solid')\n",
    "    dr.setLegend(r'$g(X) = $' + str(round(levels[i], 2)))\n",
    "    dr.setLineWidth(3)\n",
    "    graph.add(dr)\n",
    "\n",
    "graph.setColors(col)\n",
    "graph.setLegendPosition('bottomleft')\n",
    "graph.setTitle('Subset sampling: thresholds')\n",
    "graph.setXTitle(r'$x_1$')\n",
    "graph.setYTitle(r'$x_2$')\n",
    "\n",
    "Show(graph)"
   ]
  },
  {
   "cell_type": "markdown",
   "metadata": {},
   "source": [
    "# Get all the input and output points that realized the event\n",
    "The following lines are possible only if you have mentionned that you wanted to keep the points that realize the event with the method *algo.setKeepEventSample(True)*"
   ]
  },
  {
   "cell_type": "code",
   "execution_count": 24,
   "metadata": {},
   "outputs": [
    {
     "name": "stdout",
     "output_type": "stream",
     "text": [
      "Number of event realizations =  3843\n"
     ]
    }
   ],
   "source": [
    "inputEventSample = algo.getEventInputSample()\n",
    "outputEventSample = algo.getEventOutputSample()\n",
    "print('Number of event realizations = ', inputEventSample.getSize())"
   ]
  },
  {
   "cell_type": "markdown",
   "metadata": {},
   "source": [
    "Here we have to avoid a bug of the version 1.15 because *getEventInputSample()* gives the sample in the stadrad space: we have to push it backward to the physical space."
   ]
  },
  {
   "cell_type": "code",
   "execution_count": 25,
   "metadata": {},
   "outputs": [],
   "source": [
    "dist = Normal([0.25]*2, [1]*2, IdentityMatrix(2))\n",
    "transformFunc = dist.getInverseIsoProbabilisticTransformation()\n",
    "inputEventSample = transformFunc(inputEventSample)"
   ]
  },
  {
   "cell_type": "markdown",
   "metadata": {},
   "source": [
    "Draw them! They are all in the event space."
   ]
  },
  {
   "cell_type": "code",
   "execution_count": 26,
   "metadata": {},
   "outputs": [
    {
     "data": {
      "image/png": "[encoded data removed]",
      "text/plain": [
       "<Figure size 432x288 with 1 Axes>"
      ]
     },
     "metadata": {
      "needs_background": "light"
     },
     "output_type": "display_data"
    }
   ],
   "source": [
    "graph=Graph()\n",
    "graph.setAxes(True)\n",
    "graph.setGrid(True)\n",
    "cloud = Cloud(inputEventSample)\n",
    "cloud.setPointStyle('dot')\n",
    "graph.add(cloud)\n",
    "gIsoLines =  g.draw([-3]*2, [5]*2, [1000]*2)\n",
    "dr = gIsoLines.getDrawable(0)\n",
    "dr.setLevels([0.0])\n",
    "dr.setColor('red')\n",
    "graph.add(dr)\n",
    "Show(graph)"
   ]
  }
 ],
 "metadata": {
  "kernelspec": {
   "display_name": "Python 3",
   "language": "python",
   "name": "python3"
  },
  "language_info": {
   "codemirror_mode": {
    "name": "ipython",
    "version": 3
   },
   "file_extension": ".py",
   "mimetype": "text/x-python",
   "name": "python",
   "nbconvert_exporter": "python",
   "pygments_lexer": "ipython3",
   "version": "3.7.6"
  }
 },
 "nbformat": 4,
 "nbformat_minor": 2
}
