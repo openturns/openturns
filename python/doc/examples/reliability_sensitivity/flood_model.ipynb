{
 "cells": [
  {
   "cell_type": "markdown",
   "metadata": {},
   "source": [
    "# Estimate a flooding probability\n",
    "\n",
    "In this example, we estimate the probability that the ouput of a function exceeds a given threshold with the FORM method. We consider the flooding model."
   ]
  },
  {
   "cell_type": "markdown",
   "metadata": {},
   "source": [
    "## Introduction\n",
    "\n",
    "The following figure presents a dyke protecting industrial facilities. When the river level exceeds the dyke height, flooding occurs. The model is based on a crude simplification of the 1D hydrodynamical equations of Saint-Venant under the assumptions of uniform and constant flow rate and large rectangular sections.\n",
    "\n",
    "![Flooding section](flooding_section.png)\n",
    "\n",
    "Four independent random variables are considered:\n",
    "\n",
    " - $Q$: flow rate [m^3 s^-1]\n",
    " - $K_s$: Strickler [m^1/3 s^-1]\n",
    " - $Z_v$: downstream height [m]\n",
    " - $Z_m$: upstream height [m]\n",
    "\n",
    "When the Strickler coefficient increases, the riverbed generates less friction. \n",
    "\n",
    "The model depends on four parameters:\n",
    "\n",
    "* the height of the dyke: $H_d = 3$ [m],\n",
    "* the altitude of the river banks: $Z_b = 55.5$ [m],\n",
    "* the river length: $L = 5000$ [m],\n",
    "* the river width: $B = 300$ [m].\n",
    "\n",
    "The altitude of the dyke is:\n",
    "\n",
    "$$\n",
    "Z_d = Z_b + H_d\n",
    "$$\n",
    "\n",
    "The slope $\\alpha$ of the river is assumed to be close to zero, which implies:\n",
    "\n",
    "$$\n",
    "\\alpha = \\frac{Z_m - Z_v}{L},\n",
    "$$\n",
    "\n",
    "if $Z_m \\geq Z_v$. \n",
    "\n",
    "The water depth is:\n",
    "\n",
    "$$\n",
    "H = \\left(\\frac{Q}{K_s B \\sqrt{\\alpha}}\\right)^{0.6},\n",
    "$$\n",
    "\n",
    "for any $K_s, Q>0$.\n",
    "\n",
    "The flood altitude is:\n",
    "\n",
    "$$\n",
    "Z_c = H + Z_v.\n",
    "$$\n",
    "\n",
    "The altitude of the surface of the water is greater than the altitude of the top of the dyke (i.e. there is a flood) if:\n",
    "\n",
    "$$\n",
    "S = Z_c - Z_d\n",
    "$$\n",
    "\n",
    "is greater than zero.\n",
    "\n",
    "The following figure presents the model with more details. \n",
    "\n",
    "![Flooding section details](flooding_section_detail.png)\n",
    "\n",
    "If we substitute the parameters into the equation, we get:\n",
    "\n",
    "$$\n",
    "S = \\left(\\frac{Q}{300 Ks \\sqrt{(Zm-Zv)/5000}}\\right)^{3/5} +Zv-58.5.\n",
    "$$\n",
    "\n",
    "We assume that the four inputs have the following distributions:\n",
    "\n",
    " - $Q$ ~ Gumbel(mode=1013, scale=558), $Q$ > 0\n",
    " - $K_s$ ~ Normal(mu=30.0, sigma=7.5), $K_s$ > 0\n",
    " - $Z_v$ ~ Uniform(a=49, b=51)\n",
    " - $Z_m$ ~ Uniform(a=54, b=56)\n",
    "\n",
    "Moreover, we assume that the input random variables are independent.\n",
    "\n",
    "We want to estimate the flood probability:\n",
    "\n",
    "$$\n",
    "P_f = P(S>0).\n",
    "$$"
   ]
  },
  {
   "cell_type": "markdown",
   "metadata": {},
   "source": [
    "## References\n",
    "\n",
    "* Iooss B, Lemaître P (2015) A review on global sensitivity analysis methods. In: Meloni C., Dellino G. (eds) Uncertainty management in Simulation-Optimization of Complex Systems: Algorithmsand Applications, Springer\n",
    "* Baudin M., Dutfoy A., Iooss B., Popelin AL. (2015) OpenTURNS: An Industrial Software for Uncertainty Quantification in Simulation. In: Ghanem R., Higdon D., Owhadi H. (eds) Handbook of Uncertainty Quantification. Springer"
   ]
  },
  {
   "cell_type": "markdown",
   "metadata": {},
   "source": [
    "## Define the model"
   ]
  },
  {
   "cell_type": "code",
   "execution_count": 1,
   "metadata": {},
   "outputs": [],
   "source": [
    "from __future__ import print_function\n",
    "import openturns as ot"
   ]
  },
  {
   "cell_type": "markdown",
   "metadata": {},
   "source": [
    "Create the marginal distributions of the parameters. "
   ]
  },
  {
   "cell_type": "code",
   "execution_count": 2,
   "metadata": {},
   "outputs": [],
   "source": [
    "dist_Q = ot.TruncatedDistribution(ot.Gumbel(558., 1013.), 0, ot.TruncatedDistribution.LOWER)\n",
    "dist_Ks = ot.TruncatedDistribution(ot.Normal(30.0, 7.5), 0, ot.TruncatedDistribution.LOWER)\n",
    "dist_Zv = ot.Uniform(49.0, 51.0)\n",
    "dist_Zm = ot.Uniform(54.0, 56.0)\n",
    "marginals = [dist_Q, dist_Ks, dist_Zv, dist_Zm]"
   ]
  },
  {
   "cell_type": "markdown",
   "metadata": {},
   "source": [
    "Create the joint probability distribution. "
   ]
  },
  {
   "cell_type": "code",
   "execution_count": 3,
   "metadata": {},
   "outputs": [],
   "source": [
    "distribution = ot.ComposedDistribution(marginals)\n",
    "distribution.setDescription(['Q', 'Ks', 'Zv', 'Zm'])"
   ]
  },
  {
   "cell_type": "markdown",
   "metadata": {},
   "source": [
    "Create the model. "
   ]
  },
  {
   "cell_type": "code",
   "execution_count": 4,
   "metadata": {},
   "outputs": [],
   "source": [
    "model = ot.SymbolicFunction(['Q', 'Ks', 'Zv', 'Zm'],\n",
    "                            ['(Q/(Ks*300.*sqrt((Zm-Zv)/5000)))^(3.0/5.0)+Zv-58.5'])"
   ]
  },
  {
   "cell_type": "markdown",
   "metadata": {},
   "source": [
    "## Define the event"
   ]
  },
  {
   "cell_type": "markdown",
   "metadata": {},
   "source": [
    "Then we create the event whose probability we want to estimate."
   ]
  },
  {
   "cell_type": "code",
   "execution_count": 5,
   "metadata": {},
   "outputs": [],
   "source": [
    "vect = ot.RandomVector(distribution)\n",
    "G = ot.CompositeRandomVector(model, vect)\n",
    "event = ot.ThresholdEvent(G, ot.Greater(), 0.0)\n",
    "event.setName('overflow')"
   ]
  },
  {
   "cell_type": "markdown",
   "metadata": {},
   "source": [
    "## Estimate the probability with FORM"
   ]
  },
  {
   "cell_type": "markdown",
   "metadata": {},
   "source": [
    "Define a solver. "
   ]
  },
  {
   "cell_type": "code",
   "execution_count": 6,
   "metadata": {},
   "outputs": [],
   "source": [
    "optimAlgo = ot.Cobyla()\n",
    "optimAlgo.setMaximumEvaluationNumber(1000)\n",
    "optimAlgo.setMaximumAbsoluteError(1.0e-10)\n",
    "optimAlgo.setMaximumRelativeError(1.0e-10)\n",
    "optimAlgo.setMaximumResidualError(1.0e-10)\n",
    "optimAlgo.setMaximumConstraintError(1.0e-10)"
   ]
  },
  {
   "cell_type": "markdown",
   "metadata": {},
   "source": [
    "Run FORM. "
   ]
  },
  {
   "cell_type": "code",
   "execution_count": 7,
   "metadata": {},
   "outputs": [],
   "source": [
    "startingPoint = distribution.getMean()\n",
    "algo = ot.FORM(optimAlgo, event, startingPoint)\n",
    "algo.run()\n",
    "result = algo.getResult()\n",
    "standardSpaceDesignPoint = result.getStandardSpaceDesignPoint()"
   ]
  },
  {
   "cell_type": "markdown",
   "metadata": {},
   "source": [
    "Retrieve results. "
   ]
  },
  {
   "cell_type": "code",
   "execution_count": 8,
   "metadata": {},
   "outputs": [
    {
     "name": "stdout",
     "output_type": "stream",
     "text": [
      "Pf= 0.0005340887806479517\n"
     ]
    }
   ],
   "source": [
    "result = algo.getResult()\n",
    "probability = result.getEventProbability()\n",
    "print('Pf=', probability)"
   ]
  },
  {
   "cell_type": "markdown",
   "metadata": {},
   "source": [
    "Importance factors. "
   ]
  },
  {
   "cell_type": "code",
   "execution_count": 9,
   "metadata": {},
   "outputs": [
    {
     "data": {
      "image/png": "[encoded data removed]",
      "text/plain": [
       "class=Graph name=Unnamed implementation=class=GraphImplementation name=Unnamed title=Importance Factors from Design Point - overflow xTitle= yTitle= axes=OFF grid=OFF legendposition= legendFontSize=1 drawables=[class=Drawable name=Unnamed implementation=class=Pie name=Unnamed labels=[Q : 21.8%,Ks : 72.8%,Zv : 4.6%,Zm : 0.9%] radius=1 center=class=Point name=Unnamed dimension=2 values=[0,0] color palette=[#ff0000,#ccff00,#00ff66,#0066ff] derived from class=DrawableImplementation name=Unnamed legend= data=class=Sample name=Unnamed implementation=class=SampleImplementation name=Unnamed size=4 dimension=1 data=[[0.217607],[0.728041],[0.0455605],[0.00879155]] color=blue fillStyle=solid lineStyle=solid pointStyle=plus lineWidth=1]"
      ]
     },
     "execution_count": 9,
     "metadata": {},
     "output_type": "execute_result"
    }
   ],
   "source": [
    "result.drawImportanceFactors()"
   ]
  }
 ],
 "metadata": {
  "kernelspec": {
   "display_name": "Python 3",
   "language": "python",
   "name": "python3"
  },
  "language_info": {
   "codemirror_mode": {
    "name": "ipython",
    "version": 3
   },
   "file_extension": ".py",
   "mimetype": "text/x-python",
   "name": "python",
   "nbconvert_exporter": "python",
   "pygments_lexer": "ipython3",
   "version": "3.7.4"
  }
 },
 "nbformat": 4,
 "nbformat_minor": 1
}
