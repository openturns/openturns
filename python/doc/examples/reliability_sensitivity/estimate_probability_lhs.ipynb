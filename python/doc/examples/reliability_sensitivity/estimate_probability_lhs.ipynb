{
 "cells": [
  {
   "cell_type": "markdown",
   "metadata": {},
   "source": [
    "# Estimate a probability with Latin Hypercube Sampling"
   ]
  },
  {
   "cell_type": "markdown",
   "metadata": {},
   "source": [
    "In this example we show how to use the `LHS` algorithm to estimate the probability of an event."
   ]
  },
  {
   "cell_type": "markdown",
   "metadata": {},
   "source": [
    "## Introduction\n",
    "\n",
    "We consider a simple beam stressed by a traction load F at both sides.\n",
    "\n",
    "![Axial stressed beam](axial-stressed-beam.png)\n",
    "\n",
    "The geometry is supposed to be deterministic; the diameter D is equal to:\n",
    "\n",
    "$$\n",
    "D=0.02 \\textrm{ (m)}.\n",
    "$$\n",
    "\n",
    "By definition, the yield stress is the load divided by the surface. Since the surface is $\\pi D^2/4$, the stress is:\n",
    "\n",
    "$$\n",
    "S = \\frac{F}{\\pi D^2/4}.\n",
    "$$\n",
    "\n",
    "Failure occurs when the beam plastifies, i.e. when the axial stress gets larger than the yield stress:\n",
    "\n",
    "$$\n",
    "R - \\frac{F}{\\pi D^2/4} \\leq 0\n",
    "$$\n",
    "\n",
    "where $R$ is the strength.\n",
    " \n",
    "Therefore, the limit state function $G$ is: \n",
    "\n",
    "$$\n",
    "G(R,F) = R - \\frac{F}{\\pi D^2/4},\n",
    "$$\n",
    "\n",
    "for any $R,F\\in\\mathbb{R}$.\n",
    "\n",
    "The value of the parameter $D$ is such that:\n",
    "\n",
    "$$\n",
    "D^2/4 = 10^{-4},\n",
    "$$\n",
    "\n",
    "which leads to the equation:\n",
    "\n",
    "$$\n",
    "G(R,F) = R - \\frac{F}{10^{-4} \\pi}.\n",
    "$$\n",
    "\n",
    "We consider the following distribution functions.\n",
    "\n",
    "| Variable | Distribution |\n",
    "|--|--|\n",
    "| R | LogNormal($\\mu_R=3\\times 10^6$, $\\sigma_R=3\\times 10^5$) [Pa] |\n",
    "| F | Normal($\\mu_F=750$, $\\sigma_F=50$) [N] |\n",
    "\n",
    "where $\\mu_R=E(R)$ and $\\sigma_R^2=V(R)$ are the mean and the variance of $R$.\n",
    "\n",
    "The failure probability is: \n",
    "\n",
    "$$\n",
    "P_f = \\text{Prob}(G(R,F) \\leq 0).\n",
    "$$\n",
    "\n",
    "The exact $P_f$ is \n",
    "\n",
    "$$\n",
    "P_f = 0.02920.\n",
    "$$"
   ]
  },
  {
   "cell_type": "code",
   "execution_count": 1,
   "metadata": {},
   "outputs": [],
   "source": [
    "from __future__ import print_function\n",
    "import openturns as ot"
   ]
  },
  {
   "cell_type": "markdown",
   "metadata": {},
   "source": [
    "Create the joint distribution of the parameters."
   ]
  },
  {
   "cell_type": "code",
   "execution_count": 2,
   "metadata": {
    "collapsed": true
   },
   "outputs": [],
   "source": [
    "distribution_R = ot.LogNormalMuSigma(300.0, 30.0, 0.0).getDistribution()\n",
    "distribution_F = ot.Normal(75e3, 5e3)\n",
    "marginals = [distribution_R, distribution_F]\n",
    "distribution = ot.ComposedDistribution(marginals)"
   ]
  },
  {
   "cell_type": "markdown",
   "metadata": {},
   "source": [
    "Create the model."
   ]
  },
  {
   "cell_type": "code",
   "execution_count": 3,
   "metadata": {
    "collapsed": true
   },
   "outputs": [],
   "source": [
    "model = ot.SymbolicFunction(['R', 'F'], ['R-F/(pi_*100.0)'])"
   ]
  },
  {
   "cell_type": "markdown",
   "metadata": {},
   "source": [
    "Create the event whose probability we want to estimate."
   ]
  },
  {
   "cell_type": "code",
   "execution_count": 4,
   "metadata": {
    "collapsed": true
   },
   "outputs": [],
   "source": [
    "vect = ot.RandomVector(distribution)\n",
    "G = ot.CompositeRandomVector(model, vect)\n",
    "event = ot.ThresholdEvent(G, ot.Less(), 0.0)"
   ]
  },
  {
   "cell_type": "markdown",
   "metadata": {},
   "source": [
    "Create a LHS algorithm."
   ]
  },
  {
   "cell_type": "code",
   "execution_count": 5,
   "metadata": {
    "collapsed": true
   },
   "outputs": [],
   "source": [
    "algo = ot.LHS(event)\n",
    "algo.setMaximumCoefficientOfVariation(0.05)\n",
    "algo.setMaximumOuterSampling(int(1e5))\n",
    "algo.run()"
   ]
  },
  {
   "cell_type": "markdown",
   "metadata": {},
   "source": [
    "Retrieve results."
   ]
  },
  {
   "cell_type": "code",
   "execution_count": 6,
   "metadata": {},
   "outputs": [
    {
     "name": "stdout",
     "output_type": "stream",
     "text": [
      "Pf= 0.029342988609791055\n"
     ]
    }
   ],
   "source": [
    "result = algo.getResult()\n",
    "probability = result.getProbabilityEstimate()\n",
    "print('Pf=', probability)"
   ]
  }
 ],
 "metadata": {
  "kernelspec": {
   "display_name": "Python 3",
   "language": "python",
   "name": "python3"
  },
  "language_info": {
   "codemirror_mode": {
    "name": "ipython",
    "version": 3
   },
   "file_extension": ".py",
   "mimetype": "text/x-python",
   "name": "python",
   "nbconvert_exporter": "python",
   "pygments_lexer": "ipython3",
   "version": "3.7.4"
  }
 },
 "nbformat": 4,
 "nbformat_minor": 1
}
