{
 "cells": [
  {
   "cell_type": "markdown",
   "metadata": {},
   "source": [
    "MelissaStudy contains a map of IterativeAlgorithms.\n",
    "All iterativeAlgorithms have a increment method. When increment is called on MelissaStudy, it calls all the increment methods of the IterativeAlgorithms inside the MelissaStudy."
   ]
  },
  {
   "cell_type": "code",
   "execution_count": null,
   "metadata": {},
   "outputs": [],
   "source": [
    "# Un code python ressemblera à ça :\n",
    "\n",
    "import openturns as ot\n",
    "\n",
    "# 1. Crée les estimateurs\n",
    "dim = 5\n",
    "myMean = ot.IterativeMean(dim)\n",
    "# myOtherMean is a a controle object, incremented outside the study\n",
    "myOtherMean = ot.IterativeMean(dim)\n",
    "\n",
    "# 2. Crée l'algorithme Melissa\n",
    "myStudy = ot.MelissaStudy()\n",
    "myStudy.add(\"temperatureMoyenne\",myMean)\n",
    "\n",
    "# 3. Réalise les simulations\n",
    "n = ot.Normal(dim)\n",
    "size = 50\n",
    "# 3.1. Increment with several points\n",
    "for i in range(size):\n",
    "    point = n.getRealization()\n",
    "    myStudy.increment(point)\n",
    "    myOtherMean.increment(point)\n",
    "\n",
    "# 3.1. Increment with one sample sample\n",
    "sample = n.getSample(size)\n",
    "myStudy.increment(sample)\n",
    "myOtherMean.increment(sample)\n",
    "\n",
    "# 4. Récupère les estimations\n",
    "myUpdatedMean = ot.IterativeMean(dim)\n",
    "print (myStudy.printLabels())\n",
    "print(myStudy.hasObject(\"temperatureMoyenne\"))\n",
    "myStudy.fillObject(\"temperatureMoyenne\", myUpdatedMean)\n",
    "\n",
    "# myMean should be 0 everywhere\n",
    "print (myMean.__repr__())\n",
    "# myOtherMean and myUpdatedMean should be the same\n",
    "print (myOtherMean.__repr__())\n",
    "print (myUpdatedMean.__repr__())"
   ]
  }
 ],
 "metadata": {
  "kernelspec": {
   "display_name": "Python 3",
   "language": "python",
   "name": "python3"
  },
  "language_info": {
   "codemirror_mode": {
    "name": "ipython",
    "version": 3
   },
   "file_extension": ".py",
   "mimetype": "text/x-python",
   "name": "python",
   "nbconvert_exporter": "python",
   "pygments_lexer": "ipython3",
   "version": "3.6.7"
  }
 },
 "nbformat": 4,
 "nbformat_minor": 2
}
