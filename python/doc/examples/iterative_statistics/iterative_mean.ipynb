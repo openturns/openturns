{
 "cells": [
  {
   "cell_type": "markdown",
   "metadata": {},
   "source": [
    "MelissaStudy contains a map of IterativeAlgorithms.\n",
    "All iterativeAlgorithms have a increment method. When increment is called on MelissaStudy, it calls all the increment methods of the IterativeAlgorithms inside the MelissaStudy."
   ]
  },
  {
   "cell_type": "code",
   "execution_count": 1,
   "metadata": {},
   "outputs": [
    {
     "name": "stdout",
     "output_type": "stream",
     "text": [
      "[-0.10648,0.0149604,-0.0470775,-0.0297845,-0.120995]\n",
      "[-0.10648,0.0149604,-0.0470775,-0.0297845,-0.120995]\n",
      "[1.13845,1.03833,0.999317,1.18227,0.691024]\n",
      "[0.011986,0.00576051,-0.0272106,-0.00456634,0.00834452]\n",
      "[0.091889,0.0441668,0.0379388,-0.162883,0.044894]\n",
      "[1.03484,0.798317,1.07118,1.01998,0.921904]\n"
     ]
    }
   ],
   "source": [
    "# Un code python ressemblera à ça :\n",
    "\n",
    "import openturns as ot\n",
    "\n",
    "# 1. Crée les estimateurs\n",
    "dim = 5\n",
    "myMean = ot.IterativeMean(dim)\n",
    "myVariance = ot.IterativeVariance(dim)\n",
    "\n",
    "# 2. Réalise les simulations\n",
    "n = ot.Normal(dim)\n",
    "size = 50\n",
    "# 2.1. Increment with several points\n",
    "for i in range(size):\n",
    "    point = n.getRealization()\n",
    "    myMean.increment(point)\n",
    "    myVariance.increment(point)\n",
    "    \n",
    "# myMean.getMean() and myVariance.getMean() should be the same\n",
    "print (myMean.getValues())\n",
    "print (myVariance.getMean())\n",
    "print (myVariance.getVariance())\n",
    "\n",
    "# 2.1. Increment with one sample sample\n",
    "sample = n.getSample(size)\n",
    "# myMean.getMean() and myVariance.getMean() should be the same\n",
    "myMean.increment(sample)\n",
    "myVariance.increment(sample)\n",
    "\n",
    "# 3. Récupère les estimations\n",
    "print (myMean.getValues())\n",
    "print (myVariance.getMean())\n",
    "print (myVariance.getVariance())\n"
   ]
  },
  {
   "cell_type": "code",
   "execution_count": null,
   "metadata": {},
   "outputs": [],
   "source": []
  },
  {
   "cell_type": "code",
   "execution_count": null,
   "metadata": {},
   "outputs": [],
   "source": []
  }
 ],
 "metadata": {
  "kernelspec": {
   "display_name": "Python 3",
   "language": "python",
   "name": "python3"
  },
  "language_info": {
   "codemirror_mode": {
    "name": "ipython",
    "version": 3
   },
   "file_extension": ".py",
   "mimetype": "text/x-python",
   "name": "python",
   "nbconvert_exporter": "python",
   "pygments_lexer": "ipython3",
   "version": "3.6.8"
  }
 },
 "nbformat": 4,
 "nbformat_minor": 2
}
