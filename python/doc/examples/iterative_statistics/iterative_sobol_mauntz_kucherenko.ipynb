{
 "cells": [
  {
   "cell_type": "code",
   "execution_count": null,
   "metadata": {},
   "outputs": [],
   "source": [
    "import openturns as ot\n",
    "from math import sqrt\n",
    "\n",
    "# 1. The function G\n",
    "def functionCrue(X) :\n",
    "    Hd = 3.0\n",
    "    Zb = 55.5\n",
    "    L = 5.0e3\n",
    "    B = 300.0\n",
    "    Zd = Zb + Hd\n",
    "    Q, Ks, Zv, Zm = X\n",
    "    alpha = (Zm - Zv)/L\n",
    "    H = (Q/(Ks*B*sqrt(alpha)))**(3.0/5.0)\n",
    "    Zc = H + Zv\n",
    "    S = Zc - Zd\n",
    "    return [S]\n",
    "\n",
    "# Creation of the problem function\n",
    "g = ot.PythonFunction(4, 1, functionCrue)\n",
    "g = ot.MemoizeFunction(g)\n",
    "\n",
    "# 2. Random vector definition\n",
    "myParam = ot.GumbelAB(1013., 558.)\n",
    "Q = ot.ParametrizedDistribution(myParam)\n",
    "otLOW = ot.TruncatedDistribution.LOWER\n",
    "Q = ot.TruncatedDistribution(Q, 0, otLOW)\n",
    "Ks = ot.Normal(30.0, 7.5)\n",
    "Ks = ot.TruncatedDistribution(Ks, 0, otLOW)\n",
    "Zv = ot.Uniform(49.0, 51.0)\n",
    "Zm = ot.Uniform(54.0, 56.0)\n",
    "\n",
    "# 3. Create the joint distribution function\n",
    "distribution = ot.ComposedDistribution([Q, Ks, Zv, Zm])\n",
    "\n",
    "# 4. Cree le plan d'expériences (SobolIndicesExperiment existe dans OT 1.13)\n",
    "size = 50\n",
    "experiment = ot.SobolIndicesExperiment(distribution, size)\n",
    "inputDesign = experiment.generate()\n",
    "outputDesign = g(inputDesign)\n",
    "muY = outputDesign.computeMean()\n",
    "\n",
    "# 5. Estime les indices\n",
    "# 5.1 Classiques\n",
    "myClassicalSobolStudy = ot.MauntzKucherenkoSensitivityAlgorithm(inputDesign, outputDesign, size)\n",
    "# 5.2 Iteratifs\n",
    "myIterativeSobolStudy = ot.MauntzKucherenkoSobolIndices(g.getInputDimension(), g.getOutputDimension())\n",
    "# increment will do 50 iterations from the sample\n",
    "myIterativeSobolStudy.incrementIndices(outputDesign - muY)\n",
    "\n",
    "# 6. Recupère les indices du premier ordre\n",
    "print(myClassicalSobolStudy.getFirstOrderIndices())\n",
    "print(myIterativeSobolStudy.getFirstOrderIndices())\n",
    "\n",
    "# 7. Recupère les indices d'ordre total\n",
    "print(myClassicalSobolStudy.getTotalOrderIndices())\n",
    "print(myIterativeSobolStudy.getTotalOrderIndices())"
   ]
  }
 ],
 "metadata": {
  "kernelspec": {
   "display_name": "Python 3",
   "language": "python",
   "name": "python3"
  },
  "language_info": {
   "codemirror_mode": {
    "name": "ipython",
    "version": 3
   },
   "file_extension": ".py",
   "mimetype": "text/x-python",
   "name": "python",
   "nbconvert_exporter": "python",
   "pygments_lexer": "ipython3",
   "version": "3.6.8"
  }
 },
 "nbformat": 4,
 "nbformat_minor": 2
}
