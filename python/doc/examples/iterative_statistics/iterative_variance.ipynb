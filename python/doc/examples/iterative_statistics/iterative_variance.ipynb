{
 "cells": [
  {
   "cell_type": "code",
   "execution_count": 1,
   "metadata": {},
   "outputs": [
    {
     "ename": "TypeError",
     "evalue": "InvalidArgumentException : Error: the given Point is not compatible with the dimension of the iterative mean.",
     "output_type": "error",
     "traceback": [
      "\u001b[0;31m---------------------------------------------------------------------------\u001b[0m",
      "\u001b[0;31mTypeError\u001b[0m                                 Traceback (most recent call last)",
      "\u001b[0;32m<ipython-input-1-e1592b5077a8>\u001b[0m in \u001b[0;36m<module>\u001b[0;34m\u001b[0m\n\u001b[1;32m     14\u001b[0m \u001b[0;32mfor\u001b[0m \u001b[0mi\u001b[0m \u001b[0;32min\u001b[0m \u001b[0mrange\u001b[0m\u001b[0;34m(\u001b[0m\u001b[0msize\u001b[0m\u001b[0;34m)\u001b[0m\u001b[0;34m:\u001b[0m\u001b[0;34m\u001b[0m\u001b[0;34m\u001b[0m\u001b[0m\n\u001b[1;32m     15\u001b[0m     \u001b[0mpoint\u001b[0m \u001b[0;34m=\u001b[0m \u001b[0mn\u001b[0m\u001b[0;34m.\u001b[0m\u001b[0mgetRealization\u001b[0m\u001b[0;34m(\u001b[0m\u001b[0;34m)\u001b[0m\u001b[0;34m\u001b[0m\u001b[0;34m\u001b[0m\u001b[0m\n\u001b[0;32m---> 16\u001b[0;31m     \u001b[0mmyMean\u001b[0m\u001b[0;34m.\u001b[0m\u001b[0mincrement\u001b[0m\u001b[0;34m(\u001b[0m\u001b[0mpoint\u001b[0m\u001b[0;34m)\u001b[0m\u001b[0;34m\u001b[0m\u001b[0;34m\u001b[0m\u001b[0m\n\u001b[0m\u001b[1;32m     17\u001b[0m     \u001b[0mmyVariance\u001b[0m\u001b[0;34m.\u001b[0m\u001b[0mincrement\u001b[0m\u001b[0;34m(\u001b[0m\u001b[0mpoint\u001b[0m\u001b[0;34m)\u001b[0m\u001b[0;34m\u001b[0m\u001b[0;34m\u001b[0m\u001b[0m\n\u001b[1;32m     18\u001b[0m \u001b[0;34m\u001b[0m\u001b[0m\n",
      "\u001b[0;32m~/Programmes/OpenTURNS/openturns/install/lib/python3.6/site-packages/openturns/iterative_statistics.py\u001b[0m in \u001b[0;36mincrement\u001b[0;34m(self, *args)\u001b[0m\n\u001b[1;32m    961\u001b[0m             \u001b[0mSequence\u001b[0m \u001b[0mcontaining\u001b[0m \u001b[0mfirst\u001b[0m \u001b[0morder\u001b[0m \u001b[0mSobol\u001b[0m \u001b[0mindices\u001b[0m\u001b[0;34m.\u001b[0m\u001b[0;34m\u001b[0m\u001b[0;34m\u001b[0m\u001b[0m\n\u001b[1;32m    962\u001b[0m         \"\"\"\n\u001b[0;32m--> 963\u001b[0;31m         \u001b[0;32mreturn\u001b[0m \u001b[0m_iterative_statistics\u001b[0m\u001b[0;34m.\u001b[0m\u001b[0mIterativeMean_increment\u001b[0m\u001b[0;34m(\u001b[0m\u001b[0mself\u001b[0m\u001b[0;34m,\u001b[0m \u001b[0;34m*\u001b[0m\u001b[0margs\u001b[0m\u001b[0;34m)\u001b[0m\u001b[0;34m\u001b[0m\u001b[0;34m\u001b[0m\u001b[0m\n\u001b[0m\u001b[1;32m    964\u001b[0m \u001b[0;34m\u001b[0m\u001b[0m\n\u001b[1;32m    965\u001b[0m \u001b[0;34m\u001b[0m\u001b[0m\n",
      "\u001b[0;31mTypeError\u001b[0m: InvalidArgumentException : Error: the given Point is not compatible with the dimension of the iterative mean."
     ]
    }
   ],
   "source": [
    "# a python code will look like that :\n",
    "\n",
    "import openturns as ot\n",
    "\n",
    "# 1. Create the estimators\n",
    "dim = 5\n",
    "myMean = ot.IterativeMean(dim)\n",
    "myVariance = ot.IterativeVariance(dim)\n",
    "\n",
    "# 2. Run the simulations\n",
    "n = ot.Normal(dim)\n",
    "size = 50\n",
    "# 2.1. Increment with several points\n",
    "for i in range(size):\n",
    "    point = n.getRealization()\n",
    "    myMean.increment(point)\n",
    "    myVariance.increment(point)\n",
    "    \n",
    "# myMean.getMean() and myVariance.getMean() should be the same\n",
    "print (\"Iteration \" + str(myVariance.getIteration()))\n",
    "print (myMean.getMean())\n",
    "print (myVariance.getMean())\n",
    "print (myVariance.getStandardDeviation())\n",
    "print (myVariance.getVariance())\n",
    "\n",
    "# 2.2. Increment with one sample\n",
    "sample = n.getSample(size)\n",
    "myMean.increment(sample)\n",
    "myVariance.increment(sample)\n",
    "\n",
    "# myMean.getMean() and myVariance.getMean() should be the same\n",
    "print (\"Iteration \" + str(myVariance.getIteration()))\n",
    "print (myMean.getMean())\n",
    "print (myVariance.getMean())\n",
    "print (myVariance.getStandardDeviation())\n",
    "print (myVariance.getVariance())\n"
   ]
  },
  {
   "cell_type": "code",
   "execution_count": null,
   "metadata": {},
   "outputs": [],
   "source": []
  }
 ],
 "metadata": {
  "kernelspec": {
   "display_name": "Python 3",
   "language": "python",
   "name": "python3"
  },
  "language_info": {
   "codemirror_mode": {
    "name": "ipython",
    "version": 3
   },
   "file_extension": ".py",
   "mimetype": "text/x-python",
   "name": "python",
   "nbconvert_exporter": "python",
   "pygments_lexer": "ipython3",
   "version": "3.6.8"
  }
 },
 "nbformat": 4,
 "nbformat_minor": 2
}
