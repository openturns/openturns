{
 "cells": [
  {
   "cell_type": "code",
   "execution_count": null,
   "metadata": {},
   "outputs": [],
   "source": [
    "# a python code will look like that :\n",
    "\n",
    "import openturns as ot\n",
    "\n",
    "# 1. Create the estimators\n",
    "dim = 5\n",
    "myMean = ot.IterativeMean(dim)\n",
    "myVariance = ot.IterativeVariance(dim)\n",
    "\n",
    "# 2. Run the simulations\n",
    "n = ot.Normal(dim)\n",
    "size = 50\n",
    "# 2.1. Increment with several points\n",
    "for i in range(size):\n",
    "    point = n.getRealization()\n",
    "    myMean.increment(point)\n",
    "    myVariance.increment(point)\n",
    "    \n",
    "# myMean.getMean() and myVariance.getMean() should be the same\n",
    "print (\"Iteration \" + str(myVariance.getIteration()))\n",
    "print (myMean.getMean())\n",
    "print (myVariance.getMean())\n",
    "print (myVariance.getStandardDeviation())\n",
    "print (myVariance.getVariance())\n",
    "\n",
    "# 2.2. Increment with one sample\n",
    "sample = n.getSample(size)\n",
    "myMean.increment(sample)\n",
    "myVariance.increment(sample)\n",
    "\n",
    "# myMean.getMean() and myVariance.getMean() should be the same\n",
    "print (\"Iteration \" + str(myVariance.getIteration()))\n",
    "print (myMean.getMean())\n",
    "print (myVariance.getMean())\n",
    "print (myVariance.getStandardDeviation())\n",
    "print (myVariance.getVariance())\n"
   ]
  }
 ],
 "metadata": {
  "kernelspec": {
   "display_name": "Python 3",
   "language": "python",
   "name": "python3"
  },
  "language_info": {
   "codemirror_mode": {
    "name": "ipython",
    "version": 3
   },
   "file_extension": ".py",
   "mimetype": "text/x-python",
   "name": "python",
   "nbconvert_exporter": "python",
   "pygments_lexer": "ipython3",
   "version": "3.6.8"
  }
 },
 "nbformat": 4,
 "nbformat_minor": 2
}
