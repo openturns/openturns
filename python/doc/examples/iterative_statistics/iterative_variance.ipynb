{
 "cells": [
  {
   "cell_type": "markdown",
   "metadata": {},
   "source": [
    "# Computing the mean or variance with an iterative algorithm\n",
    "\n",
    "In this example, we show how to use the `IterativeMean` and `IterativeVariance` classes. These algorithms compute an estimate of the mean and variance using iterative algorithms. In other words, these algorithm can be used to iteratively update the estimate of the mean or variance using one point at a time instead of using the full sample. "
   ]
  },
  {
   "cell_type": "code",
   "execution_count": 1,
   "metadata": {},
   "outputs": [],
   "source": [
    "import openturns as ot"
   ]
  },
  {
   "cell_type": "markdown",
   "metadata": {},
   "source": [
    "We first create the two estimators with given dimension. "
   ]
  },
  {
   "cell_type": "code",
   "execution_count": 2,
   "metadata": {},
   "outputs": [],
   "source": [
    "dim = 5\n",
    "myMean = ot.IterativeMean(dim)\n",
    "myVariance = ot.IterativeVariance(dim)"
   ]
  },
  {
   "cell_type": "markdown",
   "metadata": {},
   "source": [
    "Then we run the simulations. In this example, we generate 50 points from a gaussian distriution. For each point, we update the mean and variance using the `increment` method. "
   ]
  },
  {
   "cell_type": "code",
   "execution_count": 3,
   "metadata": {},
   "outputs": [],
   "source": [
    "n = ot.Normal(dim)\n",
    "size = 50\n",
    "# 2.1. Increment with several points\n",
    "for i in range(size):\n",
    "    point = n.getRealization()\n",
    "    myMean.increment(point)\n",
    "    myVariance.increment(point)"
   ]
  },
  {
   "cell_type": "markdown",
   "metadata": {},
   "source": [
    "We can now see the results of the algorithm. The `getIteration` method returns the sample size used in the estimation. Since estimating the variance requires to estimate the mean, the variance has a `getMean` method too. Hence `myMean.getMean()` and `myVariance.getMean()` should be the same. "
   ]
  },
  {
   "cell_type": "code",
   "execution_count": 4,
   "metadata": {},
   "outputs": [
    {
     "name": "stdout",
     "output_type": "stream",
     "text": [
      "Iteration 50\n",
      "[-0.10648,0.0149604,-0.0470775,-0.0297845,-0.120995]\n",
      "[-0.10648,0.0149604,-0.0470775,-0.0297845,-0.120995]\n",
      "[1.06698,1.01898,0.999658,1.08732,0.831279]\n",
      "[1.13845,1.03833,0.999317,1.18227,0.691024]\n"
     ]
    }
   ],
   "source": [
    "print (\"Iteration \" + str(myVariance.getIteration()))\n",
    "print (myMean.getMean())\n",
    "print (myVariance.getMean())\n",
    "print (myVariance.getStandardDeviation())\n",
    "print (myVariance.getVariance())"
   ]
  },
  {
   "cell_type": "markdown",
   "metadata": {},
   "source": [
    "Although the main point of the iterative algorithm is to update the statistics with one single point, we can also update the statistics with a `Sample`. This might be useful in the case where several points are available at the same time, e.g. with parallel computing.  "
   ]
  },
  {
   "cell_type": "code",
   "execution_count": 5,
   "metadata": {},
   "outputs": [],
   "source": [
    "sample = n.getSample(size)\n",
    "myMean.increment(sample)\n",
    "myVariance.increment(sample)"
   ]
  },
  {
   "cell_type": "markdown",
   "metadata": {},
   "source": [
    "Notice that two sets of 50 points have been used, leading to a total of 100 points. "
   ]
  },
  {
   "cell_type": "code",
   "execution_count": 6,
   "metadata": {},
   "outputs": [
    {
     "name": "stdout",
     "output_type": "stream",
     "text": [
      "Iteration 100\n",
      "[0.091889,0.0441668,0.0379388,-0.162883,0.044894]\n",
      "[0.091889,0.0441668,0.0379388,-0.162883,0.044894]\n",
      "[1.01727,0.893486,1.03498,1.00994,0.960158]\n",
      "[1.03484,0.798317,1.07118,1.01998,0.921904]\n"
     ]
    }
   ],
   "source": [
    "print (\"Iteration \" + str(myVariance.getIteration()))\n",
    "print (myMean.getMean())\n",
    "print (myVariance.getMean())\n",
    "print (myVariance.getStandardDeviation())\n",
    "print (myVariance.getVariance())"
   ]
  }
 ],
 "metadata": {
  "kernelspec": {
   "display_name": "Python 3",
   "language": "python",
   "name": "python3"
  },
  "language_info": {
   "codemirror_mode": {
    "name": "ipython",
    "version": 3
   },
   "file_extension": ".py",
   "mimetype": "text/x-python",
   "name": "python",
   "nbconvert_exporter": "python",
   "pygments_lexer": "ipython3",
   "version": "3.7.4"
  }
 },
 "nbformat": 4,
 "nbformat_minor": 2
}
