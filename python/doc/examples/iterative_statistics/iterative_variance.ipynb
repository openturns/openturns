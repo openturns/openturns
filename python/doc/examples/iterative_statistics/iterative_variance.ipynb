{
 "cells": [
  {
   "cell_type": "code",
   "execution_count": 1,
   "metadata": {},
   "outputs": [
    {
     "name": "stdout",
     "output_type": "stream",
     "text": [
      "Iteration 50\n",
      "[-0.10648,0.0149604,-0.0470775,-0.0297845,-0.120995]\n",
      "[-0.10648,0.0149604,-0.0470775,-0.0297845,-0.120995]\n",
      "[0,0,0,0,0]\n",
      "[0,0,0,0,0]\n",
      "Iteration 100\n",
      "[0.091889,0.0441668,0.0379388,-0.162883,0.044894]\n",
      "[0.091889,0.0441668,0.0379388,-0.162883,0.044894]\n",
      "[0.68656,0.533289,0.759321,0.65941,0.7615]\n",
      "[0.471364,0.284397,0.576569,0.434822,0.579882]\n"
     ]
    }
   ],
   "source": [
    "# a python code will look like that :\n",
    "\n",
    "import openturns as ot\n",
    "\n",
    "# 1. Create the estimators\n",
    "dim = 5\n",
    "myMean = ot.IterativeMean(dim)\n",
    "myVariance = ot.IterativeVariance(dim)\n",
    "\n",
    "# 2. Run the simulations\n",
    "n = ot.Normal(dim)\n",
    "size = 50\n",
    "# 2.1. Increment with several points\n",
    "for i in range(size):\n",
    "    point = n.getRealization()\n",
    "    myMean.increment(point)\n",
    "    myVariance.increment(point)\n",
    "    \n",
    "# myMean.getMean() and myVariance.getMean() should be the same\n",
    "print (\"Iteration \" + str(myVariance.getIteration()))\n",
    "print (myMean.getMean())\n",
    "print (myVariance.getMean())\n",
    "print (myVariance.getStandardDeviation())\n",
    "print (myVariance.getVariance())\n",
    "\n",
    "# 2.2. Increment with one sample\n",
    "sample = n.getSample(size)\n",
    "myMean.increment(sample)\n",
    "myVariance.increment(sample)\n",
    "\n",
    "# myMean.getMean() and myVariance.getMean() should be the same\n",
    "print (\"Iteration \" + str(myVariance.getIteration()))\n",
    "print (myMean.getMean())\n",
    "print (myVariance.getMean())\n",
    "print (myVariance.getStandardDeviation())\n",
    "print (myVariance.getVariance())\n"
   ]
  },
  {
   "cell_type": "code",
   "execution_count": null,
   "metadata": {},
   "outputs": [],
   "source": []
  }
 ],
 "metadata": {
  "kernelspec": {
   "display_name": "Python 3",
   "language": "python",
   "name": "python3"
  },
  "language_info": {
   "codemirror_mode": {
    "name": "ipython",
    "version": 3
   },
   "file_extension": ".py",
   "mimetype": "text/x-python",
   "name": "python",
   "nbconvert_exporter": "python",
   "pygments_lexer": "ipython3",
   "version": "3.6.8"
  }
 },
 "nbformat": 4,
 "nbformat_minor": 2
}
