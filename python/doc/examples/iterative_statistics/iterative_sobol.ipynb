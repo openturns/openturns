{
 "cells": [
  {
   "cell_type": "markdown",
   "metadata": {},
   "source": [
    "# Computing Sobol' indices with iterative algorithms\n",
    "\n",
    "In this example, we show how to estimate Sobol' sensitivity indices using various iterative algorithms. "
   ]
  },
  {
   "cell_type": "code",
   "execution_count": 1,
   "metadata": {},
   "outputs": [],
   "source": [
    "import openturns as ot\n",
    "from math import sqrt"
   ]
  },
  {
   "cell_type": "markdown",
   "metadata": {},
   "source": [
    "We first define the g function. "
   ]
  },
  {
   "cell_type": "code",
   "execution_count": 2,
   "metadata": {},
   "outputs": [],
   "source": [
    "def functionCrue(X) :\n",
    "    Hd = 3.0\n",
    "    Zb = 55.5\n",
    "    L = 5.0e3\n",
    "    B = 300.0\n",
    "    Zd = Zb + Hd\n",
    "    Q, Ks, Zv, Zm = X\n",
    "    alpha = (Zm - Zv)/L\n",
    "    H = (Q/(Ks*B*sqrt(alpha)))**(3.0/5.0)\n",
    "    Zc = H + Zv\n",
    "    S = Zc - Zd\n",
    "    return [S]"
   ]
  },
  {
   "cell_type": "code",
   "execution_count": 3,
   "metadata": {},
   "outputs": [],
   "source": [
    "g = ot.PythonFunction(4, 1, functionCrue)\n",
    "g = ot.MemoizeFunction(g)"
   ]
  },
  {
   "cell_type": "markdown",
   "metadata": {},
   "source": [
    "Then we create the input distribution. "
   ]
  },
  {
   "cell_type": "code",
   "execution_count": 4,
   "metadata": {},
   "outputs": [],
   "source": [
    "myParam = ot.GumbelAB(1013., 558.)\n",
    "Q = ot.ParametrizedDistribution(myParam)\n",
    "otLOW = ot.TruncatedDistribution.LOWER\n",
    "Q = ot.TruncatedDistribution(Q, 0, otLOW)\n",
    "Ks = ot.Normal(30.0, 7.5)\n",
    "Ks = ot.TruncatedDistribution(Ks, 0, otLOW)\n",
    "Zv = ot.Uniform(49.0, 51.0)\n",
    "Zm = ot.Uniform(54.0, 56.0)"
   ]
  },
  {
   "cell_type": "code",
   "execution_count": 5,
   "metadata": {},
   "outputs": [],
   "source": [
    "distribution = ot.ComposedDistribution([Q, Ks, Zv, Zm])"
   ]
  },
  {
   "cell_type": "markdown",
   "metadata": {},
   "source": [
    "## Estimating Sobol' indices with a classical algorithm"
   ]
  },
  {
   "cell_type": "markdown",
   "metadata": {},
   "source": [
    "We now use the `SobolIndicesExperiment` class in order to create the design of experiments required to estimate Sobol' indices. "
   ]
  },
  {
   "cell_type": "code",
   "execution_count": 6,
   "metadata": {},
   "outputs": [],
   "source": [
    "size = 50\n",
    "experiment = ot.SobolIndicesExperiment(distribution, size)\n",
    "inputDesign = experiment.generate()\n",
    "outputDesign = g(inputDesign)"
   ]
  },
  {
   "cell_type": "markdown",
   "metadata": {},
   "source": [
    "Finally, we estimate the Sobol' indices. The first way is to use the classical estimators, which use the full sample. "
   ]
  },
  {
   "cell_type": "code",
   "execution_count": 7,
   "metadata": {},
   "outputs": [],
   "source": [
    "myClassicalSobolStudy = ot.SaltelliSensitivityAlgorithm(inputDesign, outputDesign, size)"
   ]
  },
  {
   "cell_type": "markdown",
   "metadata": {},
   "source": [
    "## The iterative way with Saltelli estimator on a sample"
   ]
  },
  {
   "cell_type": "markdown",
   "metadata": {},
   "source": [
    "The second way is to use iterative estimators. In this case, we use the `incrementIndices` method to update the statistics. In order to make accurate computations, we compute the mean of the sample and update the indices with the centered sample instead of the sample itself. "
   ]
  },
  {
   "cell_type": "code",
   "execution_count": 8,
   "metadata": {},
   "outputs": [],
   "source": [
    "myIterativeSobolStudy = ot.SaltelliSobolIndices(g.getInputDimension(), g.getOutputDimension())\n",
    "muY = outputDesign.computeMean()\n",
    "centeredOutput = outputDesign - muY\n",
    "myIterativeSobolStudy.incrementIndices(centeredOutput)"
   ]
  },
  {
   "cell_type": "markdown",
   "metadata": {},
   "source": [
    "In order to compare the results, we analyse the first order indices. "
   ]
  },
  {
   "cell_type": "code",
   "execution_count": 9,
   "metadata": {},
   "outputs": [
    {
     "name": "stdout",
     "output_type": "stream",
     "text": [
      "[0.694713,0.146827,0.500771,-0.108656]\n",
      "[0.694713,0.146827,0.500771,-0.108656]\n"
     ]
    }
   ],
   "source": [
    "print(myClassicalSobolStudy.getFirstOrderIndices())\n",
    "print(myIterativeSobolStudy.getFirstOrderIndices())"
   ]
  },
  {
   "cell_type": "markdown",
   "metadata": {},
   "source": [
    "Then we analyse the total order indices. "
   ]
  },
  {
   "cell_type": "code",
   "execution_count": 10,
   "metadata": {},
   "outputs": [
    {
     "name": "stdout",
     "output_type": "stream",
     "text": [
      "[0.668586,0.219125,0.204696,0.0220016]\n",
      "[0.668586,0.219125,0.204696,0.0220016]\n"
     ]
    }
   ],
   "source": [
    "print(myClassicalSobolStudy.getTotalOrderIndices())\n",
    "print(myIterativeSobolStudy.getTotalOrderIndices())"
   ]
  },
  {
   "cell_type": "markdown",
   "metadata": {},
   "source": [
    "## Iteratively, with Martinez estimator\n",
    "\n",
    "The main goal of the iterative estimators is to being able to update the estimators iteratively. We show this with Martinez estimator, which has a `incrementIndices` method that can be used to update the statistics when new points are available. "
   ]
  },
  {
   "cell_type": "markdown",
   "metadata": {},
   "source": [
    "In order to compare the results, we use three algorithms: the first is the classical algorithm, which use the two samples in input. "
   ]
  },
  {
   "cell_type": "code",
   "execution_count": 11,
   "metadata": {},
   "outputs": [],
   "source": [
    "size = 50\n",
    "experiment = ot.SobolIndicesExperiment(distribution, size)\n",
    "inputDesign = experiment.generate()\n",
    "outputDesign = g(inputDesign)"
   ]
  },
  {
   "cell_type": "code",
   "execution_count": 12,
   "metadata": {},
   "outputs": [],
   "source": [
    "myClassicalSobolStudy = ot.MartinezSensitivityAlgorithm(inputDesign, outputDesign, size)"
   ]
  },
  {
   "cell_type": "markdown",
   "metadata": {},
   "source": [
    "Then we create an iterative algorithm and update the statistics with sub-samples of smaller size. Notice that the `inputDesign` sample in the nex `for` loop has a size equal to $p+2 = 6$, where $p$ is the input dimension. "
   ]
  },
  {
   "cell_type": "code",
   "execution_count": 13,
   "metadata": {},
   "outputs": [],
   "source": [
    "myIterativeSobolStudy = ot.MartinezSobolIndices(g.getInputDimension(), g.getOutputDimension())"
   ]
  },
  {
   "cell_type": "code",
   "execution_count": 27,
   "metadata": {},
   "outputs": [],
   "source": [
    "for i in range(size):\n",
    "    experiment = ot.SobolIndicesExperiment(distribution, 1)\n",
    "    inputDesign = experiment.generate()\n",
    "    outputDesign = g(inputDesign)\n",
    "    myIterativeSobolStudy.incrementIndices(outputDesign)"
   ]
  },
  {
   "cell_type": "markdown",
   "metadata": {},
   "source": [
    "The last way is to use the all sample in one row. This will perform iterations from the sample. "
   ]
  },
  {
   "cell_type": "code",
   "execution_count": 15,
   "metadata": {},
   "outputs": [],
   "source": [
    "size = 50\n",
    "experiment = ot.SobolIndicesExperiment(distribution, size)\n",
    "inputDesign = experiment.generate()\n",
    "outputDesign = g(inputDesign)"
   ]
  },
  {
   "cell_type": "code",
   "execution_count": 16,
   "metadata": {},
   "outputs": [],
   "source": [
    "myIterativeSobolStudy2 = ot.MartinezSobolIndices(g.getInputDimension(), g.getOutputDimension())"
   ]
  },
  {
   "cell_type": "code",
   "execution_count": 17,
   "metadata": {},
   "outputs": [],
   "source": [
    "myIterativeSobolStudy2.incrementIndices(outputDesign)"
   ]
  },
  {
   "cell_type": "code",
   "execution_count": 18,
   "metadata": {},
   "outputs": [
    {
     "name": "stdout",
     "output_type": "stream",
     "text": [
      "First order\n",
      "[0.411274,0.0149965,0.463373,-0.0133993]\n",
      "[0.647161,0.288891,0.378234,0.226072]\n",
      "[0.466515,0.0937608,0.563812,0.0731924]\n",
      "Total order\n",
      "[0.476846,0.0536844,0.380835,0.00734576]\n",
      "[0.460636,0.102063,0.272097,0.0129882]\n",
      "[0.533196,0.133826,0.496234,0.0140879]\n"
     ]
    }
   ],
   "source": [
    "print(\"First order\")\n",
    "print(myClassicalSobolStudy.getFirstOrderIndices())\n",
    "print(myIterativeSobolStudy.getFirstOrderIndices())\n",
    "print(myIterativeSobolStudy2.getFirstOrderIndices())\n",
    "print(\"Total order\")\n",
    "print(myClassicalSobolStudy.getTotalOrderIndices())\n",
    "print(myIterativeSobolStudy.getTotalOrderIndices())\n",
    "print(myIterativeSobolStudy2.getTotalOrderIndices())"
   ]
  },
  {
   "cell_type": "markdown",
   "metadata": {},
   "source": [
    "## The iterative way with Jansen estimator"
   ]
  },
  {
   "cell_type": "code",
   "execution_count": 19,
   "metadata": {},
   "outputs": [],
   "source": [
    "size = 50\n",
    "experiment = ot.SobolIndicesExperiment(distribution, size)\n",
    "inputDesign = experiment.generate()\n",
    "outputDesign = g(inputDesign)"
   ]
  },
  {
   "cell_type": "code",
   "execution_count": 20,
   "metadata": {},
   "outputs": [],
   "source": [
    "myClassicalSobolStudy = ot.JansenSensitivityAlgorithm(inputDesign, outputDesign, size)\n",
    "myIterativeSobolStudy = ot.JansenSobolIndices(g.getInputDimension(), g.getOutputDimension())\n",
    "myIterativeSobolStudy.incrementIndices(outputDesign)"
   ]
  },
  {
   "cell_type": "code",
   "execution_count": 21,
   "metadata": {},
   "outputs": [
    {
     "name": "stdout",
     "output_type": "stream",
     "text": [
      "First order\n",
      "[0.496628,0.172778,0.303633,-0.0751441]\n",
      "[0.496628,0.172778,0.303633,-0.0751441]\n",
      "Total order\n",
      "[0.451781,0.108939,0.341623,0.00814779]\n",
      "[0.451781,0.108939,0.341623,0.00814779]\n"
     ]
    }
   ],
   "source": [
    "print(\"First order\")\n",
    "print(myClassicalSobolStudy.getFirstOrderIndices())\n",
    "print(myIterativeSobolStudy.getFirstOrderIndices())\n",
    "print(\"Total order\")\n",
    "print(myClassicalSobolStudy.getTotalOrderIndices())\n",
    "print(myIterativeSobolStudy.getTotalOrderIndices())"
   ]
  },
  {
   "cell_type": "markdown",
   "metadata": {},
   "source": [
    "## Iteratively with Mauntz-Kucherenko algorithm"
   ]
  },
  {
   "cell_type": "code",
   "execution_count": 22,
   "metadata": {},
   "outputs": [],
   "source": [
    "size = 50\n",
    "experiment = ot.SobolIndicesExperiment(distribution, size)\n",
    "inputDesign = experiment.generate()\n",
    "outputDesign = g(inputDesign)"
   ]
  },
  {
   "cell_type": "code",
   "execution_count": 23,
   "metadata": {},
   "outputs": [],
   "source": [
    "myClassicalSobolStudy = ot.MauntzKucherenkoSensitivityAlgorithm(inputDesign, outputDesign, size)"
   ]
  },
  {
   "cell_type": "code",
   "execution_count": 24,
   "metadata": {},
   "outputs": [],
   "source": [
    "myIterativeSobolStudy = ot.MauntzKucherenkoSobolIndices(g.getInputDimension(), g.getOutputDimension())\n",
    "muY = outputDesign.computeMean()\n",
    "centeredOutput = outputDesign - muY\n",
    "myIterativeSobolStudy.incrementIndices(centeredOutput)"
   ]
  },
  {
   "cell_type": "code",
   "execution_count": 25,
   "metadata": {},
   "outputs": [
    {
     "name": "stdout",
     "output_type": "stream",
     "text": [
      "First order\n",
      "[0.284793,0.0721401,0.358417,0.0126765]\n",
      "[0.284793,0.0721401,0.358417,0.0126765]\n",
      "Total order\n",
      "[0.533541,0.115447,0.0600174,-0.0209967]\n",
      "[0.533541,0.115447,0.0600174,-0.0209967]\n"
     ]
    }
   ],
   "source": [
    "print(\"First order\")\n",
    "print(myClassicalSobolStudy.getFirstOrderIndices())\n",
    "print(myIterativeSobolStudy.getFirstOrderIndices())\n",
    "print(\"Total order\")\n",
    "print(myClassicalSobolStudy.getTotalOrderIndices())\n",
    "print(myIterativeSobolStudy.getTotalOrderIndices())"
   ]
  }
 ],
 "metadata": {
  "kernelspec": {
   "display_name": "Python 3",
   "language": "python",
   "name": "python3"
  },
  "language_info": {
   "codemirror_mode": {
    "name": "ipython",
    "version": 3
   },
   "file_extension": ".py",
   "mimetype": "text/x-python",
   "name": "python",
   "nbconvert_exporter": "python",
   "pygments_lexer": "ipython3",
   "version": "3.7.5rc1"
  }
 },
 "nbformat": 4,
 "nbformat_minor": 2
}
