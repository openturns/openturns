{
 "cells": [
  {
   "cell_type": "markdown",
   "metadata": {},
   "source": [
    "# Defining Python and symbolic functions: a quick start introduction to functions"
   ]
  },
  {
   "cell_type": "markdown",
   "metadata": {},
   "source": [
    "## Abstract\n",
    "\n",
    "In this example, we show how to define Python and symbolic functions. Such functions can be evaluated by the library and used, for example, to propagate uncertainties. We focus on functions which have a vector input and a vector output."
   ]
  },
  {
   "cell_type": "markdown",
   "metadata": {},
   "source": [
    "## Introduction\n",
    "\n",
    "We consider the following example:\n",
    "\n",
    "* three input variables, \n",
    "* two outputs. \n",
    "\n",
    "Moreover, we assume that the input distribution has independent Gaussian marginals. \n",
    "\n",
    "The function is defined by the equations:\n",
    "$$\n",
    "Y_1 = X_1 + X_2 + X_3\n",
    "$$\n",
    "\n",
    "and \n",
    "\n",
    "$$\n",
    "Y_2 = X_1 - X_2 X_3\n",
    "$$\n",
    "\n",
    "for any $X_1,X_2,X_3\\mathbb{R}$. \n",
    "\n",
    "The exact expectation and standard deviation of the output random variable are presented in the following table.\n",
    "\n",
    "| Variable | Expectation | Standard deviation |\n",
    "|-|-|-|\n",
    "| $Y_1$ | 0 | 1.732 |\n",
    "| $Y_2$ | 0 | 1.415 |\n"
   ]
  },
  {
   "cell_type": "code",
   "execution_count": 1,
   "metadata": {},
   "outputs": [],
   "source": [
    "import openturns as ot"
   ]
  },
  {
   "cell_type": "markdown",
   "metadata": {},
   "source": [
    "We first define the input random vector of the function."
   ]
  },
  {
   "cell_type": "code",
   "execution_count": 2,
   "metadata": {},
   "outputs": [],
   "source": [
    "X0 = ot.Normal(0.,1.)\n",
    "X1 = ot.Normal(0.,1.)\n",
    "X2 = ot.Normal(0.,1.)\n",
    "inputDistribution = ot.ComposedDistribution((X0,X1,X2))\n",
    "inputRandomVector = ot.RandomVector(inputDistribution)"
   ]
  },
  {
   "cell_type": "markdown",
   "metadata": {},
   "source": [
    "## The Python function\n",
    "\n",
    "Based on a Python function defined with the `def` keyword, the `PythonFunction` class creates a function. \n",
    "\n",
    "The simplest constructor of the `PythonFunction` class is:\n",
    "\n",
    "`PythonFunction ( nbInputs , nbOutputs , myPythonFunc )`\n",
    "\n",
    "where\n",
    "\n",
    "* `nbInputs`: the number of inputs, \n",
    "* `nbOutputs`: the number of outputs,\n",
    "* `myPythonFunc`: a Python function.\n",
    "\n",
    "The goal of the `PythonFunction` class are:\n",
    "\n",
    "* to easily create a function in Python,\n",
    "* use all the power of the Python libraries in order to evaluate the function. "
   ]
  },
  {
   "cell_type": "markdown",
   "metadata": {},
   "source": [
    "The function `mySimulator` has the calling sequence `y=mySimulator(x)` where:\n",
    "\n",
    "* `x`: the input of the function, a vector with `nbInputs` dimensions,\n",
    "* `y`: the output of the function, a vector with `nbOutputs` dimensions."
   ]
  },
  {
   "cell_type": "code",
   "execution_count": 3,
   "metadata": {},
   "outputs": [],
   "source": [
    "def mySimulator(x):\n",
    "    y0=x[0]+x[1]+x[2]\n",
    "    y1=x[0]-x[1]*x[2]\n",
    "    y=[y0,y1]\n",
    "    return y"
   ]
  },
  {
   "cell_type": "markdown",
   "metadata": {},
   "source": [
    "We now define the `PythonFunction` object."
   ]
  },
  {
   "cell_type": "code",
   "execution_count": 4,
   "metadata": {},
   "outputs": [],
   "source": [
    "myfunction = ot.PythonFunction (3 ,2 , mySimulator )"
   ]
  },
  {
   "cell_type": "markdown",
   "metadata": {},
   "source": [
    "This function can be evaluated using parentheses. It produces the same outputs as the `mySimulator` function."
   ]
  },
  {
   "cell_type": "code",
   "execution_count": 5,
   "metadata": {},
   "outputs": [
    {
     "data": {
      "text/html": [
       "<p>[6,-5]</p>"
      ],
      "text/plain": [
       "class=Point name=Unnamed dimension=2 values=[6,-5]"
      ]
     },
     "execution_count": 5,
     "metadata": {},
     "output_type": "execute_result"
    }
   ],
   "source": [
    "myfunction([1.,2.,3.])"
   ]
  },
  {
   "cell_type": "markdown",
   "metadata": {},
   "source": [
    "However, the newly created `myfunction` has services that the basic Python function did not have. For example, we can create a `CompositeRandomVector` on top of it, by associating it to the input random vector."
   ]
  },
  {
   "cell_type": "code",
   "execution_count": 6,
   "metadata": {},
   "outputs": [],
   "source": [
    "outputVect =  ot.CompositeRandomVector(myfunction, inputRandomVector)"
   ]
  },
  {
   "cell_type": "markdown",
   "metadata": {},
   "source": [
    "In the following example, we estimate the output mean based on a simple Monte-Carlo experiment using 10000 function evaluations. "
   ]
  },
  {
   "cell_type": "code",
   "execution_count": 7,
   "metadata": {},
   "outputs": [],
   "source": [
    "montecarlosize = 10000\n",
    "outputSample = outputVect.getSample(montecarlosize)"
   ]
  },
  {
   "cell_type": "code",
   "execution_count": 8,
   "metadata": {},
   "outputs": [
    {
     "name": "stdout",
     "output_type": "stream",
     "text": [
      "[-0.0166778,-0.0123527]\n",
      "[1.73359,1.39888]\n"
     ]
    }
   ],
   "source": [
    "empiricalMean = outputSample.computeMean()\n",
    "print(empiricalMean)\n",
    "empiricalSd = outputSample.computeStandardDeviationPerComponent()\n",
    "print(empiricalSd)"
   ]
  },
  {
   "cell_type": "markdown",
   "metadata": {},
   "source": [
    "## What types for x and for y ?\n",
    "\n",
    "Not all types are possible for the inputs and outputs of the `mySimulator` function. The following table present some of the available types. All in all, any type which can be converted to or from a \"vector\" can be managed by the `PythonFunction` class.\n",
    "\n",
    "| Type | Input X | Output Y |\n",
    "|---|---|---|\n",
    "| `list` (Python) | - | ✓ |\n",
    "| `tuple` (Python) | - | ✓ |\n",
    "| `array` (NumPy) | - | ✓ |\n",
    "| `Point` (OpenTURNS) | ✓ | ✓ |\n"
   ]
  },
  {
   "cell_type": "markdown",
   "metadata": {},
   "source": [
    "## The vectorized Python function\n",
    "\n",
    "The `PythonFunction` class has a `func_sample` option which vectorizes the computation so that all the output values in the sample are computed from a single function call, without any `for` loop. To make this possible, the input and output is then a `Sample` instead of a `Point`. This often boosts performance (but not always).\n"
   ]
  },
  {
   "cell_type": "markdown",
   "metadata": {},
   "source": [
    "The calling sequence of a vectorized Python function is:\n",
    "\n",
    "```\n",
    "def mySimulator (x):\n",
    "    [...]\n",
    "    return y\n",
    "\n",
    "myfunction = PythonFunction(nbInputs, nbOutputs, func_sample = mySimulator)\n",
    "```\n",
    "\n",
    "where \n",
    "\n",
    "* x: the input of the function, a `Sample` with size `nbExperiments` (`getSize`) and dimension `nbInputs` (`getDimension`),\n",
    "* y: the output of the function\n",
    "\n",
    "  * a numpy `array` with `nbExperiments` rows and `nbOutputs` columns\n",
    "  * or a `Sample` with size `nbExperiments` and dimension `nbOutputs`"
   ]
  },
  {
   "cell_type": "markdown",
   "metadata": {},
   "source": [
    "In the following, we present an vectorization example based on the `numpy` module."
   ]
  },
  {
   "cell_type": "code",
   "execution_count": 9,
   "metadata": {},
   "outputs": [],
   "source": [
    "import numpy as np"
   ]
  },
  {
   "cell_type": "code",
   "execution_count": 10,
   "metadata": {},
   "outputs": [],
   "source": [
    "def mySimulatorVect (x):\n",
    "    # Convert NumericalSample > Array Numpy\n",
    "    x = np.array (x)\n",
    "    x0 = x[: ,0] # Extract column 0\n",
    "    x1 = x[: ,1]\n",
    "    x2 = x[: ,2]\n",
    "    y0 = x0 + x1 + x2\n",
    "    y1 = x0 - x1 * x2\n",
    "    # Stack the two rows\n",
    "    y = np.vstack ((y0 ,y1 ))\n",
    "    y = y.transpose ()\n",
    "    return y"
   ]
  },
  {
   "cell_type": "code",
   "execution_count": 11,
   "metadata": {},
   "outputs": [],
   "source": [
    "myfunctionVect = ot.PythonFunction (3, 2, func_sample = mySimulatorVect )"
   ]
  },
  {
   "cell_type": "code",
   "execution_count": 12,
   "metadata": {},
   "outputs": [],
   "source": [
    "outputVect =  ot.CompositeRandomVector(myfunctionVect, inputRandomVector)"
   ]
  },
  {
   "cell_type": "code",
   "execution_count": 13,
   "metadata": {},
   "outputs": [
    {
     "name": "stdout",
     "output_type": "stream",
     "text": [
      "[-0.00077008,-0.0165189]\n",
      "[1.74231,1.40859]\n"
     ]
    }
   ],
   "source": [
    "montecarlosize = 10000\n",
    "outputSample = outputVect.getSample(montecarlosize)\n",
    "\n",
    "empiricalMean = outputSample.computeMean()\n",
    "print(empiricalMean)\n",
    "empiricalSd = outputSample.computeStandardDeviationPerComponent()\n",
    "print(empiricalSd)"
   ]
  },
  {
   "cell_type": "markdown",
   "metadata": {},
   "source": [
    "## How to manage the history\n",
    "\n",
    "The `MemoizeFunction` class defines a history system to store the calls to the function.\n",
    "\n",
    "| Methods | Description |\n",
    "|-|-|\n",
    "| `enableHistory()` | enables the history (it is enabled by default) |\n",
    "| `disableHistory()` | disables the history |\n",
    "| `clearHistory()` | deletes the content of the history |\n",
    "| `getHistoryInput()` | a `Sample`, the history of inputs X |\n",
    "| `getHistoryOutput()` | a `Sample`, the history of outputs Y |"
   ]
  },
  {
   "cell_type": "code",
   "execution_count": 14,
   "metadata": {},
   "outputs": [],
   "source": [
    "myfunction = ot.PythonFunction (3 ,2 , mySimulator )\n",
    "myfunction = ot.MemoizeFunction(myfunction)"
   ]
  },
  {
   "cell_type": "code",
   "execution_count": 15,
   "metadata": {},
   "outputs": [],
   "source": [
    "outputVariableOfInterest =  ot.CompositeRandomVector(myfunction, inputRandomVector)\n",
    "montecarlosize = 10\n",
    "outputSample = outputVariableOfInterest.getSample(montecarlosize)"
   ]
  },
  {
   "cell_type": "markdown",
   "metadata": {},
   "source": [
    "Get the history of input points."
   ]
  },
  {
   "cell_type": "code",
   "execution_count": 16,
   "metadata": {},
   "outputs": [
    {
     "data": {
      "text/html": [
       "<TABLE><TR><TD></TD><TH>v0</TH><TH>v1</TH><TH>v2</TH></TR>\n",
       "<TR><TD>0</TD><TD>-0.3426049407409974</TD><TD>-0.689636966867791</TD><TD>1.2430871864340118</TD></TR>\n",
       "<TR><TD>1</TD><TD>-2.1386534433938884</TD><TD>-1.4635227971736484</TD><TD>1.1026255045622082</TD></TR>\n",
       "<TR><TD>2</TD><TD>-0.6212716527604203</TD><TD>0.05683584819327807</TD><TD>-1.0104143995758796</TD></TR>\n",
       "<TR><TD>3</TD><TD>0.14094582372870545</TD><TD>0.5532786246426022</TD><TD>0.6904336896063326</TD></TR>\n",
       "<TR><TD>4</TD><TD>0.3056622172571174</TD><TD>-1.1365049525644593</TD><TD>1.692226509358007</TD></TR>\n",
       "<TR><TD>5</TD><TD>-1.5187990569006284</TD><TD>0.9695327429694076</TD><TD>-1.7656395366104742</TD></TR>\n",
       "<TR><TD>6</TD><TD>1.8603263783642712</TD><TD>1.2148796338903316</TD><TD>0.812872250567669</TD></TR>\n",
       "<TR><TD>7</TD><TD>0.32770564349706716</TD><TD>-0.6888171650020032</TD><TD>-2.011791373087136</TD></TR>\n",
       "<TR><TD>8</TD><TD>-0.39528325564911987</TD><TD>1.841280936503913</TD><TD>-1.3685050979414375</TD></TR>\n",
       "<TR><TD>9</TD><TD>0.45610178231733167</TD><TD>-0.1313743068548495</TD><TD>0.572819632121423</TD></TR>\n",
       "</TABLE>"
      ],
      "text/plain": [
       "class=Sample name=Unnamed implementation=class=SampleImplementation name=Unnamed size=10 dimension=3 data=[[-0.342605,-0.689637,1.24309],[-2.13865,-1.46352,1.10263],[-0.621272,0.0568358,-1.01041],[0.140946,0.553279,0.690434],[0.305662,-1.1365,1.69223],[-1.5188,0.969533,-1.76564],[1.86033,1.21488,0.812872],[0.327706,-0.688817,-2.01179],[-0.395283,1.84128,-1.36851],[0.456102,-0.131374,0.57282]]"
      ]
     },
     "execution_count": 16,
     "metadata": {},
     "output_type": "execute_result"
    }
   ],
   "source": [
    "inputs = myfunction.getInputHistory()\n",
    "inputs"
   ]
  },
  {
   "cell_type": "markdown",
   "metadata": {},
   "source": [
    "## Symbolic functions\n",
    "\n",
    "The `SymbolicFunction` class can create symbolic functions whenever the function is simple enough to be expressed as a string.\n",
    "\n",
    "This has at least two significant advantages.\n",
    "\n",
    "* It generally improves the performance. \n",
    "* This allows to automatically evaluate the exact gradient and Hessian matrix. \n",
    "\n",
    "In practice, some functions cannot be expressed as a symbolic function: in this case, the Python function cannot be avoided."
   ]
  },
  {
   "cell_type": "markdown",
   "metadata": {},
   "source": [
    "The calling sequence is the following:\n",
    "\n",
    "`\n",
    "myfunction = SymbolicFunction( list_of_inputs, list_of_formulas)\n",
    "`\n",
    "\n",
    "where\n",
    "\n",
    "* list_of_inputs: a `list` of `nbInputs` strings, the names of the input variables, \n",
    "* list_of_formulas: a `list` of `nbOutputs` strings, the equations."
   ]
  },
  {
   "cell_type": "code",
   "execution_count": 17,
   "metadata": {},
   "outputs": [],
   "source": [
    "myfunction = ot.SymbolicFunction((\"x0\",\"x1\",\"x2\"),(\"x0 + x1 + x2\",\"x0 - x1 * x2\"))"
   ]
  },
  {
   "cell_type": "markdown",
   "metadata": {},
   "source": [
    "A `SymbolicFunction`, like any other function, can also have a history."
   ]
  },
  {
   "cell_type": "code",
   "execution_count": 18,
   "metadata": {},
   "outputs": [],
   "source": [
    "myfunction = ot.MemoizeFunction(myfunction)"
   ]
  },
  {
   "cell_type": "code",
   "execution_count": 19,
   "metadata": {},
   "outputs": [],
   "source": [
    "outputVect =  ot.CompositeRandomVector(myfunction, inputRandomVector)"
   ]
  },
  {
   "cell_type": "code",
   "execution_count": 20,
   "metadata": {},
   "outputs": [
    {
     "name": "stdout",
     "output_type": "stream",
     "text": [
      "[-0.000337898,-0.00609942]\n"
     ]
    }
   ],
   "source": [
    "montecarlosize = 10000\n",
    "outputSample = outputVect.getSample(montecarlosize)\n",
    "empiricalMean = outputSample.computeMean()\n",
    "print(empiricalMean)"
   ]
  },
  {
   "cell_type": "markdown",
   "metadata": {},
   "source": [
    "Since the history is enabled, we can get the history of outputs of the function."
   ]
  },
  {
   "cell_type": "code",
   "execution_count": 21,
   "metadata": {
    "scrolled": true
   },
   "outputs": [
    {
     "data": {
      "text/html": [
       "<TABLE><TR><TD></TD><TH>v0</TH><TH>v1</TH></TR>\n",
       "<TR><TD>0</TD><TD>0.835068449085645</TD><TD>0.6082917234676658</TD></TR>\n",
       "<TR><TD>1</TD><TD>-1.5331063675958376</TD><TD>-0.3603107009663977</TD></TR>\n",
       "<TR><TD>2</TD><TD>0.3294989655386499</TD><TD>-0.5302618334408122</TD></TR>\n",
       "<TR><TD>3</TD><TD>1.6977751892527135</TD><TD>0.09262297601997455</TD></TR>\n",
       "<TR><TD>4</TD><TD>1.0671706780737071</TD><TD>-0.7204318270150004</TD></TR>\n",
       "<TR><TD>5</TD><TD>-0.3294656311476475</TD><TD>-0.043150705383642796</TD></TR>\n",
       "<TR><TD>6</TD><TD>-1.4948567574549438</TD><TD>-0.45129933759593865</TD></TR>\n",
       "<TR><TD>7</TD><TD>1.094295564406751</TD><TD>1.9061369435653874</TD></TR>\n",
       "<TR><TD>8</TD><TD>0.32610650078173403</TD><TD>0.14681166047125288</TD></TR>\n",
       "</TABLE>"
      ],
      "text/plain": [
       "class=Sample name=Unnamed implementation=class=SampleImplementation name=Unnamed size=9 dimension=2 description=[v0,v1] data=[[0.835068,0.608292],[-1.53311,-0.360311],[0.329499,-0.530262],[1.69778,0.092623],[1.06717,-0.720432],[-0.329466,-0.0431507],[-1.49486,-0.451299],[1.0943,1.90614],[0.326107,0.146812]]"
      ]
     },
     "execution_count": 21,
     "metadata": {},
     "output_type": "execute_result"
    }
   ],
   "source": [
    "outputs = myfunction.getOutputHistory()\n",
    "outputs[1:10,:]"
   ]
  }
 ],
 "metadata": {
  "kernelspec": {
   "display_name": "Python 3",
   "language": "python",
   "name": "python3"
  },
  "language_info": {
   "codemirror_mode": {
    "name": "ipython",
    "version": 3
   },
   "file_extension": ".py",
   "mimetype": "text/x-python",
   "name": "python",
   "nbconvert_exporter": "python",
   "pygments_lexer": "ipython3",
   "version": "3.7.4"
  }
 },
 "nbformat": 4,
 "nbformat_minor": 2
}
