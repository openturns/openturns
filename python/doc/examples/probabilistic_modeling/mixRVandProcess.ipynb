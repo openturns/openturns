{
 "cells": [
  {
   "cell_type": "markdown",
   "metadata": {},
   "source": [
    "# Create a process from random vectors and processes\n",
    "\n",
    "The objective is to create a process defined from a random vector and a process.\n",
    "\n",
    "We consider the following limit state function, defined as the difference between a degrading resistance $r(t) = R - bt$  and a time-varying load $S(t)$:\n",
    "\\begin{align*}\n",
    "g(t)= r(t) - S(t) = R - bt - S(t)\n",
    "\\end{align*}\n",
    "We propose the following probabilistic model: \n",
    "- $R$ is the initial resistance, and $R \\sim \\mathcal{N}(\\mu_R, \\sigma_R)$;   \n",
    "- $b$ is the deterioration rate of the resistance; it is deterministic; \n",
    "- $S(t)$ is the time-varying stress, which is modeled by a stationary Gaussian process of mean value $\\mu_S$, standard deviation $\\sigma_S$ and a squared exponential covariance model;\n",
    "- $t$ is the time, varying in $[0,T]$."
   ]
  },
  {
   "cell_type": "markdown",
   "metadata": {},
   "source": [
    "First, import the python modules: "
   ]
  },
  {
   "cell_type": "code",
   "execution_count": 2,
   "metadata": {},
   "outputs": [],
   "source": [
    "from  openturns import *\n",
    "from openturns.viewer import View\n",
    "from math import *"
   ]
  },
  {
   "cell_type": "markdown",
   "metadata": {},
   "source": [
    "## 1. Create the gaussian process $(\\omega, t) \\rightarrow S(\\omega,t)$"
   ]
  },
  {
   "cell_type": "markdown",
   "metadata": {},
   "source": [
    "Create the mesh which is a regular grid on $[0,T]$, with $T=50$, by step =1:"
   ]
  },
  {
   "cell_type": "code",
   "execution_count": 6,
   "metadata": {},
   "outputs": [],
   "source": [
    "b = 0.01\n",
    "t0 = 0.0\n",
    "step = 1\n",
    "tfin = 50\n",
    "n = round((tfin-t0)/step)\n",
    "myMesh = RegularGrid(t0, step, n)"
   ]
  },
  {
   "cell_type": "markdown",
   "metadata": {},
   "source": [
    "Create the squared exeponential covariance model: \n",
    "$$\n",
    "C(s,t) = \\sigma^2e^{-\\frac{1}{2} \\left( \\dfrac{s-t}{l} \\right)^2}\n",
    "$$\n",
    "where the scale parameter is $l=\\frac{10}{\\sqrt{2}}$ and the amplitude $\\sigma = 1$."
   ]
  },
  {
   "cell_type": "code",
   "execution_count": 7,
   "metadata": {},
   "outputs": [
    {
     "name": "stdout",
     "output_type": "stream",
     "text": [
      "cov model =  SquaredExponential(scale=[7.07107], amplitude=[1])\n"
     ]
    }
   ],
   "source": [
    "l = 10/sqrt(2)\n",
    "myCovKernel = SquaredExponential([l])\n",
    "print('cov model = ', myCovKernel)"
   ]
  },
  {
   "cell_type": "markdown",
   "metadata": {},
   "source": [
    "Create the gaussian process $S(t)$:"
   ]
  },
  {
   "cell_type": "code",
   "execution_count": 8,
   "metadata": {},
   "outputs": [],
   "source": [
    "S_proc = GaussianProcess(myCovKernel, myMesh)"
   ]
  },
  {
   "cell_type": "markdown",
   "metadata": {},
   "source": [
    "Create the output random vector $Y = g(X)$:"
   ]
  },
  {
   "cell_type": "code",
   "execution_count": 5,
   "metadata": {},
   "outputs": [],
   "source": [
    "Y = CompositeRandomVector(g,X)"
   ]
  },
  {
   "cell_type": "markdown",
   "metadata": {},
   "source": [
    "## 2. Create the process $(\\omega, t) \\rightarrow R(\\omega)-bt$"
   ]
  },
  {
   "cell_type": "markdown",
   "metadata": {},
   "source": [
    "First, create the random variable $R \\sim \\mathcal{N}(\\mu_R, \\sigma_R)$, with $\\mu_R = 5$ and $\\sigma_R = 0.3$:"
   ]
  },
  {
   "cell_type": "code",
   "execution_count": 14,
   "metadata": {},
   "outputs": [],
   "source": [
    "muR = 5\n",
    "sigR = 0.3\n",
    "R = Normal(muR, sigR)"
   ]
  },
  {
   "cell_type": "markdown",
   "metadata": {},
   "source": [
    "The create the Dirac random variable $B = b$:"
   ]
  },
  {
   "cell_type": "code",
   "execution_count": 15,
   "metadata": {},
   "outputs": [],
   "source": [
    "B = Dirac(b)"
   ]
  },
  {
   "cell_type": "markdown",
   "metadata": {},
   "source": [
    "Then create the process $(\\omega, t) \\rightarrow R(\\omega)-bt$ using the $FunctionalBasisProcess$ class and the functional basis :$\\phi_1 : t \\rightarrow 1$ and $\\phi_2: -t \\rightarrow t$ : \n",
    "$$\n",
    "R(\\omega)-bt = R(\\omega)\\phi_1(t) + B(\\omega) \\phi_2(t)\n",
    "$$\n",
    "with $(R,B)$ independent."
   ]
  },
  {
   "cell_type": "code",
   "execution_count": 21,
   "metadata": {},
   "outputs": [],
   "source": [
    "const_func = SymbolicFunction(['t'], ['1'])\n",
    "linear_func = SymbolicFunction(['t'], ['-t'])\n",
    "myBasis = Basis([const_func, linear_func])\n",
    "\n",
    "coef = ComposedDistribution([R, B])\n",
    "\n",
    "R_proc = FunctionalBasisProcess(coef, myBasis, myMesh)"
   ]
  },
  {
   "cell_type": "markdown",
   "metadata": {},
   "source": [
    "## 3. Create the process $Z: (\\omega, t) \\rightarrow R(\\omega)-bt + S(\\omega, t)$"
   ]
  },
  {
   "cell_type": "markdown",
   "metadata": {},
   "source": [
    "First, aggregate both processes into one process of dimension 2: $(R_{proc}, S_{proc})$"
   ]
  },
  {
   "cell_type": "code",
   "execution_count": 22,
   "metadata": {},
   "outputs": [],
   "source": [
    "myRS_proc = AggregatedProcess([R_proc, S_proc])"
   ]
  },
  {
   "cell_type": "markdown",
   "metadata": {},
   "source": [
    "Then create the spatial field function that acts only on the values of the process, keeping the mesh unchanged, using the *ValueFunction* class. \n",
    "We define the function $g$ on $\\mathbb{R}^2$ by:\n",
    "$$\n",
    "g(x,y) = x-y\n",
    "$$\n",
    "in order to define the spatial field function $g_{dyn}$ that acts on fields, defined by: \n",
    "$$\n",
    "\\forall t\\in [0,T], g_{dyn}(X(\\omega, t), Y(\\omega, t)) = X(\\omega, t) - Y(\\omega, t)\n",
    "$$"
   ]
  },
  {
   "cell_type": "code",
   "execution_count": 24,
   "metadata": {},
   "outputs": [],
   "source": [
    "g = SymbolicFunction(['x1', 'x2'], ['x1-x2'])\n",
    "gDyn = ValueFunction(g, myMesh)"
   ]
  },
  {
   "cell_type": "markdown",
   "metadata": {},
   "source": [
    "Now you have to create the final process $Z$ thanks to $g_{dyn}$:"
   ]
  },
  {
   "cell_type": "code",
   "execution_count": 25,
   "metadata": {},
   "outputs": [],
   "source": [
    "Z_proc = CompositeProcess(gDyn, myRS_proc)"
   ]
  },
  {
   "cell_type": "markdown",
   "metadata": {},
   "source": [
    "## 4. Draw some realizations of the process"
   ]
  },
  {
   "cell_type": "code",
   "execution_count": 30,
   "metadata": {},
   "outputs": [
    {
     "data": {
      "image/png": "[encoded data removed]",
      "text/plain": [
       "<Figure size 432x288 with 1 Axes>"
      ]
     },
     "metadata": {
      "needs_background": "light"
     },
     "output_type": "display_data"
    }
   ],
   "source": [
    "N=10\n",
    "sampleZ_proc = Z_proc.getSample(N)\n",
    "graph = sampleZ_proc.drawMarginal(0)\n",
    "graph.setTitle(r'Some realizationss of $Z(\\omega, t)$')\n",
    "\n",
    "Show(graph)"
   ]
  },
  {
   "cell_type": "markdown",
   "metadata": {},
   "source": [
    "## 5. Evaluate the probability that $Z(\\omega, t) \\in \\mathcal{D}$"
   ]
  },
  {
   "cell_type": "markdown",
   "metadata": {},
   "source": [
    "We define the domaine $\\mathcal{D} = [2,4]$ and the event $Z(\\omega, t) \\in \\mathcal{D}$:"
   ]
  },
  {
   "cell_type": "code",
   "execution_count": 34,
   "metadata": {},
   "outputs": [
    {
     "name": "stdout",
     "output_type": "stream",
     "text": [
      "D =  [2, 4]\n"
     ]
    }
   ],
   "source": [
    "domain = Interval([2], [4])\n",
    "print('D = ', domain)\n",
    "event = ProcessEvent(Z_proc, domain)"
   ]
  },
  {
   "cell_type": "markdown",
   "metadata": {},
   "source": [
    "We use the Monte Carlo sampling to evaluate the probability:"
   ]
  },
  {
   "cell_type": "code",
   "execution_count": 36,
   "metadata": {},
   "outputs": [
    {
     "name": "stdout",
     "output_type": "stream",
     "text": [
      "Probability =  0.7554545454545455\n",
      "Variance Estimate =  5.6542634796078274e-05\n",
      "IC (90%) = [ 0.7430860954526318 ,  0.7678229954564592 ]\n"
     ]
    }
   ],
   "source": [
    "MC_algo = ProbabilitySimulationAlgorithm(event)\n",
    "MC_algo.setMaximumOuterSampling(1000000)\n",
    "MC_algo.setBlockSize(100)\n",
    "MC_algo.setMaximumCoefficientOfVariation(0.01)\n",
    "MC_algo.run()\n",
    "\n",
    "result = MC_algo.getResult()\n",
    "\n",
    "proba = result.getProbabilityEstimate()\n",
    "print('Probability = ', proba)\n",
    "variance =  result.getVarianceEstimate()\n",
    "print('Variance Estimate = ', variance)\n",
    "IC90_low = proba- result.getConfidenceLength(0.90)/2\n",
    "IC90_upp = proba + result.getConfidenceLength(0.90)/2\n",
    "print('IC (90%) = [', IC90_low, ', ', IC90_upp, ']')"
   ]
  }
 ],
 "metadata": {
  "kernelspec": {
   "display_name": "Python 3",
   "language": "python",
   "name": "python3"
  },
  "language_info": {
   "codemirror_mode": {
    "name": "ipython",
    "version": 3
   },
   "file_extension": ".py",
   "mimetype": "text/x-python",
   "name": "python",
   "nbconvert_exporter": "python",
   "pygments_lexer": "ipython3",
   "version": "3.7.6"
  }
 },
 "nbformat": 4,
 "nbformat_minor": 2
}
